{
 "cells": [
  {
   "cell_type": "markdown",
   "metadata": {},
   "source": [
    "# Исследование объявлений о продаже квартир\n",
    "\n",
    "В распоряжении данные сервиса Яндекс.Недвижимость — архив объявлений о продаже квартир в Санкт-Петербурге и соседних населённых пунктов за несколько лет. Определим рыночную стоимость объектов недвижимости. Поставленная задача — установить параметры. Это позволит построить автоматизированную систему: она отследит аномалии и мошенническую деятельность. \n",
    "\n",
    "По каждой квартире на продажу доступны два вида данных. Первые вписаны пользователем, вторые — получены автоматически на основе картографических данных. Например, расстояние до центра, аэропорта, ближайшего парка и водоёма. "
   ]
  },
  {
   "cell_type": "markdown",
   "metadata": {},
   "source": [
    "Описание данных:\n",
    "* airports_nearest — расстояние до ближайшего аэропорта в метрах (м)\n",
    "* balcony — число балконов\n",
    "* ceiling_height — высота потолков (м)\n",
    "* cityCenters_nearest — расстояние до центра города (м)\n",
    "* days_exposition — сколько дней было размещено объявление (от публикации до снятия)\n",
    "* first_day_exposition — дата публикации\n",
    "* floor — этаж\n",
    "* floors_total — всего этажей в доме\n",
    "* is_apartment — апартаменты (булев тип)\n",
    "* kitchen_area — площадь кухни в квадратных метрах (м²)\n",
    "* last_price — цена на момент снятия с публикации\n",
    "* living_area — жилая площадь в квадратных метрах(м²)\n",
    "* locality_name — название населённого пункта\n",
    "* open_plan — свободная планировка (булев тип)\n",
    "* parks_around3000 — число парков в радиусе 3 км\n",
    "* parks_nearest — расстояние до ближайшего парка (м)\n",
    "* ponds_around3000 — число водоёмов в радиусе 3 км\n",
    "* ponds_nearest — расстояние до ближайшего водоёма (м)\n",
    "* rooms — число комнат\n",
    "* studio — квартира-студия (булев тип)\n",
    "* total_area — площадь квартиры в квадратных метрах (м²)\n",
    "* total_images — число фотографий квартиры в объявлении\n",
    "\n",
    "Пояснение: апартаменты — это нежилые помещения, не относящиеся к жилому фонду, но имеющие необходимые условия для проживания."
   ]
  },
  {
   "cell_type": "markdown",
   "metadata": {},
   "source": [
    "Я планирую изучить и предобработать входные данные, затем, уже на очищенных данных, построить сводные таблицы, графики, чтобы ответить на поставленный вопрос."
   ]
  },
  {
   "cell_type": "markdown",
   "metadata": {},
   "source": [
    "### Шаг 1. Изучим общую информацию. "
   ]
  },
  {
   "cell_type": "code",
   "execution_count": 2,
   "metadata": {},
   "outputs": [],
   "source": [
    "import pandas as pd\n",
    "from collections import Counter\n",
    "from nltk.stem import SnowballStemmer \n",
    "import datetime\n",
    "import numpy as np\n",
    "import matplotlib.pyplot as plt\n",
    "from pymystem3 import Mystem"
   ]
  },
  {
   "cell_type": "code",
   "execution_count": 3,
   "metadata": {},
   "outputs": [],
   "source": [
    "m = Mystem()"
   ]
  },
  {
   "cell_type": "code",
   "execution_count": 4,
   "metadata": {},
   "outputs": [],
   "source": [
    "flats = pd.read_csv('/datasets/real_estate_data.csv', sep='\\t')"
   ]
  },
  {
   "cell_type": "code",
   "execution_count": 5,
   "metadata": {},
   "outputs": [
    {
     "data": {
      "text/html": [
       "<div>\n",
       "<style scoped>\n",
       "    .dataframe tbody tr th:only-of-type {\n",
       "        vertical-align: middle;\n",
       "    }\n",
       "\n",
       "    .dataframe tbody tr th {\n",
       "        vertical-align: top;\n",
       "    }\n",
       "\n",
       "    .dataframe thead th {\n",
       "        text-align: right;\n",
       "    }\n",
       "</style>\n",
       "<table border=\"1\" class=\"dataframe\">\n",
       "  <thead>\n",
       "    <tr style=\"text-align: right;\">\n",
       "      <th></th>\n",
       "      <th>total_images</th>\n",
       "      <th>last_price</th>\n",
       "      <th>total_area</th>\n",
       "      <th>first_day_exposition</th>\n",
       "      <th>rooms</th>\n",
       "      <th>ceiling_height</th>\n",
       "      <th>floors_total</th>\n",
       "      <th>living_area</th>\n",
       "      <th>floor</th>\n",
       "      <th>is_apartment</th>\n",
       "      <th>...</th>\n",
       "      <th>kitchen_area</th>\n",
       "      <th>balcony</th>\n",
       "      <th>locality_name</th>\n",
       "      <th>airports_nearest</th>\n",
       "      <th>cityCenters_nearest</th>\n",
       "      <th>parks_around3000</th>\n",
       "      <th>parks_nearest</th>\n",
       "      <th>ponds_around3000</th>\n",
       "      <th>ponds_nearest</th>\n",
       "      <th>days_exposition</th>\n",
       "    </tr>\n",
       "  </thead>\n",
       "  <tbody>\n",
       "    <tr>\n",
       "      <td>0</td>\n",
       "      <td>20</td>\n",
       "      <td>13000000.0</td>\n",
       "      <td>108.00</td>\n",
       "      <td>2019-03-07T00:00:00</td>\n",
       "      <td>3</td>\n",
       "      <td>2.70</td>\n",
       "      <td>16.0</td>\n",
       "      <td>51.00</td>\n",
       "      <td>8</td>\n",
       "      <td>NaN</td>\n",
       "      <td>...</td>\n",
       "      <td>25.00</td>\n",
       "      <td>NaN</td>\n",
       "      <td>Санкт-Петербург</td>\n",
       "      <td>18863.0</td>\n",
       "      <td>16028.0</td>\n",
       "      <td>1.0</td>\n",
       "      <td>482.0</td>\n",
       "      <td>2.0</td>\n",
       "      <td>755.0</td>\n",
       "      <td>NaN</td>\n",
       "    </tr>\n",
       "    <tr>\n",
       "      <td>1</td>\n",
       "      <td>7</td>\n",
       "      <td>3350000.0</td>\n",
       "      <td>40.40</td>\n",
       "      <td>2018-12-04T00:00:00</td>\n",
       "      <td>1</td>\n",
       "      <td>NaN</td>\n",
       "      <td>11.0</td>\n",
       "      <td>18.60</td>\n",
       "      <td>1</td>\n",
       "      <td>NaN</td>\n",
       "      <td>...</td>\n",
       "      <td>11.00</td>\n",
       "      <td>2.0</td>\n",
       "      <td>посёлок Шушары</td>\n",
       "      <td>12817.0</td>\n",
       "      <td>18603.0</td>\n",
       "      <td>0.0</td>\n",
       "      <td>NaN</td>\n",
       "      <td>0.0</td>\n",
       "      <td>NaN</td>\n",
       "      <td>81.0</td>\n",
       "    </tr>\n",
       "    <tr>\n",
       "      <td>2</td>\n",
       "      <td>10</td>\n",
       "      <td>5196000.0</td>\n",
       "      <td>56.00</td>\n",
       "      <td>2015-08-20T00:00:00</td>\n",
       "      <td>2</td>\n",
       "      <td>NaN</td>\n",
       "      <td>5.0</td>\n",
       "      <td>34.30</td>\n",
       "      <td>4</td>\n",
       "      <td>NaN</td>\n",
       "      <td>...</td>\n",
       "      <td>8.30</td>\n",
       "      <td>0.0</td>\n",
       "      <td>Санкт-Петербург</td>\n",
       "      <td>21741.0</td>\n",
       "      <td>13933.0</td>\n",
       "      <td>1.0</td>\n",
       "      <td>90.0</td>\n",
       "      <td>2.0</td>\n",
       "      <td>574.0</td>\n",
       "      <td>558.0</td>\n",
       "    </tr>\n",
       "    <tr>\n",
       "      <td>3</td>\n",
       "      <td>0</td>\n",
       "      <td>64900000.0</td>\n",
       "      <td>159.00</td>\n",
       "      <td>2015-07-24T00:00:00</td>\n",
       "      <td>3</td>\n",
       "      <td>NaN</td>\n",
       "      <td>14.0</td>\n",
       "      <td>NaN</td>\n",
       "      <td>9</td>\n",
       "      <td>NaN</td>\n",
       "      <td>...</td>\n",
       "      <td>NaN</td>\n",
       "      <td>0.0</td>\n",
       "      <td>Санкт-Петербург</td>\n",
       "      <td>28098.0</td>\n",
       "      <td>6800.0</td>\n",
       "      <td>2.0</td>\n",
       "      <td>84.0</td>\n",
       "      <td>3.0</td>\n",
       "      <td>234.0</td>\n",
       "      <td>424.0</td>\n",
       "    </tr>\n",
       "    <tr>\n",
       "      <td>4</td>\n",
       "      <td>2</td>\n",
       "      <td>10000000.0</td>\n",
       "      <td>100.00</td>\n",
       "      <td>2018-06-19T00:00:00</td>\n",
       "      <td>2</td>\n",
       "      <td>3.03</td>\n",
       "      <td>14.0</td>\n",
       "      <td>32.00</td>\n",
       "      <td>13</td>\n",
       "      <td>NaN</td>\n",
       "      <td>...</td>\n",
       "      <td>41.00</td>\n",
       "      <td>NaN</td>\n",
       "      <td>Санкт-Петербург</td>\n",
       "      <td>31856.0</td>\n",
       "      <td>8098.0</td>\n",
       "      <td>2.0</td>\n",
       "      <td>112.0</td>\n",
       "      <td>1.0</td>\n",
       "      <td>48.0</td>\n",
       "      <td>121.0</td>\n",
       "    </tr>\n",
       "    <tr>\n",
       "      <td>5</td>\n",
       "      <td>10</td>\n",
       "      <td>2890000.0</td>\n",
       "      <td>30.40</td>\n",
       "      <td>2018-09-10T00:00:00</td>\n",
       "      <td>1</td>\n",
       "      <td>NaN</td>\n",
       "      <td>12.0</td>\n",
       "      <td>14.40</td>\n",
       "      <td>5</td>\n",
       "      <td>NaN</td>\n",
       "      <td>...</td>\n",
       "      <td>9.10</td>\n",
       "      <td>NaN</td>\n",
       "      <td>городской посёлок Янино-1</td>\n",
       "      <td>NaN</td>\n",
       "      <td>NaN</td>\n",
       "      <td>NaN</td>\n",
       "      <td>NaN</td>\n",
       "      <td>NaN</td>\n",
       "      <td>NaN</td>\n",
       "      <td>55.0</td>\n",
       "    </tr>\n",
       "    <tr>\n",
       "      <td>6</td>\n",
       "      <td>6</td>\n",
       "      <td>3700000.0</td>\n",
       "      <td>37.30</td>\n",
       "      <td>2017-11-02T00:00:00</td>\n",
       "      <td>1</td>\n",
       "      <td>NaN</td>\n",
       "      <td>26.0</td>\n",
       "      <td>10.60</td>\n",
       "      <td>6</td>\n",
       "      <td>NaN</td>\n",
       "      <td>...</td>\n",
       "      <td>14.40</td>\n",
       "      <td>1.0</td>\n",
       "      <td>посёлок Парголово</td>\n",
       "      <td>52996.0</td>\n",
       "      <td>19143.0</td>\n",
       "      <td>0.0</td>\n",
       "      <td>NaN</td>\n",
       "      <td>0.0</td>\n",
       "      <td>NaN</td>\n",
       "      <td>155.0</td>\n",
       "    </tr>\n",
       "    <tr>\n",
       "      <td>7</td>\n",
       "      <td>5</td>\n",
       "      <td>7915000.0</td>\n",
       "      <td>71.60</td>\n",
       "      <td>2019-04-18T00:00:00</td>\n",
       "      <td>2</td>\n",
       "      <td>NaN</td>\n",
       "      <td>24.0</td>\n",
       "      <td>NaN</td>\n",
       "      <td>22</td>\n",
       "      <td>NaN</td>\n",
       "      <td>...</td>\n",
       "      <td>18.90</td>\n",
       "      <td>2.0</td>\n",
       "      <td>Санкт-Петербург</td>\n",
       "      <td>23982.0</td>\n",
       "      <td>11634.0</td>\n",
       "      <td>0.0</td>\n",
       "      <td>NaN</td>\n",
       "      <td>0.0</td>\n",
       "      <td>NaN</td>\n",
       "      <td>NaN</td>\n",
       "    </tr>\n",
       "    <tr>\n",
       "      <td>8</td>\n",
       "      <td>20</td>\n",
       "      <td>2900000.0</td>\n",
       "      <td>33.16</td>\n",
       "      <td>2018-05-23T00:00:00</td>\n",
       "      <td>1</td>\n",
       "      <td>NaN</td>\n",
       "      <td>27.0</td>\n",
       "      <td>15.43</td>\n",
       "      <td>26</td>\n",
       "      <td>NaN</td>\n",
       "      <td>...</td>\n",
       "      <td>8.81</td>\n",
       "      <td>NaN</td>\n",
       "      <td>посёлок Мурино</td>\n",
       "      <td>NaN</td>\n",
       "      <td>NaN</td>\n",
       "      <td>NaN</td>\n",
       "      <td>NaN</td>\n",
       "      <td>NaN</td>\n",
       "      <td>NaN</td>\n",
       "      <td>189.0</td>\n",
       "    </tr>\n",
       "    <tr>\n",
       "      <td>9</td>\n",
       "      <td>18</td>\n",
       "      <td>5400000.0</td>\n",
       "      <td>61.00</td>\n",
       "      <td>2017-02-26T00:00:00</td>\n",
       "      <td>3</td>\n",
       "      <td>2.50</td>\n",
       "      <td>9.0</td>\n",
       "      <td>43.60</td>\n",
       "      <td>7</td>\n",
       "      <td>NaN</td>\n",
       "      <td>...</td>\n",
       "      <td>6.50</td>\n",
       "      <td>2.0</td>\n",
       "      <td>Санкт-Петербург</td>\n",
       "      <td>50898.0</td>\n",
       "      <td>15008.0</td>\n",
       "      <td>0.0</td>\n",
       "      <td>NaN</td>\n",
       "      <td>0.0</td>\n",
       "      <td>NaN</td>\n",
       "      <td>289.0</td>\n",
       "    </tr>\n",
       "  </tbody>\n",
       "</table>\n",
       "<p>10 rows × 22 columns</p>\n",
       "</div>"
      ],
      "text/plain": [
       "   total_images  last_price  total_area first_day_exposition  rooms  \\\n",
       "0            20  13000000.0      108.00  2019-03-07T00:00:00      3   \n",
       "1             7   3350000.0       40.40  2018-12-04T00:00:00      1   \n",
       "2            10   5196000.0       56.00  2015-08-20T00:00:00      2   \n",
       "3             0  64900000.0      159.00  2015-07-24T00:00:00      3   \n",
       "4             2  10000000.0      100.00  2018-06-19T00:00:00      2   \n",
       "5            10   2890000.0       30.40  2018-09-10T00:00:00      1   \n",
       "6             6   3700000.0       37.30  2017-11-02T00:00:00      1   \n",
       "7             5   7915000.0       71.60  2019-04-18T00:00:00      2   \n",
       "8            20   2900000.0       33.16  2018-05-23T00:00:00      1   \n",
       "9            18   5400000.0       61.00  2017-02-26T00:00:00      3   \n",
       "\n",
       "   ceiling_height  floors_total  living_area  floor is_apartment  ...  \\\n",
       "0            2.70          16.0        51.00      8          NaN  ...   \n",
       "1             NaN          11.0        18.60      1          NaN  ...   \n",
       "2             NaN           5.0        34.30      4          NaN  ...   \n",
       "3             NaN          14.0          NaN      9          NaN  ...   \n",
       "4            3.03          14.0        32.00     13          NaN  ...   \n",
       "5             NaN          12.0        14.40      5          NaN  ...   \n",
       "6             NaN          26.0        10.60      6          NaN  ...   \n",
       "7             NaN          24.0          NaN     22          NaN  ...   \n",
       "8             NaN          27.0        15.43     26          NaN  ...   \n",
       "9            2.50           9.0        43.60      7          NaN  ...   \n",
       "\n",
       "   kitchen_area  balcony              locality_name  airports_nearest  \\\n",
       "0         25.00      NaN            Санкт-Петербург           18863.0   \n",
       "1         11.00      2.0             посёлок Шушары           12817.0   \n",
       "2          8.30      0.0            Санкт-Петербург           21741.0   \n",
       "3           NaN      0.0            Санкт-Петербург           28098.0   \n",
       "4         41.00      NaN            Санкт-Петербург           31856.0   \n",
       "5          9.10      NaN  городской посёлок Янино-1               NaN   \n",
       "6         14.40      1.0          посёлок Парголово           52996.0   \n",
       "7         18.90      2.0            Санкт-Петербург           23982.0   \n",
       "8          8.81      NaN             посёлок Мурино               NaN   \n",
       "9          6.50      2.0            Санкт-Петербург           50898.0   \n",
       "\n",
       "  cityCenters_nearest  parks_around3000  parks_nearest  ponds_around3000  \\\n",
       "0             16028.0               1.0          482.0               2.0   \n",
       "1             18603.0               0.0            NaN               0.0   \n",
       "2             13933.0               1.0           90.0               2.0   \n",
       "3              6800.0               2.0           84.0               3.0   \n",
       "4              8098.0               2.0          112.0               1.0   \n",
       "5                 NaN               NaN            NaN               NaN   \n",
       "6             19143.0               0.0            NaN               0.0   \n",
       "7             11634.0               0.0            NaN               0.0   \n",
       "8                 NaN               NaN            NaN               NaN   \n",
       "9             15008.0               0.0            NaN               0.0   \n",
       "\n",
       "   ponds_nearest  days_exposition  \n",
       "0          755.0              NaN  \n",
       "1            NaN             81.0  \n",
       "2          574.0            558.0  \n",
       "3          234.0            424.0  \n",
       "4           48.0            121.0  \n",
       "5            NaN             55.0  \n",
       "6            NaN            155.0  \n",
       "7            NaN              NaN  \n",
       "8            NaN            189.0  \n",
       "9            NaN            289.0  \n",
       "\n",
       "[10 rows x 22 columns]"
      ]
     },
     "execution_count": 5,
     "metadata": {},
     "output_type": "execute_result"
    }
   ],
   "source": [
    "flats.head(10)"
   ]
  },
  {
   "cell_type": "code",
   "execution_count": 6,
   "metadata": {},
   "outputs": [
    {
     "name": "stdout",
     "output_type": "stream",
     "text": [
      "<class 'pandas.core.frame.DataFrame'>\n",
      "RangeIndex: 23699 entries, 0 to 23698\n",
      "Data columns (total 22 columns):\n",
      "total_images            23699 non-null int64\n",
      "last_price              23699 non-null float64\n",
      "total_area              23699 non-null float64\n",
      "first_day_exposition    23699 non-null object\n",
      "rooms                   23699 non-null int64\n",
      "ceiling_height          14504 non-null float64\n",
      "floors_total            23613 non-null float64\n",
      "living_area             21796 non-null float64\n",
      "floor                   23699 non-null int64\n",
      "is_apartment            2775 non-null object\n",
      "studio                  23699 non-null bool\n",
      "open_plan               23699 non-null bool\n",
      "kitchen_area            21421 non-null float64\n",
      "balcony                 12180 non-null float64\n",
      "locality_name           23650 non-null object\n",
      "airports_nearest        18157 non-null float64\n",
      "cityCenters_nearest     18180 non-null float64\n",
      "parks_around3000        18181 non-null float64\n",
      "parks_nearest           8079 non-null float64\n",
      "ponds_around3000        18181 non-null float64\n",
      "ponds_nearest           9110 non-null float64\n",
      "days_exposition         20518 non-null float64\n",
      "dtypes: bool(2), float64(14), int64(3), object(3)\n",
      "memory usage: 3.7+ MB\n"
     ]
    }
   ],
   "source": [
    "flats.info()"
   ]
  },
  {
   "cell_type": "code",
   "execution_count": 7,
   "metadata": {},
   "outputs": [
    {
     "data": {
      "text/html": [
       "<div>\n",
       "<style scoped>\n",
       "    .dataframe tbody tr th:only-of-type {\n",
       "        vertical-align: middle;\n",
       "    }\n",
       "\n",
       "    .dataframe tbody tr th {\n",
       "        vertical-align: top;\n",
       "    }\n",
       "\n",
       "    .dataframe thead th {\n",
       "        text-align: right;\n",
       "    }\n",
       "</style>\n",
       "<table border=\"1\" class=\"dataframe\">\n",
       "  <thead>\n",
       "    <tr style=\"text-align: right;\">\n",
       "      <th></th>\n",
       "      <th>count</th>\n",
       "      <th>sum</th>\n",
       "      <th>min</th>\n",
       "      <th>max</th>\n",
       "      <th>mean</th>\n",
       "    </tr>\n",
       "  </thead>\n",
       "  <tbody>\n",
       "    <tr>\n",
       "      <td>is_apartment</td>\n",
       "      <td>2775</td>\n",
       "      <td>50</td>\n",
       "      <td>False</td>\n",
       "      <td>True</td>\n",
       "      <td>0.018018</td>\n",
       "    </tr>\n",
       "    <tr>\n",
       "      <td>parks_nearest</td>\n",
       "      <td>8079</td>\n",
       "      <td>3.96521e+06</td>\n",
       "      <td>1</td>\n",
       "      <td>3190</td>\n",
       "      <td>490.805</td>\n",
       "    </tr>\n",
       "    <tr>\n",
       "      <td>ponds_nearest</td>\n",
       "      <td>9110</td>\n",
       "      <td>4.71881e+06</td>\n",
       "      <td>13</td>\n",
       "      <td>1344</td>\n",
       "      <td>517.981</td>\n",
       "    </tr>\n",
       "    <tr>\n",
       "      <td>balcony</td>\n",
       "      <td>12180</td>\n",
       "      <td>14008</td>\n",
       "      <td>0</td>\n",
       "      <td>5</td>\n",
       "      <td>1.15008</td>\n",
       "    </tr>\n",
       "    <tr>\n",
       "      <td>ceiling_height</td>\n",
       "      <td>14504</td>\n",
       "      <td>40197.8</td>\n",
       "      <td>1</td>\n",
       "      <td>100</td>\n",
       "      <td>2.7715</td>\n",
       "    </tr>\n",
       "    <tr>\n",
       "      <td>airports_nearest</td>\n",
       "      <td>18157</td>\n",
       "      <td>5.22807e+08</td>\n",
       "      <td>0</td>\n",
       "      <td>84869</td>\n",
       "      <td>28793.7</td>\n",
       "    </tr>\n",
       "    <tr>\n",
       "      <td>cityCenters_nearest</td>\n",
       "      <td>18180</td>\n",
       "      <td>2.57997e+08</td>\n",
       "      <td>181</td>\n",
       "      <td>65968</td>\n",
       "      <td>14191.3</td>\n",
       "    </tr>\n",
       "    <tr>\n",
       "      <td>ponds_around3000</td>\n",
       "      <td>18181</td>\n",
       "      <td>14004</td>\n",
       "      <td>0</td>\n",
       "      <td>3</td>\n",
       "      <td>0.770255</td>\n",
       "    </tr>\n",
       "    <tr>\n",
       "      <td>parks_around3000</td>\n",
       "      <td>18181</td>\n",
       "      <td>11116</td>\n",
       "      <td>0</td>\n",
       "      <td>3</td>\n",
       "      <td>0.611408</td>\n",
       "    </tr>\n",
       "    <tr>\n",
       "      <td>days_exposition</td>\n",
       "      <td>20518</td>\n",
       "      <td>3.71147e+06</td>\n",
       "      <td>1</td>\n",
       "      <td>1580</td>\n",
       "      <td>180.889</td>\n",
       "    </tr>\n",
       "    <tr>\n",
       "      <td>kitchen_area</td>\n",
       "      <td>21421</td>\n",
       "      <td>226416</td>\n",
       "      <td>1.3</td>\n",
       "      <td>112</td>\n",
       "      <td>10.5698</td>\n",
       "    </tr>\n",
       "    <tr>\n",
       "      <td>living_area</td>\n",
       "      <td>21796</td>\n",
       "      <td>751043</td>\n",
       "      <td>2</td>\n",
       "      <td>409.7</td>\n",
       "      <td>34.4579</td>\n",
       "    </tr>\n",
       "    <tr>\n",
       "      <td>floors_total</td>\n",
       "      <td>23613</td>\n",
       "      <td>252041</td>\n",
       "      <td>1</td>\n",
       "      <td>60</td>\n",
       "      <td>10.6738</td>\n",
       "    </tr>\n",
       "    <tr>\n",
       "      <td>locality_name</td>\n",
       "      <td>23650</td>\n",
       "      <td>NaN</td>\n",
       "      <td>NaN</td>\n",
       "      <td>NaN</td>\n",
       "      <td>NaN</td>\n",
       "    </tr>\n",
       "    <tr>\n",
       "      <td>total_images</td>\n",
       "      <td>23699</td>\n",
       "      <td>233636</td>\n",
       "      <td>0</td>\n",
       "      <td>50</td>\n",
       "      <td>9.85848</td>\n",
       "    </tr>\n",
       "    <tr>\n",
       "      <td>floor</td>\n",
       "      <td>23699</td>\n",
       "      <td>139643</td>\n",
       "      <td>1</td>\n",
       "      <td>33</td>\n",
       "      <td>5.89236</td>\n",
       "    </tr>\n",
       "    <tr>\n",
       "      <td>rooms</td>\n",
       "      <td>23699</td>\n",
       "      <td>49072</td>\n",
       "      <td>0</td>\n",
       "      <td>19</td>\n",
       "      <td>2.07064</td>\n",
       "    </tr>\n",
       "    <tr>\n",
       "      <td>first_day_exposition</td>\n",
       "      <td>23699</td>\n",
       "      <td>2019-03-07T00:00:002018-12-04T00:00:002015-08-...</td>\n",
       "      <td>2014-11-27T00:00:00</td>\n",
       "      <td>2019-05-03T00:00:00</td>\n",
       "      <td>NaN</td>\n",
       "    </tr>\n",
       "    <tr>\n",
       "      <td>total_area</td>\n",
       "      <td>23699</td>\n",
       "      <td>1.4302e+06</td>\n",
       "      <td>12</td>\n",
       "      <td>900</td>\n",
       "      <td>60.3487</td>\n",
       "    </tr>\n",
       "    <tr>\n",
       "      <td>last_price</td>\n",
       "      <td>23699</td>\n",
       "      <td>1.55028e+11</td>\n",
       "      <td>12190</td>\n",
       "      <td>7.63e+08</td>\n",
       "      <td>6.54155e+06</td>\n",
       "    </tr>\n",
       "    <tr>\n",
       "      <td>open_plan</td>\n",
       "      <td>23699</td>\n",
       "      <td>67</td>\n",
       "      <td>False</td>\n",
       "      <td>True</td>\n",
       "      <td>0.00282712</td>\n",
       "    </tr>\n",
       "    <tr>\n",
       "      <td>studio</td>\n",
       "      <td>23699</td>\n",
       "      <td>149</td>\n",
       "      <td>False</td>\n",
       "      <td>True</td>\n",
       "      <td>0.00628719</td>\n",
       "    </tr>\n",
       "  </tbody>\n",
       "</table>\n",
       "</div>"
      ],
      "text/plain": [
       "                      count  \\\n",
       "is_apartment           2775   \n",
       "parks_nearest          8079   \n",
       "ponds_nearest          9110   \n",
       "balcony               12180   \n",
       "ceiling_height        14504   \n",
       "airports_nearest      18157   \n",
       "cityCenters_nearest   18180   \n",
       "ponds_around3000      18181   \n",
       "parks_around3000      18181   \n",
       "days_exposition       20518   \n",
       "kitchen_area          21421   \n",
       "living_area           21796   \n",
       "floors_total          23613   \n",
       "locality_name         23650   \n",
       "total_images          23699   \n",
       "floor                 23699   \n",
       "rooms                 23699   \n",
       "first_day_exposition  23699   \n",
       "total_area            23699   \n",
       "last_price            23699   \n",
       "open_plan             23699   \n",
       "studio                23699   \n",
       "\n",
       "                                                                    sum  \\\n",
       "is_apartment                                                         50   \n",
       "parks_nearest                                               3.96521e+06   \n",
       "ponds_nearest                                               4.71881e+06   \n",
       "balcony                                                           14008   \n",
       "ceiling_height                                                  40197.8   \n",
       "airports_nearest                                            5.22807e+08   \n",
       "cityCenters_nearest                                         2.57997e+08   \n",
       "ponds_around3000                                                  14004   \n",
       "parks_around3000                                                  11116   \n",
       "days_exposition                                             3.71147e+06   \n",
       "kitchen_area                                                     226416   \n",
       "living_area                                                      751043   \n",
       "floors_total                                                     252041   \n",
       "locality_name                                                       NaN   \n",
       "total_images                                                     233636   \n",
       "floor                                                            139643   \n",
       "rooms                                                             49072   \n",
       "first_day_exposition  2019-03-07T00:00:002018-12-04T00:00:002015-08-...   \n",
       "total_area                                                   1.4302e+06   \n",
       "last_price                                                  1.55028e+11   \n",
       "open_plan                                                            67   \n",
       "studio                                                              149   \n",
       "\n",
       "                                      min                  max         mean  \n",
       "is_apartment                        False                 True     0.018018  \n",
       "parks_nearest                           1                 3190      490.805  \n",
       "ponds_nearest                          13                 1344      517.981  \n",
       "balcony                                 0                    5      1.15008  \n",
       "ceiling_height                          1                  100       2.7715  \n",
       "airports_nearest                        0                84869      28793.7  \n",
       "cityCenters_nearest                   181                65968      14191.3  \n",
       "ponds_around3000                        0                    3     0.770255  \n",
       "parks_around3000                        0                    3     0.611408  \n",
       "days_exposition                         1                 1580      180.889  \n",
       "kitchen_area                          1.3                  112      10.5698  \n",
       "living_area                             2                409.7      34.4579  \n",
       "floors_total                            1                   60      10.6738  \n",
       "locality_name                         NaN                  NaN          NaN  \n",
       "total_images                            0                   50      9.85848  \n",
       "floor                                   1                   33      5.89236  \n",
       "rooms                                   0                   19      2.07064  \n",
       "first_day_exposition  2014-11-27T00:00:00  2019-05-03T00:00:00          NaN  \n",
       "total_area                             12                  900      60.3487  \n",
       "last_price                          12190             7.63e+08  6.54155e+06  \n",
       "open_plan                           False                 True   0.00282712  \n",
       "studio                              False                 True   0.00628719  "
      ]
     },
     "execution_count": 7,
     "metadata": {},
     "output_type": "execute_result"
    }
   ],
   "source": [
    "flats.agg(['count', 'sum', 'min', 'max', 'mean']).T.sort_values('count')"
   ]
  },
  {
   "cell_type": "code",
   "execution_count": 8,
   "metadata": {},
   "outputs": [
    {
     "data": {
      "text/plain": [
       "(23699, 22)"
      ]
     },
     "execution_count": 8,
     "metadata": {},
     "output_type": "execute_result"
    }
   ],
   "source": [
    "flats.shape"
   ]
  },
  {
   "cell_type": "code",
   "execution_count": 9,
   "metadata": {},
   "outputs": [
    {
     "data": {
      "text/plain": [
       "365"
      ]
     },
     "execution_count": 9,
     "metadata": {},
     "output_type": "execute_result"
    }
   ],
   "source": [
    "len(flats['locality_name'].unique())"
   ]
  },
  {
   "cell_type": "code",
   "execution_count": 10,
   "metadata": {},
   "outputs": [
    {
     "data": {
      "text/plain": [
       "array(['Санкт-Петербург', 'посёлок Шушары', 'городской посёлок Янино-1',\n",
       "       'посёлок Парголово', 'посёлок Мурино', 'Ломоносов', 'Сертолово',\n",
       "       'Петергоф', 'Пушкин', 'деревня Кудрово'], dtype=object)"
      ]
     },
     "execution_count": 10,
     "metadata": {},
     "output_type": "execute_result"
    }
   ],
   "source": [
    "flats['locality_name'].unique()[:10]"
   ]
  },
  {
   "cell_type": "markdown",
   "metadata": {},
   "source": [
    "### Вывод"
   ]
  },
  {
   "cell_type": "markdown",
   "metadata": {},
   "source": [
    "Мы имеем таблицу с 23699 примерами и 22 признаками. Столбцы имеют пустые значения. Данные представленны за период с 2014-11-27 по 2019-05-03. Присутствуют данные о квартирах из 365 населенных пунктов. Предположим причины пропусков в данных.\n",
    "\n",
    "\n",
    "- На мой взгляд, отсутствие значения в столбце is_apartment означает, что эта квартира не является аппартаментами, заменим на 0.\n",
    "- Отсутствие значения в столбцах ponds_around3000, parks_around3000 означает, что эти объекты инфраструктуры рядом с квартирой отсутствуют.\n",
    "- Столбец balcony так же содержит пустые значения,скорее всего у квартиры нет балкона, заменим на 0.\n",
    "- Отсутствик ceiling_height означает, что это либо техническая ошибка, либо люди не указали. Заменим на среднее по locality_name и floors_total. Так же можно было использовать параметр даты постройки для этого, но у нас нет этих данных.\n",
    "- Отсутствие полей cityCenters_nearest, ponds_nearest, parks_nearest, airports_nearest похоже на техническую ошибку. \n",
    "- Пропуски в days_exposition - техническая ошибка.\n",
    "- kitchen_area, living_area, floors_total, locality_name - это данные, вводимые пользователем, скорее всего были пропущены при заполнении объявления.\n",
    "\n",
    "Наверняка есть еще ошибки в данных, в процессе работы рассмотрим каждый столбец в отдельности.\n"
   ]
  },
  {
   "cell_type": "markdown",
   "metadata": {},
   "source": [
    "### Шаг 2. Предобработка данных"
   ]
  },
  {
   "cell_type": "markdown",
   "metadata": {},
   "source": [
    "### Обработка пропусков"
   ]
  },
  {
   "cell_type": "markdown",
   "metadata": {},
   "source": [
    "Посмотрим сколько процентов данных пропущено по каждому столбцу"
   ]
  },
  {
   "cell_type": "code",
   "execution_count": 11,
   "metadata": {},
   "outputs": [
    {
     "data": {
      "text/plain": [
       "is_apartment            88.29\n",
       "parks_nearest           65.91\n",
       "ponds_nearest           61.56\n",
       "balcony                 48.61\n",
       "ceiling_height          38.80\n",
       "airports_nearest        23.38\n",
       "cityCenters_nearest     23.29\n",
       "parks_around3000        23.28\n",
       "ponds_around3000        23.28\n",
       "days_exposition         13.42\n",
       "kitchen_area             9.61\n",
       "living_area              8.03\n",
       "floors_total             0.36\n",
       "locality_name            0.21\n",
       "first_day_exposition     0.00\n",
       "last_price               0.00\n",
       "total_area               0.00\n",
       "studio                   0.00\n",
       "rooms                    0.00\n",
       "floor                    0.00\n",
       "open_plan                0.00\n",
       "total_images             0.00\n",
       "dtype: float64"
      ]
     },
     "execution_count": 11,
     "metadata": {},
     "output_type": "execute_result"
    }
   ],
   "source": [
    "nulls = flats.isnull().sum() / len(flats)\n",
    "(nulls.sort_values(ascending=False) * 100).round(2)"
   ]
  },
  {
   "cell_type": "markdown",
   "metadata": {},
   "source": [
    "#### Поработаем со столбцом locality_name"
   ]
  },
  {
   "cell_type": "code",
   "execution_count": 12,
   "metadata": {},
   "outputs": [
    {
     "data": {
      "text/plain": [
       "array(['Бокситогорск', 'Волосово', 'Волхов', 'Всеволожск', 'Выборг',\n",
       "       'Высоцк', 'Гатчина', 'Зеленогорск', 'Ивангород', 'Каменногорск',\n",
       "       'Кингисепп', 'Кириши', 'Кировск', 'Колпино', 'Коммунар',\n",
       "       'Красное Село', 'Кронштадт', 'Кудрово', 'Лодейное Поле',\n",
       "       'Ломоносов', 'Луга', 'Любань', 'Мурино', 'Никольское',\n",
       "       'Новая Ладога', 'Отрадное', 'Павловск', 'Петергоф', 'Пикалёво',\n",
       "       'Подпорожье', 'Приморск', 'Приозерск', 'Пушкин', 'Санкт-Петербург',\n",
       "       'Светогорск', 'Сертолово', 'Сестрорецк', 'Сланцы', 'Сосновый Бор',\n",
       "       'Сясьстрой', 'Тихвин', 'Тосно', 'Шлиссельбург',\n",
       "       'городской поселок Большая Ижора', 'городской поселок Янино-1',\n",
       "       'городской посёлок Будогощь', 'городской посёлок Виллози',\n",
       "       'городской посёлок Лесогорский', 'городской посёлок Мга',\n",
       "       'городской посёлок Назия', 'городской посёлок Новоселье',\n",
       "       'городской посёлок Павлово', 'городской посёлок Рощино',\n",
       "       'городской посёлок Свирьстрой', 'городской посёлок Советский',\n",
       "       'городской посёлок Фёдоровское', 'городской посёлок Янино-1',\n",
       "       'деревня Агалатово', 'деревня Аро', 'деревня Батово',\n",
       "       'деревня Бегуницы', 'деревня Белогорка', 'деревня Большая Вруда',\n",
       "       'деревня Большая Пустомержа', 'деревня Большие Колпаны',\n",
       "       'деревня Большое Рейзино', 'деревня Большой Сабск', 'деревня Бор',\n",
       "       'деревня Борисова Грива', 'деревня Ваганово', 'деревня Вартемяги',\n",
       "       'деревня Вахнова Кара', 'деревня Выскатка', 'деревня Гарболово',\n",
       "       'деревня Глинка', 'деревня Горбунки', 'деревня Гостилицы',\n",
       "       'деревня Заклинье', 'деревня Заневка', 'деревня Зимитицы',\n",
       "       'деревня Извара', 'деревня Иссад', 'деревня Калитино',\n",
       "       'деревня Кальтино', 'деревня Камышовка', 'деревня Каськово',\n",
       "       'деревня Келози', 'деревня Кипень', 'деревня Кисельня',\n",
       "       'деревня Колтуши', 'деревня Коркино', 'деревня Котлы',\n",
       "       'деревня Кривко', 'деревня Кудрово', 'деревня Кузьмолово',\n",
       "       'деревня Курковицы', 'деревня Куровицы', 'деревня Куттузи',\n",
       "       'деревня Лаврики', 'деревня Лаголово', 'деревня Лампово',\n",
       "       'деревня Лесколово', 'деревня Лопухинка', 'деревня Лупполово',\n",
       "       'деревня Малая Романовка', 'деревня Малое Верево',\n",
       "       'деревня Малое Карлино', 'деревня Малые Колпаны',\n",
       "       'деревня Мануйлово', 'деревня Меньково', 'деревня Мины',\n",
       "       'деревня Мистолово', 'деревня Ненимяки', 'деревня Нижние Осельки',\n",
       "       'деревня Нижняя', 'деревня Низино', 'деревня Новое Девяткино',\n",
       "       'деревня Новолисино', 'деревня Нурма', 'деревня Оржицы',\n",
       "       'деревня Парицы', 'деревня Пельгора', 'деревня Пеники',\n",
       "       'деревня Пижма', 'деревня Пикколово', 'деревня Пудомяги',\n",
       "       'деревня Пустынка', 'деревня Пчева', 'деревня Рабитицы',\n",
       "       'деревня Разбегаево', 'деревня Раздолье', 'деревня Разметелево',\n",
       "       'деревня Рапполово', 'деревня Реброво', 'деревня Русско',\n",
       "       'деревня Сижно', 'деревня Снегирёвка', 'деревня Старая',\n",
       "       'деревня Старая Пустошь', 'деревня Старое Хинколово',\n",
       "       'деревня Старополье', 'деревня Старосиверская',\n",
       "       'деревня Старые Бегуницы', 'деревня Суоранда',\n",
       "       'деревня Сяськелево', 'деревня Тарасово', 'деревня Терпилицы',\n",
       "       'деревня Тихковицы', 'деревня Тойворово', 'деревня Торосово',\n",
       "       'деревня Торошковичи', 'деревня Трубников Бор',\n",
       "       'деревня Фалилеево', 'деревня Фёдоровское', 'деревня Хапо-Ое',\n",
       "       'деревня Хязельки', 'деревня Чудской Бор', 'деревня Шпаньково',\n",
       "       'деревня Щеглово', 'деревня Юкки', 'деревня Ялгино',\n",
       "       'деревня Яльгелево', 'деревня Ям-Тесово',\n",
       "       'коттеджный поселок Кивеннапа Север', 'коттеджный поселок Счастье',\n",
       "       'коттеджный посёлок Лесное', 'поселок Аннино', 'поселок Барышево',\n",
       "       'поселок Бугры', 'поселок Возрождение', 'поселок Войсковицы',\n",
       "       'поселок Володарское', 'поселок Гаврилово', 'поселок Гарболово',\n",
       "       'поселок Гладкое', 'поселок Глажево', 'поселок Глебычево',\n",
       "       'поселок Гончарово', 'поселок Громово', 'поселок Дружноселье',\n",
       "       'поселок Елизаветино', 'поселок Жилгородок', 'поселок Жилпосёлок',\n",
       "       'поселок Житково', 'поселок Заводской', 'поселок Запорожское',\n",
       "       'поселок Зимитицы', 'поселок Ильичёво', 'поселок Калитино',\n",
       "       'поселок Каложицы', 'поселок Кингисеппский', 'поселок Кирпичное',\n",
       "       'поселок Кобралово', 'поселок Кобринское', 'поселок Коммунары',\n",
       "       'поселок Коробицыно', 'поселок Котельский',\n",
       "       'поселок Красная Долина', 'поселок Красносельское',\n",
       "       'поселок Лесное', 'поселок Лисий Нос', 'поселок Лукаши',\n",
       "       'поселок Любань', 'поселок Мельниково', 'поселок Мичуринское',\n",
       "       'поселок Молодцово', 'поселок Мурино', 'поселок Новый Свет',\n",
       "       'поселок Новый Учхоз', 'поселок Оредеж',\n",
       "       'поселок Пансионат Зелёный Бор', 'поселок Первомайское',\n",
       "       'поселок Перово', 'поселок Петровское', 'поселок Победа',\n",
       "       'поселок Поляны', 'поселок Почап', 'поселок Починок',\n",
       "       'поселок Пушное', 'поселок Пчевжа', 'поселок Рабитицы',\n",
       "       'поселок Романовка', 'поселок Ромашки', 'поселок Рябово',\n",
       "       'поселок Севастьяново', 'поселок Селезнёво', 'поселок Сельцо',\n",
       "       'поселок Семиозерье', 'поселок Семрино', 'поселок Серебрянский',\n",
       "       'поселок Совхозный', 'поселок Старая Малукса',\n",
       "       'поселок Стеклянный', 'поселок Сумино', 'поселок Суходолье',\n",
       "       'поселок Тельмана', 'поселок Терволово', 'поселок Торковичи',\n",
       "       'поселок Тёсово-4', 'поселок Углово', 'поселок Усть-Луга',\n",
       "       'поселок Ушаки', 'поселок Цвелодубово', 'поселок Цвылёво',\n",
       "       'поселок городского типа Большая Ижора',\n",
       "       'поселок городского типа Вырица',\n",
       "       'поселок городского типа Дружная Горка',\n",
       "       'поселок городского типа Дубровка',\n",
       "       'поселок городского типа Ефимовский',\n",
       "       'поселок городского типа Кондратьево',\n",
       "       'поселок городского типа Красный Бор',\n",
       "       'поселок городского типа Кузьмоловский',\n",
       "       'поселок городского типа Лебяжье',\n",
       "       'поселок городского типа Лесогорский',\n",
       "       'поселок городского типа Назия',\n",
       "       'поселок городского типа Никольский',\n",
       "       'поселок городского типа Приладожский',\n",
       "       'поселок городского типа Рахья', 'поселок городского типа Рощино',\n",
       "       'поселок городского типа Рябово',\n",
       "       'поселок городского типа Синявино',\n",
       "       'поселок городского типа Советский',\n",
       "       'поселок городского типа Токсово',\n",
       "       'поселок городского типа Форносово',\n",
       "       'поселок городского типа имени Свердлова',\n",
       "       'поселок станции Вещево', 'поселок станции Корнево',\n",
       "       'поселок станции Лужайка', 'поселок станции Приветнинское',\n",
       "       'посёлок Александровская', 'посёлок Алексеевка', 'посёлок Аннино',\n",
       "       'посёлок Белоостров', 'посёлок Бугры', 'посёлок Возрождение',\n",
       "       'посёлок Войскорово', 'посёлок Высокоключевой',\n",
       "       'посёлок Гаврилово', 'посёлок Дзержинского', 'посёлок Жилгородок',\n",
       "       'посёлок Ильичёво', 'посёлок Кикерино', 'посёлок Кобралово',\n",
       "       'посёлок Коробицыно', 'посёлок Левашово', 'посёлок Ленинское',\n",
       "       'посёлок Лисий Нос', 'посёлок Мельниково', 'посёлок Металлострой',\n",
       "       'посёлок Мичуринское', 'посёлок Молодёжное', 'посёлок Мурино',\n",
       "       'посёлок Мыза-Ивановка', 'посёлок Новогорелово',\n",
       "       'посёлок Новый Свет', 'посёлок Пансионат Зелёный Бор',\n",
       "       'посёлок Парголово', 'посёлок Перово', 'посёлок Песочный',\n",
       "       'посёлок Петро-Славянка', 'посёлок Петровское',\n",
       "       'посёлок Платформа 69-й километр', 'посёлок Плодовое',\n",
       "       'посёлок Плоское', 'посёлок Победа', 'посёлок Поляны',\n",
       "       'посёлок Понтонный', 'посёлок Пригородный', 'посёлок Пудость',\n",
       "       'посёлок Репино', 'посёлок Ропша', 'посёлок Сапёрное',\n",
       "       'посёлок Сапёрный', 'посёлок Сосново', 'посёлок Старая Малукса',\n",
       "       'посёлок Стеклянный', 'посёлок Стрельна', 'посёлок Суйда',\n",
       "       'посёлок Сумино', 'посёлок Тельмана', 'посёлок Терволово',\n",
       "       'посёлок Торфяное', 'посёлок Усть-Ижора', 'посёлок Усть-Луга',\n",
       "       'посёлок Форт Красная Горка', 'посёлок Шугозеро', 'посёлок Шушары',\n",
       "       'посёлок Щеглово', 'посёлок городского типа Важины',\n",
       "       'посёлок городского типа Вознесенье',\n",
       "       'посёлок городского типа Вырица',\n",
       "       'посёлок городского типа Красный Бор',\n",
       "       'посёлок городского типа Кузнечное',\n",
       "       'посёлок городского типа Кузьмоловский',\n",
       "       'посёлок городского типа Лебяжье', 'посёлок городского типа Мга',\n",
       "       'посёлок городского типа Павлово',\n",
       "       'посёлок городского типа Рощино', 'посёлок городского типа Рябово',\n",
       "       'посёлок городского типа Сиверский',\n",
       "       'посёлок городского типа Тайцы', 'посёлок городского типа Токсово',\n",
       "       'посёлок городского типа Ульяновка',\n",
       "       'посёлок городского типа Форносово',\n",
       "       'посёлок городского типа имени Морозова',\n",
       "       'посёлок городского типа имени Свердлова',\n",
       "       'посёлок при железнодорожной станции Вещево',\n",
       "       'посёлок при железнодорожной станции Приветнинское',\n",
       "       'посёлок станции Громово', 'посёлок станции Свирь',\n",
       "       'садоводческое некоммерческое товарищество Лесная Поляна',\n",
       "       'садовое товарищество Новая Ропша',\n",
       "       'садовое товарищество Приладожский', 'садовое товарищество Рахья',\n",
       "       'садовое товарищество Садко', 'село Копорье', 'село Никольское',\n",
       "       'село Павлово', 'село Паша', 'село Путилово', 'село Рождествено',\n",
       "       'село Русско-Высоцкое', 'село Старая Ладога', 'село Шум', nan],\n",
       "      dtype=object)"
      ]
     },
     "execution_count": 12,
     "metadata": {},
     "output_type": "execute_result"
    }
   ],
   "source": [
    "flats['locality_name'].sort_values().unique()"
   ]
  },
  {
   "cell_type": "code",
   "execution_count": 13,
   "metadata": {},
   "outputs": [
    {
     "data": {
      "text/plain": [
       "364"
      ]
     },
     "execution_count": 13,
     "metadata": {},
     "output_type": "execute_result"
    }
   ],
   "source": [
    "flats['locality_name'].nunique()"
   ]
  },
  {
   "cell_type": "code",
   "execution_count": 14,
   "metadata": {},
   "outputs": [
    {
     "data": {
      "text/plain": [
       "49"
      ]
     },
     "execution_count": 14,
     "metadata": {},
     "output_type": "execute_result"
    }
   ],
   "source": [
    "flats['locality_name'].isnull().sum()"
   ]
  },
  {
   "cell_type": "markdown",
   "metadata": {},
   "source": [
    "Удалим записи в которых нет информации о локации"
   ]
  },
  {
   "cell_type": "code",
   "execution_count": 15,
   "metadata": {},
   "outputs": [],
   "source": [
    "flats = flats[flats['locality_name'].notnull()]"
   ]
  },
  {
   "cell_type": "markdown",
   "metadata": {},
   "source": [
    "Можно заметить что есть проблемы с буквами е и ё.\n",
    "Есть населенные пункты с одним названием, но разными типами:\n",
    "\n",
    "    поселок Мурино и Мурино\n",
    "    деревня Кудрово и Кудрово\n",
    "    поселок Любань и Любань"
   ]
  },
  {
   "cell_type": "markdown",
   "metadata": {},
   "source": [
    "Заменим ё на е и посмотрим, изменится ли количество ункальных населенных пунктов"
   ]
  },
  {
   "cell_type": "code",
   "execution_count": 16,
   "metadata": {},
   "outputs": [],
   "source": [
    "def replace_letters(value):\n",
    "    return value.replace('ё', 'е')\n",
    "flats['locality_name'] = flats['locality_name'].apply(replace_letters)"
   ]
  },
  {
   "cell_type": "code",
   "execution_count": 17,
   "metadata": {},
   "outputs": [
    {
     "data": {
      "text/plain": [
       "330"
      ]
     },
     "execution_count": 17,
     "metadata": {},
     "output_type": "execute_result"
    }
   ],
   "source": [
    "flats['locality_name'].nunique()"
   ]
  },
  {
   "cell_type": "markdown",
   "metadata": {},
   "source": [
    "Получается было 34 дубликата"
   ]
  },
  {
   "cell_type": "code",
   "execution_count": 18,
   "metadata": {},
   "outputs": [
    {
     "data": {
      "text/plain": [
       "[('поселок', 167),\n",
       " ('деревня', 106),\n",
       " ('городского', 30),\n",
       " ('типа', 30),\n",
       " ('городской', 13),\n",
       " ('село', 9),\n",
       " ('станции', 8),\n",
       " ('Бор', 6),\n",
       " ('товарищество', 5),\n",
       " ('Большая', 4),\n",
       " ('Старая', 4),\n",
       " ('садовое', 4),\n",
       " ('Павлово', 3),\n",
       " ('коттеджный', 3),\n",
       " ('Кудрово', 2),\n",
       " ('Любань', 2),\n",
       " ('Мурино', 2),\n",
       " ('Никольское', 2),\n",
       " ('Новая', 2),\n",
       " ('Ладога', 2),\n",
       " ('Ижора', 2),\n",
       " ('Лесогорский', 2),\n",
       " ('Мга', 2),\n",
       " ('Назия', 2),\n",
       " ('Рощино', 2),\n",
       " ('Советский', 2),\n",
       " ('Федоровское', 2),\n",
       " ('Бегуницы', 2),\n",
       " ('Колпаны', 2),\n",
       " ('Гарболово', 2),\n",
       " ('Зимитицы', 2),\n",
       " ('Калитино', 2),\n",
       " ('Романовка', 2),\n",
       " ('Малое', 2),\n",
       " ('Рабитицы', 2),\n",
       " ('Щеглово', 2),\n",
       " ('Лесное', 2),\n",
       " ('Громово', 2),\n",
       " ('Красная', 2),\n",
       " ('Новый', 2),\n",
       " ('Ропша', 2),\n",
       " ('Рябово', 2),\n",
       " ('Горка', 2),\n",
       " ('Приладожский', 2),\n",
       " ('Рахья', 2),\n",
       " ('имени', 2),\n",
       " ('при', 2),\n",
       " ('железнодорожной', 2),\n",
       " ('Вещево', 2),\n",
       " ('Приветнинское', 2),\n",
       " ('Бокситогорск', 1),\n",
       " ('Волосово', 1),\n",
       " ('Волхов', 1),\n",
       " ('Всеволожск', 1),\n",
       " ('Выборг', 1),\n",
       " ('Высоцк', 1),\n",
       " ('Гатчина', 1),\n",
       " ('Зеленогорск', 1),\n",
       " ('Ивангород', 1),\n",
       " ('Каменногорск', 1),\n",
       " ('Кингисепп', 1),\n",
       " ('Кириши', 1),\n",
       " ('Кировск', 1),\n",
       " ('Колпино', 1),\n",
       " ('Коммунар', 1),\n",
       " ('Красное', 1),\n",
       " ('Село', 1),\n",
       " ('Кронштадт', 1),\n",
       " ('Лодейное', 1),\n",
       " ('Поле', 1),\n",
       " ('Ломоносов', 1),\n",
       " ('Луга', 1),\n",
       " ('Отрадное', 1),\n",
       " ('Павловск', 1),\n",
       " ('Петергоф', 1),\n",
       " ('Пикалево', 1),\n",
       " ('Подпорожье', 1),\n",
       " ('Приморск', 1),\n",
       " ('Приозерск', 1),\n",
       " ('Пушкин', 1),\n",
       " ('Санкт-Петербург', 1),\n",
       " ('Светогорск', 1),\n",
       " ('Сертолово', 1),\n",
       " ('Сестрорецк', 1),\n",
       " ('Сланцы', 1),\n",
       " ('Сосновый', 1),\n",
       " ('Сясьстрой', 1),\n",
       " ('Тихвин', 1),\n",
       " ('Тосно', 1),\n",
       " ('Шлиссельбург', 1),\n",
       " ('Будогощь', 1),\n",
       " ('Виллози', 1),\n",
       " ('Новоселье', 1),\n",
       " ('Свирьстрой', 1),\n",
       " ('Янино-1', 1),\n",
       " ('Агалатово', 1),\n",
       " ('Аро', 1),\n",
       " ('Батово', 1),\n",
       " ('Белогорка', 1),\n",
       " ('Вруда', 1),\n",
       " ('Пустомержа', 1),\n",
       " ('Большие', 1),\n",
       " ('Большое', 1),\n",
       " ('Рейзино', 1),\n",
       " ('Большой', 1),\n",
       " ('Сабск', 1),\n",
       " ('Борисова', 1),\n",
       " ('Грива', 1),\n",
       " ('Ваганово', 1),\n",
       " ('Вартемяги', 1),\n",
       " ('Вахнова', 1),\n",
       " ('Кара', 1),\n",
       " ('Выскатка', 1),\n",
       " ('Глинка', 1),\n",
       " ('Горбунки', 1),\n",
       " ('Гостилицы', 1),\n",
       " ('Заклинье', 1),\n",
       " ('Заневка', 1),\n",
       " ('Извара', 1),\n",
       " ('Иссад', 1),\n",
       " ('Кальтино', 1),\n",
       " ('Камышовка', 1),\n",
       " ('Каськово', 1),\n",
       " ('Келози', 1),\n",
       " ('Кипень', 1),\n",
       " ('Кисельня', 1),\n",
       " ('Колтуши', 1),\n",
       " ('Коркино', 1),\n",
       " ('Котлы', 1),\n",
       " ('Кривко', 1),\n",
       " ('Кузьмолово', 1),\n",
       " ('Курковицы', 1),\n",
       " ('Куровицы', 1),\n",
       " ('Куттузи', 1),\n",
       " ('Лаврики', 1),\n",
       " ('Лаголово', 1),\n",
       " ('Лампово', 1),\n",
       " ('Лесколово', 1),\n",
       " ('Лопухинка', 1),\n",
       " ('Лупполово', 1),\n",
       " ('Малая', 1),\n",
       " ('Верево', 1),\n",
       " ('Карлино', 1),\n",
       " ('Малые', 1),\n",
       " ('Мануйлово', 1),\n",
       " ('Меньково', 1),\n",
       " ('Мины', 1),\n",
       " ('Мистолово', 1),\n",
       " ('Ненимяки', 1),\n",
       " ('Нижние', 1),\n",
       " ('Осельки', 1),\n",
       " ('Нижняя', 1),\n",
       " ('Низино', 1),\n",
       " ('Новое', 1),\n",
       " ('Девяткино', 1),\n",
       " ('Новолисино', 1),\n",
       " ('Нурма', 1),\n",
       " ('Оржицы', 1),\n",
       " ('Парицы', 1),\n",
       " ('Пельгора', 1),\n",
       " ('Пеники', 1),\n",
       " ('Пижма', 1),\n",
       " ('Пикколово', 1),\n",
       " ('Пудомяги', 1),\n",
       " ('Пустынка', 1),\n",
       " ('Пчева', 1),\n",
       " ('Разбегаево', 1),\n",
       " ('Раздолье', 1),\n",
       " ('Разметелево', 1),\n",
       " ('Рапполово', 1),\n",
       " ('Реброво', 1),\n",
       " ('Русско', 1),\n",
       " ('Сижно', 1),\n",
       " ('Снегиревка', 1),\n",
       " ('Пустошь', 1),\n",
       " ('Старое', 1),\n",
       " ('Хинколово', 1),\n",
       " ('Старополье', 1),\n",
       " ('Старосиверская', 1),\n",
       " ('Старые', 1),\n",
       " ('Суоранда', 1),\n",
       " ('Сяськелево', 1),\n",
       " ('Тарасово', 1),\n",
       " ('Терпилицы', 1),\n",
       " ('Тихковицы', 1),\n",
       " ('Тойворово', 1),\n",
       " ('Торосово', 1),\n",
       " ('Торошковичи', 1),\n",
       " ('Трубников', 1),\n",
       " ('Фалилеево', 1),\n",
       " ('Хапо-Ое', 1),\n",
       " ('Хязельки', 1),\n",
       " ('Чудской', 1),\n",
       " ('Шпаньково', 1),\n",
       " ('Юкки', 1),\n",
       " ('Ялгино', 1),\n",
       " ('Яльгелево', 1),\n",
       " ('Ям-Тесово', 1),\n",
       " ('Кивеннапа', 1),\n",
       " ('Север', 1),\n",
       " ('Счастье', 1),\n",
       " ('Александровская', 1),\n",
       " ('Алексеевка', 1),\n",
       " ('Аннино', 1),\n",
       " ('Барышево', 1),\n",
       " ('Белоостров', 1),\n",
       " ('Бугры', 1),\n",
       " ('Возрождение', 1),\n",
       " ('Войсковицы', 1),\n",
       " ('Войскорово', 1),\n",
       " ('Володарское', 1),\n",
       " ('Высокоключевой', 1),\n",
       " ('Гаврилово', 1),\n",
       " ('Гладкое', 1),\n",
       " ('Глажево', 1),\n",
       " ('Глебычево', 1),\n",
       " ('Гончарово', 1),\n",
       " ('Дзержинского', 1),\n",
       " ('Дружноселье', 1),\n",
       " ('Елизаветино', 1),\n",
       " ('Жилгородок', 1),\n",
       " ('Жилпоселок', 1),\n",
       " ('Житково', 1),\n",
       " ('Заводской', 1),\n",
       " ('Запорожское', 1),\n",
       " ('Ильичево', 1),\n",
       " ('Каложицы', 1),\n",
       " ('Кикерино', 1),\n",
       " ('Кингисеппский', 1),\n",
       " ('Кирпичное', 1),\n",
       " ('Кобралово', 1),\n",
       " ('Кобринское', 1),\n",
       " ('Коммунары', 1),\n",
       " ('Коробицыно', 1),\n",
       " ('Котельский', 1),\n",
       " ('Долина', 1),\n",
       " ('Красносельское', 1),\n",
       " ('Левашово', 1),\n",
       " ('Ленинское', 1),\n",
       " ('Лисий', 1),\n",
       " ('Нос', 1),\n",
       " ('Лукаши', 1),\n",
       " ('Мельниково', 1),\n",
       " ('Металлострой', 1),\n",
       " ('Мичуринское', 1),\n",
       " ('Молодежное', 1),\n",
       " ('Молодцово', 1),\n",
       " ('Мыза-Ивановка', 1),\n",
       " ('Новогорелово', 1),\n",
       " ('Свет', 1),\n",
       " ('Учхоз', 1),\n",
       " ('Оредеж', 1),\n",
       " ('Пансионат', 1),\n",
       " ('Зеленый', 1),\n",
       " ('Парголово', 1),\n",
       " ('Первомайское', 1),\n",
       " ('Перово', 1),\n",
       " ('Песочный', 1),\n",
       " ('Петро-Славянка', 1),\n",
       " ('Петровское', 1),\n",
       " ('Платформа', 1),\n",
       " ('69-й', 1),\n",
       " ('километр', 1),\n",
       " ('Плодовое', 1),\n",
       " ('Плоское', 1),\n",
       " ('Победа', 1),\n",
       " ('Поляны', 1),\n",
       " ('Понтонный', 1),\n",
       " ('Почап', 1),\n",
       " ('Починок', 1),\n",
       " ('Пригородный', 1),\n",
       " ('Пудость', 1),\n",
       " ('Пушное', 1),\n",
       " ('Пчевжа', 1),\n",
       " ('Репино', 1),\n",
       " ('Ромашки', 1),\n",
       " ('Саперное', 1),\n",
       " ('Саперный', 1),\n",
       " ('Севастьяново', 1),\n",
       " ('Селезнево', 1),\n",
       " ('Сельцо', 1),\n",
       " ('Семиозерье', 1),\n",
       " ('Семрино', 1),\n",
       " ('Серебрянский', 1),\n",
       " ('Совхозный', 1),\n",
       " ('Сосново', 1),\n",
       " ('Малукса', 1),\n",
       " ('Стеклянный', 1),\n",
       " ('Стрельна', 1),\n",
       " ('Суйда', 1),\n",
       " ('Сумино', 1),\n",
       " ('Суходолье', 1),\n",
       " ('Тельмана', 1),\n",
       " ('Терволово', 1),\n",
       " ('Тесово-4', 1),\n",
       " ('Торковичи', 1),\n",
       " ('Торфяное', 1),\n",
       " ('Углово', 1),\n",
       " ('Усть-Ижора', 1),\n",
       " ('Усть-Луга', 1),\n",
       " ('Ушаки', 1),\n",
       " ('Форт', 1),\n",
       " ('Цвелодубово', 1),\n",
       " ('Цвылево', 1),\n",
       " ('Шугозеро', 1),\n",
       " ('Шушары', 1),\n",
       " ('Важины', 1),\n",
       " ('Вознесенье', 1),\n",
       " ('Вырица', 1),\n",
       " ('Дружная', 1),\n",
       " ('Дубровка', 1),\n",
       " ('Ефимовский', 1),\n",
       " ('Кондратьево', 1),\n",
       " ('Красный', 1),\n",
       " ('Кузнечное', 1),\n",
       " ('Кузьмоловский', 1),\n",
       " ('Лебяжье', 1),\n",
       " ('Никольский', 1),\n",
       " ('Сиверский', 1),\n",
       " ('Синявино', 1),\n",
       " ('Тайцы', 1),\n",
       " ('Токсово', 1),\n",
       " ('Ульяновка', 1),\n",
       " ('Форносово', 1),\n",
       " ('Морозова', 1),\n",
       " ('Свердлова', 1),\n",
       " ('Корнево', 1),\n",
       " ('Лужайка', 1),\n",
       " ('Свирь', 1),\n",
       " ('садоводческое', 1),\n",
       " ('некоммерческое', 1),\n",
       " ('Лесная', 1),\n",
       " ('Поляна', 1),\n",
       " ('Садко', 1),\n",
       " ('Копорье', 1),\n",
       " ('Паша', 1),\n",
       " ('Путилово', 1),\n",
       " ('Рождествено', 1),\n",
       " ('Русско-Высоцкое', 1),\n",
       " ('Шум', 1)]"
      ]
     },
     "execution_count": 18,
     "metadata": {},
     "output_type": "execute_result"
    }
   ],
   "source": [
    "words = dict()\n",
    "for name in flats['locality_name'].sort_values().unique():\n",
    "    for word in name.split():\n",
    "        if word in words:\n",
    "            words[word] += 1\n",
    "        else:\n",
    "            words[word] = 1\n",
    "sorted(words.items(), key=lambda kv: -kv[1])"
   ]
  },
  {
   "cell_type": "markdown",
   "metadata": {},
   "source": [
    "Возможно, \"поселок городского типа\" и \"городской поселок\" это одно и тоже, попробуем заменить."
   ]
  },
  {
   "cell_type": "code",
   "execution_count": 19,
   "metadata": {},
   "outputs": [],
   "source": [
    "def replace_phrase(value):\n",
    "    return value.replace('городской поселок ', 'поселок городского типа ')\n",
    "flats['locality_name'] = flats['locality_name'].apply(replace_phrase)"
   ]
  },
  {
   "cell_type": "code",
   "execution_count": 20,
   "metadata": {},
   "outputs": [
    {
     "data": {
      "text/plain": [
       "323"
      ]
     },
     "execution_count": 20,
     "metadata": {},
     "output_type": "execute_result"
    }
   ],
   "source": [
    "flats['locality_name'].nunique()"
   ]
  },
  {
   "cell_type": "markdown",
   "metadata": {},
   "source": [
    "Было 7 дубликатов, посмотрим, может еще что-нибудь есть. Ниже приведены некоторые слова встречающиеся в названиях населенных пунктов дважды."
   ]
  },
  {
   "cell_type": "code",
   "execution_count": 21,
   "metadata": {
    "scrolled": true
   },
   "outputs": [
    {
     "name": "stdout",
     "output_type": "stream",
     "text": [
      "Кудрово - Кудрово\n",
      "Кудрово - деревня Кудрово\n",
      "Любань - Любань\n",
      "Любань - поселок Любань\n",
      "Мурино - Мурино\n",
      "Мурино - поселок Мурино\n",
      "Никольское - Никольское\n",
      "Никольское - село Никольское\n",
      "Ладога - Новая Ладога\n",
      "Ладога - село Старая Ладога\n",
      "Бегуницы - деревня Бегуницы\n",
      "Бегуницы - деревня Старые Бегуницы\n",
      "Колпаны - деревня Большие Колпаны\n",
      "Колпаны - деревня Малые Колпаны\n",
      "Гарболово - деревня Гарболово\n",
      "Гарболово - поселок Гарболово\n",
      "Зимитицы - деревня Зимитицы\n",
      "Зимитицы - поселок Зимитицы\n",
      "Калитино - деревня Калитино\n",
      "Калитино - поселок Калитино\n",
      "Романовка - деревня Малая Романовка\n",
      "Романовка - поселок Романовка\n",
      "Рабитицы - деревня Рабитицы\n",
      "Рабитицы - поселок Рабитицы\n",
      "Федоровское - деревня Федоровское\n",
      "Федоровское - поселок городского типа Федоровское\n",
      "Щеглово - деревня Щеглово\n",
      "Щеглово - поселок Щеглово\n",
      "Лесное - коттеджный поселок Лесное\n",
      "Лесное - поселок Лесное\n",
      "Громово - поселок Громово\n",
      "Громово - поселок станции Громово\n",
      "Красная - поселок Красная Долина\n",
      "Красная - поселок Форт Красная Горка\n",
      "Ропша - поселок Ропша\n",
      "Ропша - садовое товарищество Новая Ропша\n",
      "Рябово - поселок Рябово\n",
      "Рябово - поселок городского типа Рябово\n",
      "Горка - поселок Форт Красная Горка\n",
      "Горка - поселок городского типа Дружная Горка\n",
      "Павлово - поселок городского типа Павлово\n",
      "Павлово - село Павлово\n",
      "Приладожский - поселок городского типа Приладожский\n",
      "Приладожский - садовое товарищество Приладожский\n",
      "Рахья - поселок городского типа Рахья\n",
      "Рахья - садовое товарищество Рахья\n",
      "Вещево - поселок при железнодорожной станции Вещево\n",
      "Вещево - поселок станции Вещево\n",
      "Приветнинское - поселок при железнодорожной станции Приветнинское\n",
      "Приветнинское - поселок станции Приветнинское\n"
     ]
    }
   ],
   "source": [
    "doubles = ['Кудрово', 'Любань', 'Мурино', 'Никольское', \n",
    "           'Ладога', 'Бегуницы', 'Колпаны', \n",
    "           'Гарболово', 'Зимитицы', 'Калитино', \n",
    "           'Романовка', 'Рабитицы', 'Федоровское', \n",
    "           'Щеглово', 'Лесное', 'Громово', 'Красная', \n",
    "           'Ропша', 'Рябово', 'Горка', 'Павлово', \n",
    "           'Приладожский', 'Рахья', 'Вещево', 'Приветнинское']\n",
    "localities = flats['locality_name'].sort_values().unique()\n",
    "\n",
    "for word in doubles:\n",
    "    for name in localities: \n",
    "        if word in name:\n",
    "            print(f'{word} - {name}')"
   ]
  },
  {
   "cell_type": "markdown",
   "metadata": {},
   "source": [
    "Можно разобраться и выяснить, что является актуальным названием населенного пункта, но это выходит за эту работу, так что оставлю все как есть."
   ]
  },
  {
   "cell_type": "markdown",
   "metadata": {},
   "source": [
    "#### Исследуем столбец floors_total"
   ]
  },
  {
   "cell_type": "code",
   "execution_count": 22,
   "metadata": {},
   "outputs": [
    {
     "name": "stdout",
     "output_type": "stream",
     "text": [
      "85\n"
     ]
    },
    {
     "data": {
      "text/plain": [
       "count    23565.000000\n",
       "mean        10.675875\n",
       "std          6.594823\n",
       "min          1.000000\n",
       "25%          5.000000\n",
       "50%          9.000000\n",
       "75%         16.000000\n",
       "max         60.000000\n",
       "Name: floors_total, dtype: float64"
      ]
     },
     "execution_count": 22,
     "metadata": {},
     "output_type": "execute_result"
    }
   ],
   "source": [
    "print(flats['floors_total'].isna().sum())\n",
    "flats['floors_total'].describe()"
   ]
  },
  {
   "cell_type": "code",
   "execution_count": 23,
   "metadata": {},
   "outputs": [
    {
     "data": {
      "text/html": [
       "<div>\n",
       "<style scoped>\n",
       "    .dataframe tbody tr th:only-of-type {\n",
       "        vertical-align: middle;\n",
       "    }\n",
       "\n",
       "    .dataframe tbody tr th {\n",
       "        vertical-align: top;\n",
       "    }\n",
       "\n",
       "    .dataframe thead th {\n",
       "        text-align: right;\n",
       "    }\n",
       "</style>\n",
       "<table border=\"1\" class=\"dataframe\">\n",
       "  <thead>\n",
       "    <tr style=\"text-align: right;\">\n",
       "      <th></th>\n",
       "      <th>total_images</th>\n",
       "      <th>last_price</th>\n",
       "      <th>total_area</th>\n",
       "      <th>first_day_exposition</th>\n",
       "      <th>rooms</th>\n",
       "      <th>ceiling_height</th>\n",
       "      <th>floors_total</th>\n",
       "      <th>living_area</th>\n",
       "      <th>floor</th>\n",
       "      <th>is_apartment</th>\n",
       "      <th>...</th>\n",
       "      <th>kitchen_area</th>\n",
       "      <th>balcony</th>\n",
       "      <th>locality_name</th>\n",
       "      <th>airports_nearest</th>\n",
       "      <th>cityCenters_nearest</th>\n",
       "      <th>parks_around3000</th>\n",
       "      <th>parks_nearest</th>\n",
       "      <th>ponds_around3000</th>\n",
       "      <th>ponds_nearest</th>\n",
       "      <th>days_exposition</th>\n",
       "    </tr>\n",
       "  </thead>\n",
       "  <tbody>\n",
       "    <tr>\n",
       "      <td>186</td>\n",
       "      <td>12</td>\n",
       "      <td>11640000.0</td>\n",
       "      <td>65.2</td>\n",
       "      <td>2018-10-02T00:00:00</td>\n",
       "      <td>2</td>\n",
       "      <td>NaN</td>\n",
       "      <td>NaN</td>\n",
       "      <td>30.80</td>\n",
       "      <td>4</td>\n",
       "      <td>NaN</td>\n",
       "      <td>...</td>\n",
       "      <td>12.00</td>\n",
       "      <td>NaN</td>\n",
       "      <td>Санкт-Петербург</td>\n",
       "      <td>39197.0</td>\n",
       "      <td>12373.0</td>\n",
       "      <td>1.0</td>\n",
       "      <td>123.0</td>\n",
       "      <td>0.0</td>\n",
       "      <td>NaN</td>\n",
       "      <td>49.0</td>\n",
       "    </tr>\n",
       "    <tr>\n",
       "      <td>237</td>\n",
       "      <td>4</td>\n",
       "      <td>2438033.0</td>\n",
       "      <td>28.1</td>\n",
       "      <td>2016-11-23T00:00:00</td>\n",
       "      <td>1</td>\n",
       "      <td>NaN</td>\n",
       "      <td>NaN</td>\n",
       "      <td>20.75</td>\n",
       "      <td>1</td>\n",
       "      <td>NaN</td>\n",
       "      <td>...</td>\n",
       "      <td>NaN</td>\n",
       "      <td>0.0</td>\n",
       "      <td>Санкт-Петербург</td>\n",
       "      <td>22041.0</td>\n",
       "      <td>17369.0</td>\n",
       "      <td>0.0</td>\n",
       "      <td>NaN</td>\n",
       "      <td>1.0</td>\n",
       "      <td>374.0</td>\n",
       "      <td>251.0</td>\n",
       "    </tr>\n",
       "    <tr>\n",
       "      <td>457</td>\n",
       "      <td>4</td>\n",
       "      <td>9788348.0</td>\n",
       "      <td>70.8</td>\n",
       "      <td>2015-08-01T00:00:00</td>\n",
       "      <td>2</td>\n",
       "      <td>NaN</td>\n",
       "      <td>NaN</td>\n",
       "      <td>38.40</td>\n",
       "      <td>12</td>\n",
       "      <td>NaN</td>\n",
       "      <td>...</td>\n",
       "      <td>10.63</td>\n",
       "      <td>0.0</td>\n",
       "      <td>Санкт-Петербург</td>\n",
       "      <td>37364.0</td>\n",
       "      <td>8322.0</td>\n",
       "      <td>2.0</td>\n",
       "      <td>309.0</td>\n",
       "      <td>2.0</td>\n",
       "      <td>706.0</td>\n",
       "      <td>727.0</td>\n",
       "    </tr>\n",
       "    <tr>\n",
       "      <td>671</td>\n",
       "      <td>4</td>\n",
       "      <td>6051191.0</td>\n",
       "      <td>93.6</td>\n",
       "      <td>2017-04-06T00:00:00</td>\n",
       "      <td>3</td>\n",
       "      <td>NaN</td>\n",
       "      <td>NaN</td>\n",
       "      <td>47.10</td>\n",
       "      <td>8</td>\n",
       "      <td>NaN</td>\n",
       "      <td>...</td>\n",
       "      <td>16.80</td>\n",
       "      <td>0.0</td>\n",
       "      <td>Санкт-Петербург</td>\n",
       "      <td>22041.0</td>\n",
       "      <td>17369.0</td>\n",
       "      <td>0.0</td>\n",
       "      <td>NaN</td>\n",
       "      <td>1.0</td>\n",
       "      <td>374.0</td>\n",
       "      <td>123.0</td>\n",
       "    </tr>\n",
       "    <tr>\n",
       "      <td>1757</td>\n",
       "      <td>5</td>\n",
       "      <td>3600000.0</td>\n",
       "      <td>39.0</td>\n",
       "      <td>2017-04-22T00:00:00</td>\n",
       "      <td>1</td>\n",
       "      <td>NaN</td>\n",
       "      <td>NaN</td>\n",
       "      <td>NaN</td>\n",
       "      <td>9</td>\n",
       "      <td>NaN</td>\n",
       "      <td>...</td>\n",
       "      <td>NaN</td>\n",
       "      <td>0.0</td>\n",
       "      <td>Санкт-Петербург</td>\n",
       "      <td>22735.0</td>\n",
       "      <td>11618.0</td>\n",
       "      <td>1.0</td>\n",
       "      <td>835.0</td>\n",
       "      <td>1.0</td>\n",
       "      <td>652.0</td>\n",
       "      <td>77.0</td>\n",
       "    </tr>\n",
       "  </tbody>\n",
       "</table>\n",
       "<p>5 rows × 22 columns</p>\n",
       "</div>"
      ],
      "text/plain": [
       "      total_images  last_price  total_area first_day_exposition  rooms  \\\n",
       "186             12  11640000.0        65.2  2018-10-02T00:00:00      2   \n",
       "237              4   2438033.0        28.1  2016-11-23T00:00:00      1   \n",
       "457              4   9788348.0        70.8  2015-08-01T00:00:00      2   \n",
       "671              4   6051191.0        93.6  2017-04-06T00:00:00      3   \n",
       "1757             5   3600000.0        39.0  2017-04-22T00:00:00      1   \n",
       "\n",
       "      ceiling_height  floors_total  living_area  floor is_apartment  ...  \\\n",
       "186              NaN           NaN        30.80      4          NaN  ...   \n",
       "237              NaN           NaN        20.75      1          NaN  ...   \n",
       "457              NaN           NaN        38.40     12          NaN  ...   \n",
       "671              NaN           NaN        47.10      8          NaN  ...   \n",
       "1757             NaN           NaN          NaN      9          NaN  ...   \n",
       "\n",
       "      kitchen_area  balcony    locality_name  airports_nearest  \\\n",
       "186          12.00      NaN  Санкт-Петербург           39197.0   \n",
       "237            NaN      0.0  Санкт-Петербург           22041.0   \n",
       "457          10.63      0.0  Санкт-Петербург           37364.0   \n",
       "671          16.80      0.0  Санкт-Петербург           22041.0   \n",
       "1757           NaN      0.0  Санкт-Петербург           22735.0   \n",
       "\n",
       "     cityCenters_nearest  parks_around3000  parks_nearest  ponds_around3000  \\\n",
       "186              12373.0               1.0          123.0               0.0   \n",
       "237              17369.0               0.0            NaN               1.0   \n",
       "457               8322.0               2.0          309.0               2.0   \n",
       "671              17369.0               0.0            NaN               1.0   \n",
       "1757             11618.0               1.0          835.0               1.0   \n",
       "\n",
       "      ponds_nearest  days_exposition  \n",
       "186             NaN             49.0  \n",
       "237           374.0            251.0  \n",
       "457           706.0            727.0  \n",
       "671           374.0            123.0  \n",
       "1757          652.0             77.0  \n",
       "\n",
       "[5 rows x 22 columns]"
      ]
     },
     "execution_count": 23,
     "metadata": {},
     "output_type": "execute_result"
    }
   ],
   "source": [
    "flats[flats['floors_total'].isna()].head()"
   ]
  },
  {
   "cell_type": "code",
   "execution_count": 24,
   "metadata": {},
   "outputs": [
    {
     "data": {
      "text/plain": [
       "array([ 8,  1,  4,  9, 13,  5,  6, 22, 26,  7,  3,  2, 11, 15, 18, 10, 19,\n",
       "       16, 20, 27, 25, 17, 14, 12, 21, 28, 24, 23, 30, 29, 32, 33, 31])"
      ]
     },
     "execution_count": 24,
     "metadata": {},
     "output_type": "execute_result"
    }
   ],
   "source": [
    "flats['floor'].unique()"
   ]
  },
  {
   "cell_type": "markdown",
   "metadata": {},
   "source": [
    "Не вижу в данных никаких аномалий. Строки с пропусками можно удалить, их не много(85).\n",
    "Но удалять данные не всегда лучшее решение. В наших данныю нет пропусков в столбце floor. Заполним пропуски в столбце floors_total данными из столбца floor. Тогда получится, что квартира находится на последнем этаже."
   ]
  },
  {
   "cell_type": "code",
   "execution_count": 25,
   "metadata": {},
   "outputs": [],
   "source": [
    "flats['floors_total'] = flats['floors_total'].fillna(flats['floor'])\n",
    "flats['floors_total'] = flats['floors_total'].astype(int)"
   ]
  },
  {
   "cell_type": "markdown",
   "metadata": {},
   "source": [
    "#### Исследуем столбец is_apartment"
   ]
  },
  {
   "cell_type": "code",
   "execution_count": 26,
   "metadata": {},
   "outputs": [
    {
     "data": {
      "text/plain": [
       "array([nan, False, True], dtype=object)"
      ]
     },
     "execution_count": 26,
     "metadata": {},
     "output_type": "execute_result"
    }
   ],
   "source": [
    "flats['is_apartment'].unique()"
   ]
  },
  {
   "cell_type": "markdown",
   "metadata": {},
   "source": [
    "На мой взгляд, отсутствие значения в столбце is_apartment означает, что эта квартира не является аппартаментами, заменим на False. Видно, что значения в нужно привести к типу int. "
   ]
  },
  {
   "cell_type": "code",
   "execution_count": 27,
   "metadata": {},
   "outputs": [],
   "source": [
    "flats['is_apartment'].fillna(False, inplace=True)\n",
    "flats['is_apartment'] = flats['is_apartment'].astype(int)"
   ]
  },
  {
   "cell_type": "markdown",
   "metadata": {},
   "source": [
    "#### Исследуем столбец is_apartment"
   ]
  },
  {
   "cell_type": "code",
   "execution_count": 28,
   "metadata": {},
   "outputs": [
    {
     "data": {
      "text/plain": [
       "array([nan,  2.,  0.,  1.,  5.,  4.,  3.])"
      ]
     },
     "execution_count": 28,
     "metadata": {},
     "output_type": "execute_result"
    }
   ],
   "source": [
    "flats['balcony'].unique()"
   ]
  },
  {
   "cell_type": "markdown",
   "metadata": {},
   "source": [
    "Столбец balcony так же содержит пустые значения, скорее всего у квартиры нет балкона, заменим на 0 и приведем тип к int."
   ]
  },
  {
   "cell_type": "code",
   "execution_count": 29,
   "metadata": {},
   "outputs": [],
   "source": [
    "flats['balcony'].fillna(0, inplace=True)\n",
    "flats['balcony'] = flats['balcony'].astype(int)"
   ]
  },
  {
   "cell_type": "markdown",
   "metadata": {},
   "source": [
    "#### Рассмотрим поля связанные с расстояниями до объектов инфраструктуры parks_around3000, ponds_around3000"
   ]
  },
  {
   "cell_type": "code",
   "execution_count": 30,
   "metadata": {},
   "outputs": [
    {
     "name": "stdout",
     "output_type": "stream",
     "text": [
      "count    18140.000000\n",
      "mean         0.611577\n",
      "std          0.802003\n",
      "min          0.000000\n",
      "25%          0.000000\n",
      "50%          0.000000\n",
      "75%          1.000000\n",
      "max          3.000000\n",
      "Name: parks_around3000, dtype: float64\n",
      "\n",
      "count    18140.000000\n",
      "mean         0.769680\n",
      "std          0.937948\n",
      "min          0.000000\n",
      "25%          0.000000\n",
      "50%          1.000000\n",
      "75%          1.000000\n",
      "max          3.000000\n",
      "Name: ponds_around3000, dtype: float64\n"
     ]
    }
   ],
   "source": [
    "print(flats['parks_around3000'].describe(), end='\\n\\n')\n",
    "print(flats['ponds_around3000'].describe())"
   ]
  },
  {
   "cell_type": "markdown",
   "metadata": {},
   "source": [
    "Данные выглядят хорошо, выбросов или странных значений не видно.\n",
    "Проверим гипотезу о том, что отсутствие расстояние = отсутствие обекта инфраструктуры."
   ]
  },
  {
   "cell_type": "code",
   "execution_count": 31,
   "metadata": {},
   "outputs": [
    {
     "name": "stdout",
     "output_type": "stream",
     "text": [
      "[ 0. nan]\n",
      "[ 0. nan]\n"
     ]
    }
   ],
   "source": [
    "print(flats[flats['parks_nearest'].isnull()]['parks_around3000'].unique())\n",
    "print(flats[flats['ponds_nearest'].isnull()]['ponds_around3000'].unique())"
   ]
  },
  {
   "cell_type": "markdown",
   "metadata": {},
   "source": [
    "Да, всё верно, объекты отсутствую. Заменим пустые значения в parks_around3000 на 0 и приведем к типу int"
   ]
  },
  {
   "cell_type": "code",
   "execution_count": 32,
   "metadata": {},
   "outputs": [],
   "source": [
    "flats['parks_around3000'].fillna(0, inplace=True)\n",
    "flats['ponds_around3000'].fillna(0, inplace=True)\n",
    "flats['parks_around3000'] = flats['parks_around3000'].astype(int)\n",
    "flats['ponds_around3000'] = flats['ponds_around3000'].astype(int)"
   ]
  },
  {
   "cell_type": "markdown",
   "metadata": {},
   "source": [
    "Отсутсвие значений в полях parks_nearest, ponds_nearest, airports_nearest несет в себе важную часть информации, оставим эти стосбцы незаполненными."
   ]
  },
  {
   "cell_type": "markdown",
   "metadata": {},
   "source": [
    "#### Исследуем поле ceiling_height"
   ]
  },
  {
   "cell_type": "code",
   "execution_count": 33,
   "metadata": {},
   "outputs": [
    {
     "name": "stdout",
     "output_type": "stream",
     "text": [
      "184\n"
     ]
    },
    {
     "data": {
      "text/plain": [
       "count    14490.000000\n",
       "mean         2.771287\n",
       "std          1.261593\n",
       "min          1.000000\n",
       "25%          2.520000\n",
       "50%          2.650000\n",
       "75%          2.800000\n",
       "max        100.000000\n",
       "Name: ceiling_height, dtype: float64"
      ]
     },
     "execution_count": 33,
     "metadata": {},
     "output_type": "execute_result"
    }
   ],
   "source": [
    "print(len(flats['ceiling_height'].unique()))\n",
    "flats['ceiling_height'].describe()"
   ]
  },
  {
   "cell_type": "markdown",
   "metadata": {},
   "source": [
    "Видим, что уникальных значений не много(184). Так же можно заметить, что высота потолков бывает от 1 до 100 метров, что не возможно. Предположим, что есть старые постройки или самострой и установим границы от 2 до 4 метров. Взгляним на эти странные объекты."
   ]
  },
  {
   "cell_type": "code",
   "execution_count": 34,
   "metadata": {},
   "outputs": [
    {
     "data": {
      "text/html": [
       "<div>\n",
       "<style scoped>\n",
       "    .dataframe tbody tr th:only-of-type {\n",
       "        vertical-align: middle;\n",
       "    }\n",
       "\n",
       "    .dataframe tbody tr th {\n",
       "        vertical-align: top;\n",
       "    }\n",
       "\n",
       "    .dataframe thead th {\n",
       "        text-align: right;\n",
       "    }\n",
       "</style>\n",
       "<table border=\"1\" class=\"dataframe\">\n",
       "  <thead>\n",
       "    <tr style=\"text-align: right;\">\n",
       "      <th></th>\n",
       "      <th>total_images</th>\n",
       "      <th>last_price</th>\n",
       "      <th>total_area</th>\n",
       "      <th>first_day_exposition</th>\n",
       "      <th>rooms</th>\n",
       "      <th>ceiling_height</th>\n",
       "      <th>floors_total</th>\n",
       "      <th>living_area</th>\n",
       "      <th>floor</th>\n",
       "      <th>is_apartment</th>\n",
       "      <th>...</th>\n",
       "      <th>kitchen_area</th>\n",
       "      <th>balcony</th>\n",
       "      <th>locality_name</th>\n",
       "      <th>airports_nearest</th>\n",
       "      <th>cityCenters_nearest</th>\n",
       "      <th>parks_around3000</th>\n",
       "      <th>parks_nearest</th>\n",
       "      <th>ponds_around3000</th>\n",
       "      <th>ponds_nearest</th>\n",
       "      <th>days_exposition</th>\n",
       "    </tr>\n",
       "  </thead>\n",
       "  <tbody>\n",
       "    <tr>\n",
       "      <td>154</td>\n",
       "      <td>1</td>\n",
       "      <td>8200000.0</td>\n",
       "      <td>80.0</td>\n",
       "      <td>2018-11-06T00:00:00</td>\n",
       "      <td>3</td>\n",
       "      <td>4.15</td>\n",
       "      <td>3</td>\n",
       "      <td>44.2</td>\n",
       "      <td>2</td>\n",
       "      <td>0</td>\n",
       "      <td>...</td>\n",
       "      <td>12.2</td>\n",
       "      <td>0</td>\n",
       "      <td>Санкт-Петербург</td>\n",
       "      <td>20562.0</td>\n",
       "      <td>3167.0</td>\n",
       "      <td>2</td>\n",
       "      <td>344.0</td>\n",
       "      <td>1</td>\n",
       "      <td>838.0</td>\n",
       "      <td>38.0</td>\n",
       "    </tr>\n",
       "    <tr>\n",
       "      <td>355</td>\n",
       "      <td>17</td>\n",
       "      <td>3600000.0</td>\n",
       "      <td>55.2</td>\n",
       "      <td>2018-07-12T00:00:00</td>\n",
       "      <td>2</td>\n",
       "      <td>25.00</td>\n",
       "      <td>5</td>\n",
       "      <td>32.0</td>\n",
       "      <td>2</td>\n",
       "      <td>0</td>\n",
       "      <td>...</td>\n",
       "      <td>NaN</td>\n",
       "      <td>2</td>\n",
       "      <td>Гатчина</td>\n",
       "      <td>NaN</td>\n",
       "      <td>NaN</td>\n",
       "      <td>0</td>\n",
       "      <td>NaN</td>\n",
       "      <td>0</td>\n",
       "      <td>NaN</td>\n",
       "      <td>259.0</td>\n",
       "    </tr>\n",
       "    <tr>\n",
       "      <td>464</td>\n",
       "      <td>15</td>\n",
       "      <td>66571000.0</td>\n",
       "      <td>280.3</td>\n",
       "      <td>2015-06-11T00:00:00</td>\n",
       "      <td>6</td>\n",
       "      <td>5.20</td>\n",
       "      <td>8</td>\n",
       "      <td>159.5</td>\n",
       "      <td>7</td>\n",
       "      <td>0</td>\n",
       "      <td>...</td>\n",
       "      <td>21.1</td>\n",
       "      <td>0</td>\n",
       "      <td>Санкт-Петербург</td>\n",
       "      <td>26316.0</td>\n",
       "      <td>6655.0</td>\n",
       "      <td>3</td>\n",
       "      <td>187.0</td>\n",
       "      <td>1</td>\n",
       "      <td>616.0</td>\n",
       "      <td>578.0</td>\n",
       "    </tr>\n",
       "    <tr>\n",
       "      <td>1026</td>\n",
       "      <td>20</td>\n",
       "      <td>155000000.0</td>\n",
       "      <td>310.0</td>\n",
       "      <td>2018-10-12T00:00:00</td>\n",
       "      <td>5</td>\n",
       "      <td>5.30</td>\n",
       "      <td>3</td>\n",
       "      <td>190.0</td>\n",
       "      <td>3</td>\n",
       "      <td>0</td>\n",
       "      <td>...</td>\n",
       "      <td>63.0</td>\n",
       "      <td>2</td>\n",
       "      <td>Санкт-Петербург</td>\n",
       "      <td>24899.0</td>\n",
       "      <td>4785.0</td>\n",
       "      <td>0</td>\n",
       "      <td>NaN</td>\n",
       "      <td>1</td>\n",
       "      <td>603.0</td>\n",
       "      <td>NaN</td>\n",
       "    </tr>\n",
       "    <tr>\n",
       "      <td>1053</td>\n",
       "      <td>13</td>\n",
       "      <td>550000.0</td>\n",
       "      <td>29.0</td>\n",
       "      <td>2018-02-01T00:00:00</td>\n",
       "      <td>1</td>\n",
       "      <td>5.00</td>\n",
       "      <td>3</td>\n",
       "      <td>NaN</td>\n",
       "      <td>1</td>\n",
       "      <td>0</td>\n",
       "      <td>...</td>\n",
       "      <td>NaN</td>\n",
       "      <td>0</td>\n",
       "      <td>Бокситогорск</td>\n",
       "      <td>NaN</td>\n",
       "      <td>NaN</td>\n",
       "      <td>0</td>\n",
       "      <td>NaN</td>\n",
       "      <td>0</td>\n",
       "      <td>NaN</td>\n",
       "      <td>6.0</td>\n",
       "    </tr>\n",
       "    <tr>\n",
       "      <td>1129</td>\n",
       "      <td>20</td>\n",
       "      <td>6695000.0</td>\n",
       "      <td>36.9</td>\n",
       "      <td>2018-09-28T00:00:00</td>\n",
       "      <td>1</td>\n",
       "      <td>4.06</td>\n",
       "      <td>5</td>\n",
       "      <td>22.0</td>\n",
       "      <td>2</td>\n",
       "      <td>0</td>\n",
       "      <td>...</td>\n",
       "      <td>7.2</td>\n",
       "      <td>0</td>\n",
       "      <td>Санкт-Петербург</td>\n",
       "      <td>21725.0</td>\n",
       "      <td>2990.0</td>\n",
       "      <td>1</td>\n",
       "      <td>596.0</td>\n",
       "      <td>1</td>\n",
       "      <td>866.0</td>\n",
       "      <td>110.0</td>\n",
       "    </tr>\n",
       "    <tr>\n",
       "      <td>1300</td>\n",
       "      <td>14</td>\n",
       "      <td>120000000.0</td>\n",
       "      <td>280.0</td>\n",
       "      <td>2018-07-12T00:00:00</td>\n",
       "      <td>5</td>\n",
       "      <td>4.70</td>\n",
       "      <td>4</td>\n",
       "      <td>162.0</td>\n",
       "      <td>3</td>\n",
       "      <td>0</td>\n",
       "      <td>...</td>\n",
       "      <td>30.0</td>\n",
       "      <td>0</td>\n",
       "      <td>Санкт-Петербург</td>\n",
       "      <td>24680.0</td>\n",
       "      <td>4247.0</td>\n",
       "      <td>1</td>\n",
       "      <td>464.0</td>\n",
       "      <td>3</td>\n",
       "      <td>339.0</td>\n",
       "      <td>225.0</td>\n",
       "    </tr>\n",
       "    <tr>\n",
       "      <td>1388</td>\n",
       "      <td>20</td>\n",
       "      <td>59800000.0</td>\n",
       "      <td>399.0</td>\n",
       "      <td>2015-01-21T00:00:00</td>\n",
       "      <td>5</td>\n",
       "      <td>5.60</td>\n",
       "      <td>6</td>\n",
       "      <td>NaN</td>\n",
       "      <td>6</td>\n",
       "      <td>0</td>\n",
       "      <td>...</td>\n",
       "      <td>NaN</td>\n",
       "      <td>0</td>\n",
       "      <td>Санкт-Петербург</td>\n",
       "      <td>26204.0</td>\n",
       "      <td>6934.0</td>\n",
       "      <td>2</td>\n",
       "      <td>149.0</td>\n",
       "      <td>2</td>\n",
       "      <td>577.0</td>\n",
       "      <td>719.0</td>\n",
       "    </tr>\n",
       "    <tr>\n",
       "      <td>2639</td>\n",
       "      <td>17</td>\n",
       "      <td>4850000.0</td>\n",
       "      <td>59.7</td>\n",
       "      <td>2017-11-18T00:00:00</td>\n",
       "      <td>3</td>\n",
       "      <td>4.19</td>\n",
       "      <td>5</td>\n",
       "      <td>46.3</td>\n",
       "      <td>4</td>\n",
       "      <td>0</td>\n",
       "      <td>...</td>\n",
       "      <td>6.4</td>\n",
       "      <td>1</td>\n",
       "      <td>Санкт-Петербург</td>\n",
       "      <td>42964.0</td>\n",
       "      <td>15468.0</td>\n",
       "      <td>0</td>\n",
       "      <td>NaN</td>\n",
       "      <td>0</td>\n",
       "      <td>NaN</td>\n",
       "      <td>60.0</td>\n",
       "    </tr>\n",
       "    <tr>\n",
       "      <td>2802</td>\n",
       "      <td>7</td>\n",
       "      <td>14950000.0</td>\n",
       "      <td>50.0</td>\n",
       "      <td>2016-03-06T00:00:00</td>\n",
       "      <td>2</td>\n",
       "      <td>4.80</td>\n",
       "      <td>3</td>\n",
       "      <td>30.0</td>\n",
       "      <td>2</td>\n",
       "      <td>0</td>\n",
       "      <td>...</td>\n",
       "      <td>10.0</td>\n",
       "      <td>0</td>\n",
       "      <td>Санкт-Петербург</td>\n",
       "      <td>24433.0</td>\n",
       "      <td>1725.0</td>\n",
       "      <td>1</td>\n",
       "      <td>589.0</td>\n",
       "      <td>3</td>\n",
       "      <td>161.0</td>\n",
       "      <td>160.0</td>\n",
       "    </tr>\n",
       "  </tbody>\n",
       "</table>\n",
       "<p>10 rows × 22 columns</p>\n",
       "</div>"
      ],
      "text/plain": [
       "      total_images   last_price  total_area first_day_exposition  rooms  \\\n",
       "154              1    8200000.0        80.0  2018-11-06T00:00:00      3   \n",
       "355             17    3600000.0        55.2  2018-07-12T00:00:00      2   \n",
       "464             15   66571000.0       280.3  2015-06-11T00:00:00      6   \n",
       "1026            20  155000000.0       310.0  2018-10-12T00:00:00      5   \n",
       "1053            13     550000.0        29.0  2018-02-01T00:00:00      1   \n",
       "1129            20    6695000.0        36.9  2018-09-28T00:00:00      1   \n",
       "1300            14  120000000.0       280.0  2018-07-12T00:00:00      5   \n",
       "1388            20   59800000.0       399.0  2015-01-21T00:00:00      5   \n",
       "2639            17    4850000.0        59.7  2017-11-18T00:00:00      3   \n",
       "2802             7   14950000.0        50.0  2016-03-06T00:00:00      2   \n",
       "\n",
       "      ceiling_height  floors_total  living_area  floor  is_apartment  ...  \\\n",
       "154             4.15             3         44.2      2             0  ...   \n",
       "355            25.00             5         32.0      2             0  ...   \n",
       "464             5.20             8        159.5      7             0  ...   \n",
       "1026            5.30             3        190.0      3             0  ...   \n",
       "1053            5.00             3          NaN      1             0  ...   \n",
       "1129            4.06             5         22.0      2             0  ...   \n",
       "1300            4.70             4        162.0      3             0  ...   \n",
       "1388            5.60             6          NaN      6             0  ...   \n",
       "2639            4.19             5         46.3      4             0  ...   \n",
       "2802            4.80             3         30.0      2             0  ...   \n",
       "\n",
       "      kitchen_area  balcony    locality_name  airports_nearest  \\\n",
       "154           12.2        0  Санкт-Петербург           20562.0   \n",
       "355            NaN        2          Гатчина               NaN   \n",
       "464           21.1        0  Санкт-Петербург           26316.0   \n",
       "1026          63.0        2  Санкт-Петербург           24899.0   \n",
       "1053           NaN        0     Бокситогорск               NaN   \n",
       "1129           7.2        0  Санкт-Петербург           21725.0   \n",
       "1300          30.0        0  Санкт-Петербург           24680.0   \n",
       "1388           NaN        0  Санкт-Петербург           26204.0   \n",
       "2639           6.4        1  Санкт-Петербург           42964.0   \n",
       "2802          10.0        0  Санкт-Петербург           24433.0   \n",
       "\n",
       "     cityCenters_nearest  parks_around3000  parks_nearest  ponds_around3000  \\\n",
       "154               3167.0                 2          344.0                 1   \n",
       "355                  NaN                 0            NaN                 0   \n",
       "464               6655.0                 3          187.0                 1   \n",
       "1026              4785.0                 0            NaN                 1   \n",
       "1053                 NaN                 0            NaN                 0   \n",
       "1129              2990.0                 1          596.0                 1   \n",
       "1300              4247.0                 1          464.0                 3   \n",
       "1388              6934.0                 2          149.0                 2   \n",
       "2639             15468.0                 0            NaN                 0   \n",
       "2802              1725.0                 1          589.0                 3   \n",
       "\n",
       "      ponds_nearest  days_exposition  \n",
       "154           838.0             38.0  \n",
       "355             NaN            259.0  \n",
       "464           616.0            578.0  \n",
       "1026          603.0              NaN  \n",
       "1053            NaN              6.0  \n",
       "1129          866.0            110.0  \n",
       "1300          339.0            225.0  \n",
       "1388          577.0            719.0  \n",
       "2639            NaN             60.0  \n",
       "2802          161.0            160.0  \n",
       "\n",
       "[10 rows x 22 columns]"
      ]
     },
     "execution_count": 34,
     "metadata": {},
     "output_type": "execute_result"
    }
   ],
   "source": [
    "flats[flats['ceiling_height'] > 4].head(10)"
   ]
  },
  {
   "cell_type": "markdown",
   "metadata": {},
   "source": [
    "Можно предположить, что человек просто ошибся и поставил точку не там: потолки высотой 2.5, а он написал 25. Можно попробовать решить эту проблему. Но сначало взглянем на то сколько таких примеров и если меньше 1 процента, удалим."
   ]
  },
  {
   "cell_type": "code",
   "execution_count": 35,
   "metadata": {},
   "outputs": [
    {
     "data": {
      "text/plain": [
       "0.5369978858350951"
      ]
     },
     "execution_count": 35,
     "metadata": {},
     "output_type": "execute_result"
    }
   ],
   "source": [
    "bad_ceiling_height = 'ceiling_height <= 2 or ceiling_height >= 4'\n",
    "good_ceiling_height = 'ceiling_height > 2 and ceiling_height < 4'\n",
    "flats.query(bad_ceiling_height).shape[0] / flats.shape[0] * 100"
   ]
  },
  {
   "cell_type": "markdown",
   "metadata": {},
   "source": [
    "Посмотрим на группировку обектов по этажности домов"
   ]
  },
  {
   "cell_type": "code",
   "execution_count": 36,
   "metadata": {
    "scrolled": true
   },
   "outputs": [
    {
     "data": {
      "text/html": [
       "<div>\n",
       "<style scoped>\n",
       "    .dataframe tbody tr th:only-of-type {\n",
       "        vertical-align: middle;\n",
       "    }\n",
       "\n",
       "    .dataframe tbody tr th {\n",
       "        vertical-align: top;\n",
       "    }\n",
       "\n",
       "    .dataframe thead th {\n",
       "        text-align: right;\n",
       "    }\n",
       "</style>\n",
       "<table border=\"1\" class=\"dataframe\">\n",
       "  <thead>\n",
       "    <tr style=\"text-align: right;\">\n",
       "      <th></th>\n",
       "      <th>min</th>\n",
       "      <th>max</th>\n",
       "      <th>mean</th>\n",
       "    </tr>\n",
       "    <tr>\n",
       "      <th>floors_total</th>\n",
       "      <th></th>\n",
       "      <th></th>\n",
       "      <th></th>\n",
       "    </tr>\n",
       "  </thead>\n",
       "  <tbody>\n",
       "    <tr>\n",
       "      <td>1</td>\n",
       "      <td>2.30</td>\n",
       "      <td>3.00</td>\n",
       "      <td>2.740000</td>\n",
       "    </tr>\n",
       "    <tr>\n",
       "      <td>2</td>\n",
       "      <td>2.20</td>\n",
       "      <td>3.80</td>\n",
       "      <td>2.780337</td>\n",
       "    </tr>\n",
       "    <tr>\n",
       "      <td>3</td>\n",
       "      <td>2.50</td>\n",
       "      <td>3.95</td>\n",
       "      <td>2.854872</td>\n",
       "    </tr>\n",
       "    <tr>\n",
       "      <td>4</td>\n",
       "      <td>2.40</td>\n",
       "      <td>3.98</td>\n",
       "      <td>2.927529</td>\n",
       "    </tr>\n",
       "    <tr>\n",
       "      <td>5</td>\n",
       "      <td>2.25</td>\n",
       "      <td>3.95</td>\n",
       "      <td>2.696303</td>\n",
       "    </tr>\n",
       "    <tr>\n",
       "      <td>6</td>\n",
       "      <td>2.40</td>\n",
       "      <td>3.95</td>\n",
       "      <td>3.050314</td>\n",
       "    </tr>\n",
       "    <tr>\n",
       "      <td>7</td>\n",
       "      <td>2.45</td>\n",
       "      <td>3.90</td>\n",
       "      <td>2.916513</td>\n",
       "    </tr>\n",
       "    <tr>\n",
       "      <td>8</td>\n",
       "      <td>2.40</td>\n",
       "      <td>3.70</td>\n",
       "      <td>2.839450</td>\n",
       "    </tr>\n",
       "    <tr>\n",
       "      <td>9</td>\n",
       "      <td>2.30</td>\n",
       "      <td>3.90</td>\n",
       "      <td>2.580204</td>\n",
       "    </tr>\n",
       "    <tr>\n",
       "      <td>10</td>\n",
       "      <td>2.46</td>\n",
       "      <td>3.80</td>\n",
       "      <td>2.652737</td>\n",
       "    </tr>\n",
       "    <tr>\n",
       "      <td>11</td>\n",
       "      <td>2.45</td>\n",
       "      <td>3.20</td>\n",
       "      <td>2.782385</td>\n",
       "    </tr>\n",
       "    <tr>\n",
       "      <td>12</td>\n",
       "      <td>2.40</td>\n",
       "      <td>3.60</td>\n",
       "      <td>2.642938</td>\n",
       "    </tr>\n",
       "    <tr>\n",
       "      <td>13</td>\n",
       "      <td>2.50</td>\n",
       "      <td>3.10</td>\n",
       "      <td>2.715470</td>\n",
       "    </tr>\n",
       "    <tr>\n",
       "      <td>14</td>\n",
       "      <td>2.45</td>\n",
       "      <td>3.30</td>\n",
       "      <td>2.640235</td>\n",
       "    </tr>\n",
       "    <tr>\n",
       "      <td>15</td>\n",
       "      <td>2.50</td>\n",
       "      <td>3.10</td>\n",
       "      <td>2.718036</td>\n",
       "    </tr>\n",
       "    <tr>\n",
       "      <td>16</td>\n",
       "      <td>2.48</td>\n",
       "      <td>3.50</td>\n",
       "      <td>2.726353</td>\n",
       "    </tr>\n",
       "    <tr>\n",
       "      <td>17</td>\n",
       "      <td>2.50</td>\n",
       "      <td>3.20</td>\n",
       "      <td>2.713640</td>\n",
       "    </tr>\n",
       "    <tr>\n",
       "      <td>18</td>\n",
       "      <td>2.50</td>\n",
       "      <td>3.08</td>\n",
       "      <td>2.707153</td>\n",
       "    </tr>\n",
       "    <tr>\n",
       "      <td>19</td>\n",
       "      <td>2.50</td>\n",
       "      <td>3.40</td>\n",
       "      <td>2.780370</td>\n",
       "    </tr>\n",
       "    <tr>\n",
       "      <td>20</td>\n",
       "      <td>2.50</td>\n",
       "      <td>3.30</td>\n",
       "      <td>2.756859</td>\n",
       "    </tr>\n",
       "    <tr>\n",
       "      <td>21</td>\n",
       "      <td>2.50</td>\n",
       "      <td>3.00</td>\n",
       "      <td>2.712090</td>\n",
       "    </tr>\n",
       "    <tr>\n",
       "      <td>22</td>\n",
       "      <td>2.50</td>\n",
       "      <td>3.00</td>\n",
       "      <td>2.731560</td>\n",
       "    </tr>\n",
       "    <tr>\n",
       "      <td>23</td>\n",
       "      <td>2.50</td>\n",
       "      <td>3.20</td>\n",
       "      <td>2.753265</td>\n",
       "    </tr>\n",
       "    <tr>\n",
       "      <td>24</td>\n",
       "      <td>2.50</td>\n",
       "      <td>3.12</td>\n",
       "      <td>2.737395</td>\n",
       "    </tr>\n",
       "    <tr>\n",
       "      <td>25</td>\n",
       "      <td>2.50</td>\n",
       "      <td>3.75</td>\n",
       "      <td>2.730192</td>\n",
       "    </tr>\n",
       "    <tr>\n",
       "      <td>26</td>\n",
       "      <td>2.50</td>\n",
       "      <td>3.00</td>\n",
       "      <td>2.671698</td>\n",
       "    </tr>\n",
       "    <tr>\n",
       "      <td>27</td>\n",
       "      <td>2.50</td>\n",
       "      <td>2.80</td>\n",
       "      <td>2.675556</td>\n",
       "    </tr>\n",
       "    <tr>\n",
       "      <td>28</td>\n",
       "      <td>2.50</td>\n",
       "      <td>2.80</td>\n",
       "      <td>2.594444</td>\n",
       "    </tr>\n",
       "    <tr>\n",
       "      <td>29</td>\n",
       "      <td>2.60</td>\n",
       "      <td>2.60</td>\n",
       "      <td>2.600000</td>\n",
       "    </tr>\n",
       "    <tr>\n",
       "      <td>34</td>\n",
       "      <td>2.65</td>\n",
       "      <td>2.65</td>\n",
       "      <td>2.650000</td>\n",
       "    </tr>\n",
       "    <tr>\n",
       "      <td>35</td>\n",
       "      <td>2.50</td>\n",
       "      <td>2.80</td>\n",
       "      <td>2.710000</td>\n",
       "    </tr>\n",
       "    <tr>\n",
       "      <td>36</td>\n",
       "      <td>2.70</td>\n",
       "      <td>2.70</td>\n",
       "      <td>2.700000</td>\n",
       "    </tr>\n",
       "    <tr>\n",
       "      <td>52</td>\n",
       "      <td>2.65</td>\n",
       "      <td>2.65</td>\n",
       "      <td>2.650000</td>\n",
       "    </tr>\n",
       "    <tr>\n",
       "      <td>60</td>\n",
       "      <td>2.88</td>\n",
       "      <td>2.88</td>\n",
       "      <td>2.880000</td>\n",
       "    </tr>\n",
       "  </tbody>\n",
       "</table>\n",
       "</div>"
      ],
      "text/plain": [
       "               min   max      mean\n",
       "floors_total                      \n",
       "1             2.30  3.00  2.740000\n",
       "2             2.20  3.80  2.780337\n",
       "3             2.50  3.95  2.854872\n",
       "4             2.40  3.98  2.927529\n",
       "5             2.25  3.95  2.696303\n",
       "6             2.40  3.95  3.050314\n",
       "7             2.45  3.90  2.916513\n",
       "8             2.40  3.70  2.839450\n",
       "9             2.30  3.90  2.580204\n",
       "10            2.46  3.80  2.652737\n",
       "11            2.45  3.20  2.782385\n",
       "12            2.40  3.60  2.642938\n",
       "13            2.50  3.10  2.715470\n",
       "14            2.45  3.30  2.640235\n",
       "15            2.50  3.10  2.718036\n",
       "16            2.48  3.50  2.726353\n",
       "17            2.50  3.20  2.713640\n",
       "18            2.50  3.08  2.707153\n",
       "19            2.50  3.40  2.780370\n",
       "20            2.50  3.30  2.756859\n",
       "21            2.50  3.00  2.712090\n",
       "22            2.50  3.00  2.731560\n",
       "23            2.50  3.20  2.753265\n",
       "24            2.50  3.12  2.737395\n",
       "25            2.50  3.75  2.730192\n",
       "26            2.50  3.00  2.671698\n",
       "27            2.50  2.80  2.675556\n",
       "28            2.50  2.80  2.594444\n",
       "29            2.60  2.60  2.600000\n",
       "34            2.65  2.65  2.650000\n",
       "35            2.50  2.80  2.710000\n",
       "36            2.70  2.70  2.700000\n",
       "52            2.65  2.65  2.650000\n",
       "60            2.88  2.88  2.880000"
      ]
     },
     "execution_count": 36,
     "metadata": {},
     "output_type": "execute_result"
    }
   ],
   "source": [
    "flats.query(good_ceiling_height).groupby('floors_total')['ceiling_height'].agg(['min', 'max', 'mean'])"
   ]
  },
  {
   "cell_type": "markdown",
   "metadata": {},
   "source": [
    "Заменим пропуски средней высотой потолков, расчитанной по этажности дома. Потом округлим значения до 2-х знаков после запятой."
   ]
  },
  {
   "cell_type": "code",
   "execution_count": 37,
   "metadata": {},
   "outputs": [],
   "source": [
    "group_by_floors_total = flats[\n",
    "    (flats['ceiling_height'] > 2) & (flats['ceiling_height'] < 4)\n",
    "].groupby('floors_total')['ceiling_height'].mean()\n",
    "\n",
    "mean_ceiling_height = flats[(flats['ceiling_height'] > 2) & (flats['ceiling_height'] < 4)].mean()['ceiling_height']\n",
    "\n",
    "def fill_ceiling_height(row):\n",
    "    # Не получилось сравнивать с np.nan\n",
    "    # NaN < 0\n",
    "    if row['ceiling_height'] > 0:\n",
    "        return row['ceiling_height']\n",
    "    elif row['floors_total'] in group_by_floors_total:\n",
    "        return group_by_floors_total[row['floors_total']]\n",
    "    else:\n",
    "        return mean_ceiling_height\n",
    "    \n",
    "flats['ceiling_height'] = flats.apply(fill_ceiling_height, axis=1)\n",
    "flats['ceiling_height'] = flats['ceiling_height'].round(2)"
   ]
  },
  {
   "cell_type": "markdown",
   "metadata": {},
   "source": [
    "Проверим, что замена прошла успешно"
   ]
  },
  {
   "cell_type": "code",
   "execution_count": 38,
   "metadata": {
    "scrolled": true
   },
   "outputs": [
    {
     "data": {
      "text/plain": [
       "array([  2.7 ,   2.78,   2.64,   3.03,   2.67,   2.74,   2.68,   2.5 ,\n",
       "         2.56,   3.05,   2.71,   2.75,   2.6 ,   2.85,   2.9 ,   2.58,\n",
       "         2.8 ,   2.55,   3.  ,   2.73,   2.65,   2.93,   3.2 ,   2.72,\n",
       "         2.61,   3.25,   3.45,   2.77,   2.57,   4.15,   3.5 ,   2.92,\n",
       "         3.3 ,   4.  ,   2.47,   2.84,   3.1 ,   2.34,   3.4 ,   3.06,\n",
       "         2.54,   2.51,   2.59,   2.76,  25.  ,   3.7 ,   2.52,   5.2 ,\n",
       "         2.87,   2.66,   2.  ,   2.45,   3.6 ,   3.11,   3.13,   3.8 ,\n",
       "         3.15,   3.55,   3.16,   3.62,   3.12,   2.53,   2.96,   2.46,\n",
       "         5.3 ,   5.  ,   2.79,   2.95,   4.06,   2.94,   3.82,   3.54,\n",
       "         3.53,   2.83,   4.7 ,   2.4 ,   3.38,   3.01,   5.6 ,   3.65,\n",
       "         3.9 ,   3.18,   3.35,   2.3 ,   3.57,   2.48,   2.62,   2.82,\n",
       "         3.98,   2.63,   3.83,   3.52,   3.95,   3.75,   2.88,   3.67,\n",
       "         3.87,   3.66,   3.85,   3.86,   4.19,   3.24,   4.8 ,   4.5 ,\n",
       "         4.2 ,   3.36,  32.  ,   3.08,   3.68,   3.07,   3.37,   3.09,\n",
       "         8.  ,   3.26,   3.34,   2.81,   3.44,   2.97,   3.14,   4.37,\n",
       "         3.22,   3.27,  27.  ,   4.1 ,   3.46,  24.  ,   3.47,   3.33,\n",
       "         3.63,   3.32,  26.  ,   1.2 ,   8.3 ,   2.98,   2.86,   3.17,\n",
       "         4.4 ,   3.28,   3.04,   4.45,   5.5 ,   3.84,   3.23,   3.02,\n",
       "         3.21,   3.43,   3.78,   4.3 ,   3.39,   2.69,   3.31,   4.65,\n",
       "         3.56,   2.2 ,   3.51,   3.93,   3.42,   2.99,   3.49,  14.  ,\n",
       "         4.14,   2.91,   3.88,   1.75,   4.25,   3.29,  20.  ,   2.25,\n",
       "         3.76,   3.69,   6.  ,  22.6 ,   2.89,   3.58,   5.8 ,  27.5 ,\n",
       "         2.49,   4.9 ,   3.48,  10.3 ,   1.  , 100.  ,   3.59])"
      ]
     },
     "execution_count": 38,
     "metadata": {},
     "output_type": "execute_result"
    }
   ],
   "source": [
    "flats['ceiling_height'].unique()"
   ]
  },
  {
   "cell_type": "markdown",
   "metadata": {},
   "source": [
    "Удалим записи с очень высокими и очень низкими потолками"
   ]
  },
  {
   "cell_type": "code",
   "execution_count": 39,
   "metadata": {},
   "outputs": [],
   "source": [
    "flats = flats.query(good_ceiling_height)"
   ]
  },
  {
   "cell_type": "code",
   "execution_count": 40,
   "metadata": {},
   "outputs": [
    {
     "name": "stdout",
     "output_type": "stream",
     "text": [
      "(23523, 22)\n"
     ]
    }
   ],
   "source": [
    "print(flats.shape)"
   ]
  },
  {
   "cell_type": "code",
   "execution_count": 41,
   "metadata": {
    "scrolled": true
   },
   "outputs": [
    {
     "data": {
      "text/plain": [
       "Text(0.5, 1.0, 'График отношения этажности к средней высоте потолков')"
      ]
     },
     "execution_count": 41,
     "metadata": {},
     "output_type": "execute_result"
    },
    {
     "data": {
      "image/png": "[encoded data removed]",
      "text/plain": [
       "<Figure size 432x1296 with 3 Axes>"
      ]
     },
     "metadata": {
      "needs_background": "light"
     },
     "output_type": "display_data"
    }
   ],
   "source": [
    "# Построим графики\n",
    "fig, axes = plt.subplots(3, 1)\n",
    "fig.set_figwidth(6)\n",
    "fig.set_figheight(18)\n",
    "floors_total_mins = flats.groupby('floors_total')['ceiling_height'].agg('min')\n",
    "floors_total_maxs = flats.groupby('floors_total')['ceiling_height'].agg('max')\n",
    "floors_total_means = flats.groupby('floors_total')['ceiling_height'].agg('mean')\n",
    "floors_total_keys = flats.groupby('floors_total')['ceiling_height'].groups.keys()\n",
    "axes[0].scatter(floors_total_keys, floors_total_mins);\n",
    "axes[0].set_title('График отношения этажности к минимальной высоте потолков')\n",
    "axes[1].scatter(floors_total_keys, floors_total_maxs);\n",
    "axes[1].set_title('График отношения этажности к максимальной высоте потолков')\n",
    "axes[2].scatter(floors_total_keys, floors_total_means);\n",
    "axes[2].set_title('График отношения этажности к средней высоте потолков')"
   ]
  },
  {
   "cell_type": "markdown",
   "metadata": {},
   "source": [
    "На графиках мы можем наблюдать пару интересных зависимостей. \n",
    "\n",
    "С ростом этажности растет так же и минимальная высота потолков, до \"стандарта\" в 2.5 метров. \n",
    "\n",
    "Максимальная высота потолков падает в ростом этажности. Мне кажется, что это связано со сложностью и нецелесообразностью производства высотных домов с потолками выше 2.5 метров."
   ]
  },
  {
   "cell_type": "markdown",
   "metadata": {},
   "source": [
    "#### Посмотрим на поле kitchen_area, living_area"
   ]
  },
  {
   "cell_type": "code",
   "execution_count": 42,
   "metadata": {},
   "outputs": [
    {
     "name": "stdout",
     "output_type": "stream",
     "text": [
      "kitchen_area\n",
      " count    21271.000000\n",
      "mean        10.540088\n",
      "std          5.839232\n",
      "min          1.300000\n",
      "25%          7.000000\n",
      "50%          9.100000\n",
      "75%         12.000000\n",
      "max        112.000000\n",
      "Name: kitchen_area, dtype: float64\n",
      "\n",
      "living_area\n",
      " count    21635.000000\n",
      "mean        34.276368\n",
      "std         21.509525\n",
      "min          2.000000\n",
      "25%         18.600000\n",
      "50%         30.000000\n",
      "75%         42.200000\n",
      "max        409.700000\n",
      "Name: living_area, dtype: float64\n"
     ]
    }
   ],
   "source": [
    "print('kitchen_area\\n', flats['kitchen_area'].describe(), end='\\n\\n')\n",
    "print('living_area\\n', flats['living_area'].describe())"
   ]
  },
  {
   "cell_type": "markdown",
   "metadata": {},
   "source": [
    "Так как у нас есть общая площадь, мы можем из нее получить жилую площадь и площадь кухни. \n",
    "\n",
    "Для этого посчитаем отношение жилой площади к общей площади и отношение площади кухни к общей площади.\n",
    "Затем заполним пропуски с учетом этих коэффициентов."
   ]
  },
  {
   "cell_type": "code",
   "execution_count": 43,
   "metadata": {},
   "outputs": [],
   "source": [
    "ratio_living_total_area = (flats['living_area'] / flats['total_area']).median().round(3)\n",
    "ratio_kitchen_total_area = (flats['kitchen_area'] / flats['total_area']).median().round(3)"
   ]
  },
  {
   "cell_type": "code",
   "execution_count": 44,
   "metadata": {
    "scrolled": false
   },
   "outputs": [
    {
     "name": "stdout",
     "output_type": "stream",
     "text": [
      "Отношение жилой и общей площади 0.568\n",
      "Отношение площади кухни к общей 0.172\n"
     ]
    }
   ],
   "source": [
    "print('Отношение жилой и общей площади', ratio_living_total_area) \n",
    "print('Отношение площади кухни к общей', ratio_kitchen_total_area)"
   ]
  },
  {
   "cell_type": "code",
   "execution_count": 45,
   "metadata": {},
   "outputs": [],
   "source": [
    "def fill_kitchen_area(row):\n",
    "    if row['kitchen_area'] > 0:\n",
    "        return row['kitchen_area']\n",
    "    else:\n",
    "        return row['total_area'] * ratio_kitchen_total_area\n",
    "    \n",
    "flats['kitchen_area'] = flats.apply(fill_kitchen_area, axis=1)\n",
    "flats['kitchen_area'] = flats['kitchen_area'].round(2)"
   ]
  },
  {
   "cell_type": "code",
   "execution_count": 46,
   "metadata": {},
   "outputs": [],
   "source": [
    "def fill_living_area(row):\n",
    "    if row['living_area'] > 0:\n",
    "        return row['living_area']\n",
    "    else:\n",
    "        return row['total_area'] * ratio_living_total_area\n",
    "\n",
    "flats['living_area'] = flats.apply(fill_living_area, axis=1)\n",
    "flats['living_area'] = flats['living_area'].round(2)"
   ]
  },
  {
   "cell_type": "markdown",
   "metadata": {},
   "source": [
    "#### Посмотрим на столбец days_exposition"
   ]
  },
  {
   "cell_type": "code",
   "execution_count": 47,
   "metadata": {},
   "outputs": [
    {
     "data": {
      "text/plain": [
       "count    20373.000000\n",
       "mean       180.381633\n",
       "std        219.427619\n",
       "min          1.000000\n",
       "25%         45.000000\n",
       "50%         95.000000\n",
       "75%        230.000000\n",
       "max       1580.000000\n",
       "Name: days_exposition, dtype: float64"
      ]
     },
     "execution_count": 47,
     "metadata": {},
     "output_type": "execute_result"
    }
   ],
   "source": [
    "flats['days_exposition'].describe()"
   ]
  },
  {
   "cell_type": "markdown",
   "metadata": {},
   "source": [
    "У нас есть информация о дате публикации объявления, но информации о закрытии объявления у нас нет, так что посчитать через другие поля не получится. Заменим на медианное значение."
   ]
  },
  {
   "cell_type": "code",
   "execution_count": 48,
   "metadata": {},
   "outputs": [],
   "source": [
    "flats['days_exposition'].fillna(flats['days_exposition'].median(), inplace=True)"
   ]
  },
  {
   "cell_type": "markdown",
   "metadata": {},
   "source": [
    "### Приведение типов"
   ]
  },
  {
   "cell_type": "code",
   "execution_count": 49,
   "metadata": {},
   "outputs": [
    {
     "name": "stdout",
     "output_type": "stream",
     "text": [
      "<class 'pandas.core.frame.DataFrame'>\n",
      "Int64Index: 23523 entries, 0 to 23698\n",
      "Data columns (total 22 columns):\n",
      "total_images            23523 non-null int64\n",
      "last_price              23523 non-null float64\n",
      "total_area              23523 non-null float64\n",
      "first_day_exposition    23523 non-null object\n",
      "rooms                   23523 non-null int64\n",
      "ceiling_height          23523 non-null float64\n",
      "floors_total            23523 non-null int64\n",
      "living_area             23523 non-null float64\n",
      "floor                   23523 non-null int64\n",
      "is_apartment            23523 non-null int64\n",
      "studio                  23523 non-null bool\n",
      "open_plan               23523 non-null bool\n",
      "kitchen_area            23523 non-null float64\n",
      "balcony                 23523 non-null int64\n",
      "locality_name           23523 non-null object\n",
      "airports_nearest        18019 non-null float64\n",
      "cityCenters_nearest     18039 non-null float64\n",
      "parks_around3000        23523 non-null int64\n",
      "parks_nearest           7999 non-null float64\n",
      "ponds_around3000        23523 non-null int64\n",
      "ponds_nearest           9015 non-null float64\n",
      "days_exposition         23523 non-null float64\n",
      "dtypes: bool(2), float64(10), int64(8), object(2)\n",
      "memory usage: 3.8+ MB\n",
      "None\n"
     ]
    }
   ],
   "source": [
    "print(flats.info())"
   ]
  },
  {
   "cell_type": "code",
   "execution_count": 50,
   "metadata": {},
   "outputs": [],
   "source": [
    "# Мне кажется, копейки тут не несут большого вклада, а данные будут занимать меньше места в памяти\n",
    "flats['last_price'] = flats['last_price'].astype(int)\n",
    "# Дни тоже логично хранить в формате int\n",
    "flats['days_exposition'] = flats['days_exposition'].astype(int)"
   ]
  },
  {
   "cell_type": "markdown",
   "metadata": {},
   "source": [
    "### Посмотрим количество дубликатов после всего что мы сделали с данными."
   ]
  },
  {
   "cell_type": "code",
   "execution_count": 51,
   "metadata": {},
   "outputs": [
    {
     "data": {
      "text/plain": [
       "0"
      ]
     },
     "execution_count": 51,
     "metadata": {},
     "output_type": "execute_result"
    }
   ],
   "source": [
    "flats.duplicated().sum()"
   ]
  },
  {
   "cell_type": "markdown",
   "metadata": {},
   "source": [
    "### Посмотрим, что у нас получилось"
   ]
  },
  {
   "cell_type": "code",
   "execution_count": 52,
   "metadata": {},
   "outputs": [
    {
     "name": "stdout",
     "output_type": "stream",
     "text": [
      "parks_nearest           65.99\n",
      "ponds_nearest           61.68\n",
      "airports_nearest        23.40\n",
      "cityCenters_nearest     23.31\n",
      "days_exposition          0.00\n",
      "floor                    0.00\n",
      "last_price               0.00\n",
      "total_area               0.00\n",
      "first_day_exposition     0.00\n",
      "rooms                    0.00\n",
      "ceiling_height           0.00\n",
      "floors_total             0.00\n",
      "living_area              0.00\n",
      "studio                   0.00\n",
      "is_apartment             0.00\n",
      "open_plan                0.00\n",
      "kitchen_area             0.00\n",
      "balcony                  0.00\n",
      "locality_name            0.00\n",
      "parks_around3000         0.00\n",
      "ponds_around3000         0.00\n",
      "total_images             0.00\n",
      "dtype: float64\n",
      "<class 'pandas.core.frame.DataFrame'>\n",
      "Int64Index: 23523 entries, 0 to 23698\n",
      "Data columns (total 22 columns):\n",
      "total_images            23523 non-null int64\n",
      "last_price              23523 non-null int64\n",
      "total_area              23523 non-null float64\n",
      "first_day_exposition    23523 non-null object\n",
      "rooms                   23523 non-null int64\n",
      "ceiling_height          23523 non-null float64\n",
      "floors_total            23523 non-null int64\n",
      "living_area             23523 non-null float64\n",
      "floor                   23523 non-null int64\n",
      "is_apartment            23523 non-null int64\n",
      "studio                  23523 non-null bool\n",
      "open_plan               23523 non-null bool\n",
      "kitchen_area            23523 non-null float64\n",
      "balcony                 23523 non-null int64\n",
      "locality_name           23523 non-null object\n",
      "airports_nearest        18019 non-null float64\n",
      "cityCenters_nearest     18039 non-null float64\n",
      "parks_around3000        23523 non-null int64\n",
      "parks_nearest           7999 non-null float64\n",
      "ponds_around3000        23523 non-null int64\n",
      "ponds_nearest           9015 non-null float64\n",
      "days_exposition         23523 non-null int64\n",
      "dtypes: bool(2), float64(8), int64(10), object(2)\n",
      "memory usage: 3.8+ MB\n",
      "None\n"
     ]
    }
   ],
   "source": [
    "nulls = flats.isnull().sum() / len(flats)\n",
    "print((nulls.sort_values(ascending=False) * 100).round(2))\n",
    "print(flats.info())"
   ]
  },
  {
   "cell_type": "markdown",
   "metadata": {},
   "source": [
    "### Вывод"
   ]
  },
  {
   "cell_type": "markdown",
   "metadata": {},
   "source": [
    "Были заполнены пропуски во всех полях кроме parks_nearest, ponds_nearest, airports_nearest, cityCenters_nearest, т.к. я считаю отсутствие этих данных - это техническая ошибка или важная часть информации. Были преведены типы данных к более логичным/оптимальным. "
   ]
  },
  {
   "cell_type": "markdown",
   "metadata": {},
   "source": [
    "### Шаг 3. Добавем в таблицу новые параметры"
   ]
  },
  {
   "cell_type": "markdown",
   "metadata": {},
   "source": [
    "#### Вычислим цену квадратного метра"
   ]
  },
  {
   "cell_type": "code",
   "execution_count": 53,
   "metadata": {},
   "outputs": [
    {
     "data": {
      "text/plain": [
       "count    2.352300e+04\n",
       "mean     9.918558e+04\n",
       "std      4.967389e+04\n",
       "min      1.118349e+02\n",
       "25%      7.657162e+04\n",
       "50%      9.493671e+04\n",
       "75%      1.140655e+05\n",
       "max      1.907500e+06\n",
       "Name: price_per_meter, dtype: float64"
      ]
     },
     "execution_count": 53,
     "metadata": {},
     "output_type": "execute_result"
    }
   ],
   "source": [
    "flats['price_per_meter'] = flats['last_price'] / flats['total_area']\n",
    "flats['price_per_meter'].describe()"
   ]
  },
  {
   "cell_type": "markdown",
   "metadata": {},
   "source": [
    "#### Добавим столбцы с днями недели, месяцами и годами публикации объявления"
   ]
  },
  {
   "cell_type": "code",
   "execution_count": 54,
   "metadata": {},
   "outputs": [
    {
     "data": {
      "text/html": [
       "<div>\n",
       "<style scoped>\n",
       "    .dataframe tbody tr th:only-of-type {\n",
       "        vertical-align: middle;\n",
       "    }\n",
       "\n",
       "    .dataframe tbody tr th {\n",
       "        vertical-align: top;\n",
       "    }\n",
       "\n",
       "    .dataframe thead th {\n",
       "        text-align: right;\n",
       "    }\n",
       "</style>\n",
       "<table border=\"1\" class=\"dataframe\">\n",
       "  <thead>\n",
       "    <tr style=\"text-align: right;\">\n",
       "      <th></th>\n",
       "      <th>total_images</th>\n",
       "      <th>last_price</th>\n",
       "      <th>total_area</th>\n",
       "      <th>first_day_exposition</th>\n",
       "      <th>rooms</th>\n",
       "      <th>ceiling_height</th>\n",
       "      <th>floors_total</th>\n",
       "      <th>living_area</th>\n",
       "      <th>floor</th>\n",
       "      <th>is_apartment</th>\n",
       "      <th>...</th>\n",
       "      <th>cityCenters_nearest</th>\n",
       "      <th>parks_around3000</th>\n",
       "      <th>parks_nearest</th>\n",
       "      <th>ponds_around3000</th>\n",
       "      <th>ponds_nearest</th>\n",
       "      <th>days_exposition</th>\n",
       "      <th>price_per_meter</th>\n",
       "      <th>weekday_exposition</th>\n",
       "      <th>month_exposition</th>\n",
       "      <th>year_exposition</th>\n",
       "    </tr>\n",
       "  </thead>\n",
       "  <tbody>\n",
       "    <tr>\n",
       "      <td>0</td>\n",
       "      <td>20</td>\n",
       "      <td>13000000</td>\n",
       "      <td>108.0</td>\n",
       "      <td>2019-03-07</td>\n",
       "      <td>3</td>\n",
       "      <td>2.70</td>\n",
       "      <td>16</td>\n",
       "      <td>51.00</td>\n",
       "      <td>8</td>\n",
       "      <td>0</td>\n",
       "      <td>...</td>\n",
       "      <td>16028.0</td>\n",
       "      <td>1</td>\n",
       "      <td>482.0</td>\n",
       "      <td>2</td>\n",
       "      <td>755.0</td>\n",
       "      <td>95</td>\n",
       "      <td>120370.370370</td>\n",
       "      <td>3</td>\n",
       "      <td>3</td>\n",
       "      <td>2019</td>\n",
       "    </tr>\n",
       "    <tr>\n",
       "      <td>1</td>\n",
       "      <td>7</td>\n",
       "      <td>3350000</td>\n",
       "      <td>40.4</td>\n",
       "      <td>2018-12-04</td>\n",
       "      <td>1</td>\n",
       "      <td>2.78</td>\n",
       "      <td>11</td>\n",
       "      <td>18.60</td>\n",
       "      <td>1</td>\n",
       "      <td>0</td>\n",
       "      <td>...</td>\n",
       "      <td>18603.0</td>\n",
       "      <td>0</td>\n",
       "      <td>NaN</td>\n",
       "      <td>0</td>\n",
       "      <td>NaN</td>\n",
       "      <td>81</td>\n",
       "      <td>82920.792079</td>\n",
       "      <td>1</td>\n",
       "      <td>12</td>\n",
       "      <td>2018</td>\n",
       "    </tr>\n",
       "    <tr>\n",
       "      <td>2</td>\n",
       "      <td>10</td>\n",
       "      <td>5196000</td>\n",
       "      <td>56.0</td>\n",
       "      <td>2015-08-20</td>\n",
       "      <td>2</td>\n",
       "      <td>2.70</td>\n",
       "      <td>5</td>\n",
       "      <td>34.30</td>\n",
       "      <td>4</td>\n",
       "      <td>0</td>\n",
       "      <td>...</td>\n",
       "      <td>13933.0</td>\n",
       "      <td>1</td>\n",
       "      <td>90.0</td>\n",
       "      <td>2</td>\n",
       "      <td>574.0</td>\n",
       "      <td>558</td>\n",
       "      <td>92785.714286</td>\n",
       "      <td>3</td>\n",
       "      <td>8</td>\n",
       "      <td>2015</td>\n",
       "    </tr>\n",
       "    <tr>\n",
       "      <td>3</td>\n",
       "      <td>0</td>\n",
       "      <td>64900000</td>\n",
       "      <td>159.0</td>\n",
       "      <td>2015-07-24</td>\n",
       "      <td>3</td>\n",
       "      <td>2.64</td>\n",
       "      <td>14</td>\n",
       "      <td>90.31</td>\n",
       "      <td>9</td>\n",
       "      <td>0</td>\n",
       "      <td>...</td>\n",
       "      <td>6800.0</td>\n",
       "      <td>2</td>\n",
       "      <td>84.0</td>\n",
       "      <td>3</td>\n",
       "      <td>234.0</td>\n",
       "      <td>424</td>\n",
       "      <td>408176.100629</td>\n",
       "      <td>4</td>\n",
       "      <td>7</td>\n",
       "      <td>2015</td>\n",
       "    </tr>\n",
       "    <tr>\n",
       "      <td>4</td>\n",
       "      <td>2</td>\n",
       "      <td>10000000</td>\n",
       "      <td>100.0</td>\n",
       "      <td>2018-06-19</td>\n",
       "      <td>2</td>\n",
       "      <td>3.03</td>\n",
       "      <td>14</td>\n",
       "      <td>32.00</td>\n",
       "      <td>13</td>\n",
       "      <td>0</td>\n",
       "      <td>...</td>\n",
       "      <td>8098.0</td>\n",
       "      <td>2</td>\n",
       "      <td>112.0</td>\n",
       "      <td>1</td>\n",
       "      <td>48.0</td>\n",
       "      <td>121</td>\n",
       "      <td>100000.000000</td>\n",
       "      <td>1</td>\n",
       "      <td>6</td>\n",
       "      <td>2018</td>\n",
       "    </tr>\n",
       "  </tbody>\n",
       "</table>\n",
       "<p>5 rows × 26 columns</p>\n",
       "</div>"
      ],
      "text/plain": [
       "   total_images  last_price  total_area first_day_exposition  rooms  \\\n",
       "0            20    13000000       108.0           2019-03-07      3   \n",
       "1             7     3350000        40.4           2018-12-04      1   \n",
       "2            10     5196000        56.0           2015-08-20      2   \n",
       "3             0    64900000       159.0           2015-07-24      3   \n",
       "4             2    10000000       100.0           2018-06-19      2   \n",
       "\n",
       "   ceiling_height  floors_total  living_area  floor  is_apartment  ...  \\\n",
       "0            2.70            16        51.00      8             0  ...   \n",
       "1            2.78            11        18.60      1             0  ...   \n",
       "2            2.70             5        34.30      4             0  ...   \n",
       "3            2.64            14        90.31      9             0  ...   \n",
       "4            3.03            14        32.00     13             0  ...   \n",
       "\n",
       "   cityCenters_nearest  parks_around3000  parks_nearest  ponds_around3000  \\\n",
       "0              16028.0                 1          482.0                 2   \n",
       "1              18603.0                 0            NaN                 0   \n",
       "2              13933.0                 1           90.0                 2   \n",
       "3               6800.0                 2           84.0                 3   \n",
       "4               8098.0                 2          112.0                 1   \n",
       "\n",
       "  ponds_nearest  days_exposition  price_per_meter  weekday_exposition  \\\n",
       "0         755.0               95    120370.370370                   3   \n",
       "1           NaN               81     82920.792079                   1   \n",
       "2         574.0              558     92785.714286                   3   \n",
       "3         234.0              424    408176.100629                   4   \n",
       "4          48.0              121    100000.000000                   1   \n",
       "\n",
       "   month_exposition  year_exposition  \n",
       "0                 3             2019  \n",
       "1                12             2018  \n",
       "2                 8             2015  \n",
       "3                 7             2015  \n",
       "4                 6             2018  \n",
       "\n",
       "[5 rows x 26 columns]"
      ]
     },
     "execution_count": 54,
     "metadata": {},
     "output_type": "execute_result"
    }
   ],
   "source": [
    "flats['first_day_exposition'] = pd.to_datetime(flats['first_day_exposition'], format='%Y-%m-%dT%H:%M:%S')\n",
    "flats['weekday_exposition'] = flats['first_day_exposition'].dt.weekday\n",
    "flats['month_exposition'] = flats['first_day_exposition'].dt.month\n",
    "flats['year_exposition'] = flats['first_day_exposition'].dt.year\n",
    "flats.head()"
   ]
  },
  {
   "cell_type": "markdown",
   "metadata": {},
   "source": [
    "#### Создадим функцию для определения категории этажа - первый, последний, другой"
   ]
  },
  {
   "cell_type": "code",
   "execution_count": 55,
   "metadata": {},
   "outputs": [],
   "source": [
    "def floor_categorie(row):\n",
    "    if row['floor'] == 1:\n",
    "        # 'Первый этаж'\n",
    "        return 1\n",
    "    elif row['floor'] == row['floors_total']:\n",
    "        # 'Последний этаж'\n",
    "        return 3\n",
    "    else:\n",
    "        # 'Другой'       \n",
    "        return 2"
   ]
  },
  {
   "cell_type": "code",
   "execution_count": 56,
   "metadata": {},
   "outputs": [],
   "source": [
    "flats['floor_categorie'] = flats.apply(floor_categorie, axis=1)"
   ]
  },
  {
   "cell_type": "code",
   "execution_count": 57,
   "metadata": {},
   "outputs": [
    {
     "data": {
      "text/html": [
       "<div>\n",
       "<style scoped>\n",
       "    .dataframe tbody tr th:only-of-type {\n",
       "        vertical-align: middle;\n",
       "    }\n",
       "\n",
       "    .dataframe tbody tr th {\n",
       "        vertical-align: top;\n",
       "    }\n",
       "\n",
       "    .dataframe thead th {\n",
       "        text-align: right;\n",
       "    }\n",
       "</style>\n",
       "<table border=\"1\" class=\"dataframe\">\n",
       "  <thead>\n",
       "    <tr style=\"text-align: right;\">\n",
       "      <th></th>\n",
       "      <th>total_images</th>\n",
       "      <th>last_price</th>\n",
       "      <th>total_area</th>\n",
       "      <th>first_day_exposition</th>\n",
       "      <th>rooms</th>\n",
       "      <th>ceiling_height</th>\n",
       "      <th>floors_total</th>\n",
       "      <th>living_area</th>\n",
       "      <th>floor</th>\n",
       "      <th>is_apartment</th>\n",
       "      <th>...</th>\n",
       "      <th>parks_around3000</th>\n",
       "      <th>parks_nearest</th>\n",
       "      <th>ponds_around3000</th>\n",
       "      <th>ponds_nearest</th>\n",
       "      <th>days_exposition</th>\n",
       "      <th>price_per_meter</th>\n",
       "      <th>weekday_exposition</th>\n",
       "      <th>month_exposition</th>\n",
       "      <th>year_exposition</th>\n",
       "      <th>floor_categorie</th>\n",
       "    </tr>\n",
       "  </thead>\n",
       "  <tbody>\n",
       "    <tr>\n",
       "      <td>0</td>\n",
       "      <td>20</td>\n",
       "      <td>13000000</td>\n",
       "      <td>108.0</td>\n",
       "      <td>2019-03-07</td>\n",
       "      <td>3</td>\n",
       "      <td>2.70</td>\n",
       "      <td>16</td>\n",
       "      <td>51.00</td>\n",
       "      <td>8</td>\n",
       "      <td>0</td>\n",
       "      <td>...</td>\n",
       "      <td>1</td>\n",
       "      <td>482.0</td>\n",
       "      <td>2</td>\n",
       "      <td>755.0</td>\n",
       "      <td>95</td>\n",
       "      <td>120370.370370</td>\n",
       "      <td>3</td>\n",
       "      <td>3</td>\n",
       "      <td>2019</td>\n",
       "      <td>2</td>\n",
       "    </tr>\n",
       "    <tr>\n",
       "      <td>1</td>\n",
       "      <td>7</td>\n",
       "      <td>3350000</td>\n",
       "      <td>40.4</td>\n",
       "      <td>2018-12-04</td>\n",
       "      <td>1</td>\n",
       "      <td>2.78</td>\n",
       "      <td>11</td>\n",
       "      <td>18.60</td>\n",
       "      <td>1</td>\n",
       "      <td>0</td>\n",
       "      <td>...</td>\n",
       "      <td>0</td>\n",
       "      <td>NaN</td>\n",
       "      <td>0</td>\n",
       "      <td>NaN</td>\n",
       "      <td>81</td>\n",
       "      <td>82920.792079</td>\n",
       "      <td>1</td>\n",
       "      <td>12</td>\n",
       "      <td>2018</td>\n",
       "      <td>1</td>\n",
       "    </tr>\n",
       "    <tr>\n",
       "      <td>2</td>\n",
       "      <td>10</td>\n",
       "      <td>5196000</td>\n",
       "      <td>56.0</td>\n",
       "      <td>2015-08-20</td>\n",
       "      <td>2</td>\n",
       "      <td>2.70</td>\n",
       "      <td>5</td>\n",
       "      <td>34.30</td>\n",
       "      <td>4</td>\n",
       "      <td>0</td>\n",
       "      <td>...</td>\n",
       "      <td>1</td>\n",
       "      <td>90.0</td>\n",
       "      <td>2</td>\n",
       "      <td>574.0</td>\n",
       "      <td>558</td>\n",
       "      <td>92785.714286</td>\n",
       "      <td>3</td>\n",
       "      <td>8</td>\n",
       "      <td>2015</td>\n",
       "      <td>2</td>\n",
       "    </tr>\n",
       "    <tr>\n",
       "      <td>3</td>\n",
       "      <td>0</td>\n",
       "      <td>64900000</td>\n",
       "      <td>159.0</td>\n",
       "      <td>2015-07-24</td>\n",
       "      <td>3</td>\n",
       "      <td>2.64</td>\n",
       "      <td>14</td>\n",
       "      <td>90.31</td>\n",
       "      <td>9</td>\n",
       "      <td>0</td>\n",
       "      <td>...</td>\n",
       "      <td>2</td>\n",
       "      <td>84.0</td>\n",
       "      <td>3</td>\n",
       "      <td>234.0</td>\n",
       "      <td>424</td>\n",
       "      <td>408176.100629</td>\n",
       "      <td>4</td>\n",
       "      <td>7</td>\n",
       "      <td>2015</td>\n",
       "      <td>2</td>\n",
       "    </tr>\n",
       "    <tr>\n",
       "      <td>4</td>\n",
       "      <td>2</td>\n",
       "      <td>10000000</td>\n",
       "      <td>100.0</td>\n",
       "      <td>2018-06-19</td>\n",
       "      <td>2</td>\n",
       "      <td>3.03</td>\n",
       "      <td>14</td>\n",
       "      <td>32.00</td>\n",
       "      <td>13</td>\n",
       "      <td>0</td>\n",
       "      <td>...</td>\n",
       "      <td>2</td>\n",
       "      <td>112.0</td>\n",
       "      <td>1</td>\n",
       "      <td>48.0</td>\n",
       "      <td>121</td>\n",
       "      <td>100000.000000</td>\n",
       "      <td>1</td>\n",
       "      <td>6</td>\n",
       "      <td>2018</td>\n",
       "      <td>2</td>\n",
       "    </tr>\n",
       "  </tbody>\n",
       "</table>\n",
       "<p>5 rows × 27 columns</p>\n",
       "</div>"
      ],
      "text/plain": [
       "   total_images  last_price  total_area first_day_exposition  rooms  \\\n",
       "0            20    13000000       108.0           2019-03-07      3   \n",
       "1             7     3350000        40.4           2018-12-04      1   \n",
       "2            10     5196000        56.0           2015-08-20      2   \n",
       "3             0    64900000       159.0           2015-07-24      3   \n",
       "4             2    10000000       100.0           2018-06-19      2   \n",
       "\n",
       "   ceiling_height  floors_total  living_area  floor  is_apartment  ...  \\\n",
       "0            2.70            16        51.00      8             0  ...   \n",
       "1            2.78            11        18.60      1             0  ...   \n",
       "2            2.70             5        34.30      4             0  ...   \n",
       "3            2.64            14        90.31      9             0  ...   \n",
       "4            3.03            14        32.00     13             0  ...   \n",
       "\n",
       "   parks_around3000  parks_nearest  ponds_around3000  ponds_nearest  \\\n",
       "0                 1          482.0                 2          755.0   \n",
       "1                 0            NaN                 0            NaN   \n",
       "2                 1           90.0                 2          574.0   \n",
       "3                 2           84.0                 3          234.0   \n",
       "4                 2          112.0                 1           48.0   \n",
       "\n",
       "  days_exposition  price_per_meter  weekday_exposition  month_exposition  \\\n",
       "0              95    120370.370370                   3                 3   \n",
       "1              81     82920.792079                   1                12   \n",
       "2             558     92785.714286                   3                 8   \n",
       "3             424    408176.100629                   4                 7   \n",
       "4             121    100000.000000                   1                 6   \n",
       "\n",
       "   year_exposition  floor_categorie  \n",
       "0             2019                2  \n",
       "1             2018                1  \n",
       "2             2015                2  \n",
       "3             2015                2  \n",
       "4             2018                2  \n",
       "\n",
       "[5 rows x 27 columns]"
      ]
     },
     "execution_count": 57,
     "metadata": {},
     "output_type": "execute_result"
    }
   ],
   "source": [
    "flats.head()"
   ]
  },
  {
   "cell_type": "markdown",
   "metadata": {},
   "source": [
    "#### Добавим столбцы соотношение жилой и общей площади, а также отношение площади кухни к общей."
   ]
  },
  {
   "cell_type": "code",
   "execution_count": 58,
   "metadata": {},
   "outputs": [],
   "source": [
    "flats['ratio_living_total_area'] = flats['living_area'] / flats['total_area']\n",
    "flats['ratio_kitchen_total_area'] = flats['kitchen_area'] / flats['total_area']"
   ]
  },
  {
   "cell_type": "markdown",
   "metadata": {},
   "source": [
    "### Вывод\n",
    "\n",
    "Были посчитаны и добавлены в таблицу следующие поля:\n",
    "*  цену квадратного метра;\n",
    "*  день недели, месяц и год публикации объявления;\n",
    "*  этаж квартиры; варианты — первый(1), последний(3), другой(2); \n",
    "*  соотношение жилой и общей площади, а также отношение площади кухни к общей.\n"
   ]
  },
  {
   "cell_type": "markdown",
   "metadata": {},
   "source": [
    "### Шаг 4. Исследовательский анализ данных."
   ]
  },
  {
   "cell_type": "markdown",
   "metadata": {},
   "source": [
    "Изучим подробнее следующие параметры: площадь, цена, число комнат, высота потолков. \n",
    "Взглянем на гистограммы для каждого параметра."
   ]
  },
  {
   "cell_type": "markdown",
   "metadata": {},
   "source": [
    "### Общая площадь (total_area)"
   ]
  },
  {
   "cell_type": "code",
   "execution_count": 59,
   "metadata": {},
   "outputs": [
    {
     "data": {
      "text/plain": [
       "count    23523.000000\n",
       "mean        60.077867\n",
       "std         34.897059\n",
       "min         12.000000\n",
       "25%         40.000000\n",
       "50%         52.000000\n",
       "75%         69.500000\n",
       "max        900.000000\n",
       "Name: total_area, dtype: float64"
      ]
     },
     "execution_count": 59,
     "metadata": {},
     "output_type": "execute_result"
    }
   ],
   "source": [
    "flats['total_area'].describe()"
   ]
  },
  {
   "cell_type": "markdown",
   "metadata": {},
   "source": [
    "Видно, что площад имеет длинный \"хвост\", последняя квартиль от 70 до 900 метров квадратных... \n",
    "\n",
    "Медиана площадей - 52 м.кв.\n",
    "IQR = 19.5"
   ]
  },
  {
   "cell_type": "code",
   "execution_count": 60,
   "metadata": {},
   "outputs": [
    {
     "data": {
      "image/png": "[encoded data removed]",
      "text/plain": [
       "<Figure size 432x288 with 1 Axes>"
      ]
     },
     "metadata": {
      "needs_background": "light"
     },
     "output_type": "display_data"
    }
   ],
   "source": [
    "flats['total_area'].hist(bins=100);"
   ]
  },
  {
   "cell_type": "code",
   "execution_count": 61,
   "metadata": {},
   "outputs": [
    {
     "data": {
      "image/png": "[encoded data removed]",
      "text/plain": [
       "<Figure size 432x288 with 1 Axes>"
      ]
     },
     "metadata": {
      "needs_background": "light"
     },
     "output_type": "display_data"
    }
   ],
   "source": [
    "plt.ylim(0, 150)\n",
    "flats.boxplot('total_area')\n",
    "plt.show()"
   ]
  },
  {
   "cell_type": "markdown",
   "metadata": {},
   "source": [
    "Это так же подтверждается на диаграмме. Основная масса квартир имеет площадь до 120 м.кв. - 95.5 %"
   ]
  },
  {
   "cell_type": "code",
   "execution_count": 62,
   "metadata": {
    "scrolled": true
   },
   "outputs": [
    {
     "data": {
      "text/plain": [
       "0.9547676741912171"
      ]
     },
     "execution_count": 62,
     "metadata": {},
     "output_type": "execute_result"
    }
   ],
   "source": [
    "flats[flats['total_area'] < 120].shape[0] / flats.shape[0]"
   ]
  },
  {
   "cell_type": "code",
   "execution_count": 63,
   "metadata": {},
   "outputs": [
    {
     "data": {
      "image/png": "[encoded data removed]",
      "text/plain": [
       "<Figure size 432x288 with 1 Axes>"
      ]
     },
     "metadata": {
      "needs_background": "light"
     },
     "output_type": "display_data"
    }
   ],
   "source": [
    "flats.query('total_area >= 12 and total_area <= 120')['total_area'].hist()\n",
    "plt.show()"
   ]
  },
  {
   "cell_type": "markdown",
   "metadata": {},
   "source": [
    "Можно сделать вывод, что нас интересует диапазон площади: 12 – 120 кв.м."
   ]
  },
  {
   "cell_type": "markdown",
   "metadata": {},
   "source": [
    "### Последняя цена (last_price)"
   ]
  },
  {
   "cell_type": "code",
   "execution_count": 64,
   "metadata": {
    "scrolled": true
   },
   "outputs": [
    {
     "data": {
      "text/plain": [
       "count    2.352300e+04\n",
       "mean     6.472063e+06\n",
       "std      1.068895e+07\n",
       "min      1.219000e+04\n",
       "25%      3.400000e+06\n",
       "50%      4.610000e+06\n",
       "75%      6.750000e+06\n",
       "max      7.630000e+08\n",
       "Name: last_price, dtype: float64"
      ]
     },
     "execution_count": 64,
     "metadata": {},
     "output_type": "execute_result"
    }
   ],
   "source": [
    "flats['last_price'].describe()"
   ]
  },
  {
   "cell_type": "code",
   "execution_count": 65,
   "metadata": {
    "scrolled": true
   },
   "outputs": [
    {
     "data": {
      "image/png": "[encoded data removed]",
      "text/plain": [
       "<Figure size 432x288 with 1 Axes>"
      ]
     },
     "metadata": {
      "needs_background": "light"
     },
     "output_type": "display_data"
    }
   ],
   "source": [
    "flats['last_price'].hist(bins=100);"
   ]
  },
  {
   "cell_type": "code",
   "execution_count": 66,
   "metadata": {
    "scrolled": true
   },
   "outputs": [
    {
     "data": {
      "image/png": "[encoded data removed]",
      "text/plain": [
       "<Figure size 432x288 with 1 Axes>"
      ]
     },
     "metadata": {
      "needs_background": "light"
     },
     "output_type": "display_data"
    }
   ],
   "source": [
    "plt.ylim(0, 1.2e+07)\n",
    "flats.boxplot('last_price')\n",
    "plt.show()"
   ]
  },
  {
   "cell_type": "code",
   "execution_count": 67,
   "metadata": {
    "scrolled": true
   },
   "outputs": [
    {
     "data": {
      "text/plain": [
       "0.948816052374272"
      ]
     },
     "execution_count": 67,
     "metadata": {},
     "output_type": "execute_result"
    }
   ],
   "source": [
    "flats[flats['last_price'] < 15e+06].shape[0] / flats.shape[0]"
   ]
  },
  {
   "cell_type": "markdown",
   "metadata": {},
   "source": [
    "* Основная масса квартир стоит до 15 млн - 95%.\n",
    "* Минимальная стоимость объекта недвижимости составляет 12 190\n",
    "* Медианая стоимость 4 610 000\n",
    "* Средняя стоимость 6 470 000, можно заметить на этих данных как разнится среднее и медианное значение."
   ]
  },
  {
   "cell_type": "code",
   "execution_count": 68,
   "metadata": {},
   "outputs": [
    {
     "data": {
      "text/html": [
       "<div>\n",
       "<style scoped>\n",
       "    .dataframe tbody tr th:only-of-type {\n",
       "        vertical-align: middle;\n",
       "    }\n",
       "\n",
       "    .dataframe tbody tr th {\n",
       "        vertical-align: top;\n",
       "    }\n",
       "\n",
       "    .dataframe thead th {\n",
       "        text-align: right;\n",
       "    }\n",
       "</style>\n",
       "<table border=\"1\" class=\"dataframe\">\n",
       "  <thead>\n",
       "    <tr style=\"text-align: right;\">\n",
       "      <th></th>\n",
       "      <th>locality_name</th>\n",
       "      <th>last_price</th>\n",
       "      <th>total_area</th>\n",
       "    </tr>\n",
       "  </thead>\n",
       "  <tbody>\n",
       "    <tr>\n",
       "      <td>8793</td>\n",
       "      <td>Санкт-Петербург</td>\n",
       "      <td>12190</td>\n",
       "      <td>109.0</td>\n",
       "    </tr>\n",
       "    <tr>\n",
       "      <td>14911</td>\n",
       "      <td>поселок станции Свирь</td>\n",
       "      <td>430000</td>\n",
       "      <td>54.0</td>\n",
       "    </tr>\n",
       "    <tr>\n",
       "      <td>17456</td>\n",
       "      <td>Сланцы</td>\n",
       "      <td>430000</td>\n",
       "      <td>30.4</td>\n",
       "    </tr>\n",
       "    <tr>\n",
       "      <td>16274</td>\n",
       "      <td>деревня Старополье</td>\n",
       "      <td>440000</td>\n",
       "      <td>40.0</td>\n",
       "    </tr>\n",
       "  </tbody>\n",
       "</table>\n",
       "</div>"
      ],
      "text/plain": [
       "               locality_name  last_price  total_area\n",
       "8793         Санкт-Петербург       12190       109.0\n",
       "14911  поселок станции Свирь      430000        54.0\n",
       "17456                 Сланцы      430000        30.4\n",
       "16274     деревня Старополье      440000        40.0"
      ]
     },
     "execution_count": 68,
     "metadata": {},
     "output_type": "execute_result"
    }
   ],
   "source": [
    "flats.query('last_price < 4.5e+5').sort_values('last_price')[['locality_name', 'last_price', 'total_area']].head(10)"
   ]
  },
  {
   "cell_type": "markdown",
   "metadata": {},
   "source": [
    "Видно, что с первым объектом что-то не так. Значит минимальная стоимость недвижимости 430 000"
   ]
  },
  {
   "cell_type": "code",
   "execution_count": 69,
   "metadata": {},
   "outputs": [
    {
     "data": {
      "image/png": "[encoded data removed]",
      "text/plain": [
       "<Figure size 432x288 with 1 Axes>"
      ]
     },
     "metadata": {
      "needs_background": "light"
     },
     "output_type": "display_data"
    }
   ],
   "source": [
    "flats.query('last_price >= 430_000 and last_price <= 15_000_000')['last_price'].hist()\n",
    "plt.show()"
   ]
  },
  {
   "cell_type": "markdown",
   "metadata": {},
   "source": [
    "### Количество комнат (rooms)"
   ]
  },
  {
   "cell_type": "code",
   "execution_count": 70,
   "metadata": {
    "scrolled": false
   },
   "outputs": [
    {
     "data": {
      "text/plain": [
       "count    23523.000000\n",
       "mean         2.066573\n",
       "std          1.074429\n",
       "min          0.000000\n",
       "25%          1.000000\n",
       "50%          2.000000\n",
       "75%          3.000000\n",
       "max         19.000000\n",
       "Name: rooms, dtype: float64"
      ]
     },
     "execution_count": 70,
     "metadata": {},
     "output_type": "execute_result"
    }
   ],
   "source": [
    "flats['rooms'].describe()"
   ]
  },
  {
   "cell_type": "code",
   "execution_count": 71,
   "metadata": {
    "scrolled": true
   },
   "outputs": [
    {
     "data": {
      "image/png": "[encoded data removed]",
      "text/plain": [
       "<Figure size 432x288 with 1 Axes>"
      ]
     },
     "metadata": {
      "needs_background": "light"
     },
     "output_type": "display_data"
    }
   ],
   "source": [
    "flats['rooms'].hist(bins=20);"
   ]
  },
  {
   "cell_type": "code",
   "execution_count": 72,
   "metadata": {
    "scrolled": true
   },
   "outputs": [
    {
     "data": {
      "image/png": "[encoded data removed]",
      "text/plain": [
       "<Figure size 432x288 with 1 Axes>"
      ]
     },
     "metadata": {
      "needs_background": "light"
     },
     "output_type": "display_data"
    }
   ],
   "source": [
    "plt.ylim(0, 20)\n",
    "flats.boxplot('rooms')\n",
    "plt.show()"
   ]
  },
  {
   "cell_type": "code",
   "execution_count": 73,
   "metadata": {
    "scrolled": true
   },
   "outputs": [
    {
     "data": {
      "text/plain": [
       "0.9786591846278111"
      ]
     },
     "execution_count": 73,
     "metadata": {},
     "output_type": "execute_result"
    }
   ],
   "source": [
    "flats[flats['rooms'] <= 4].shape[0] / flats.shape[0]"
   ]
  },
  {
   "cell_type": "markdown",
   "metadata": {},
   "source": [
    "* Основная масса квартир имеет меньше 5 комнат - 98%.\n",
    "* Также можем набдюдать длинный хвост у гистаграммы.\n",
    "* Минимальное количество комнат 0, что несколько странно, возможно это студии\n",
    "* Медианное количество комнат 2"
   ]
  },
  {
   "cell_type": "code",
   "execution_count": 74,
   "metadata": {},
   "outputs": [
    {
     "data": {
      "image/png": "[encoded data removed]",
      "text/plain": [
       "<Figure size 432x288 with 1 Axes>"
      ]
     },
     "metadata": {
      "needs_background": "light"
     },
     "output_type": "display_data"
    }
   ],
   "source": [
    "flats.query('rooms >= 1 and rooms <= 6')['rooms'].hist()\n",
    "plt.show()"
   ]
  },
  {
   "cell_type": "code",
   "execution_count": 75,
   "metadata": {},
   "outputs": [
    {
     "data": {
      "text/plain": [
       "195"
      ]
     },
     "execution_count": 75,
     "metadata": {},
     "output_type": "execute_result"
    }
   ],
   "source": [
    "flats.query('rooms == 0').shape[0]"
   ]
  },
  {
   "cell_type": "code",
   "execution_count": 76,
   "metadata": {},
   "outputs": [
    {
     "data": {
      "text/plain": [
       "137"
      ]
     },
     "execution_count": 76,
     "metadata": {},
     "output_type": "execute_result"
    }
   ],
   "source": [
    "flats.query('rooms == 0 and studio == True').shape[0]"
   ]
  },
  {
   "cell_type": "markdown",
   "metadata": {},
   "source": [
    "Хорошо, 137 из 195 обектов это студии, я думаю можно поставить в поле rooms 1"
   ]
  },
  {
   "cell_type": "code",
   "execution_count": 77,
   "metadata": {},
   "outputs": [
    {
     "data": {
      "text/html": [
       "<div>\n",
       "<style scoped>\n",
       "    .dataframe tbody tr th:only-of-type {\n",
       "        vertical-align: middle;\n",
       "    }\n",
       "\n",
       "    .dataframe tbody tr th {\n",
       "        vertical-align: top;\n",
       "    }\n",
       "\n",
       "    .dataframe thead th {\n",
       "        text-align: right;\n",
       "    }\n",
       "</style>\n",
       "<table border=\"1\" class=\"dataframe\">\n",
       "  <thead>\n",
       "    <tr style=\"text-align: right;\">\n",
       "      <th></th>\n",
       "      <th>total_area</th>\n",
       "      <th>floors_total</th>\n",
       "      <th>balcony</th>\n",
       "      <th>price_per_meter</th>\n",
       "    </tr>\n",
       "  </thead>\n",
       "  <tbody>\n",
       "    <tr>\n",
       "      <td>count</td>\n",
       "      <td>58.000000</td>\n",
       "      <td>58.000000</td>\n",
       "      <td>58.000000</td>\n",
       "      <td>58.000000</td>\n",
       "    </tr>\n",
       "    <tr>\n",
       "      <td>mean</td>\n",
       "      <td>32.840172</td>\n",
       "      <td>17.431034</td>\n",
       "      <td>1.224138</td>\n",
       "      <td>104860.864527</td>\n",
       "    </tr>\n",
       "    <tr>\n",
       "      <td>std</td>\n",
       "      <td>45.367479</td>\n",
       "      <td>6.880208</td>\n",
       "      <td>0.859276</td>\n",
       "      <td>26636.461942</td>\n",
       "    </tr>\n",
       "    <tr>\n",
       "      <td>min</td>\n",
       "      <td>16.000000</td>\n",
       "      <td>4.000000</td>\n",
       "      <td>0.000000</td>\n",
       "      <td>48133.235725</td>\n",
       "    </tr>\n",
       "    <tr>\n",
       "      <td>25%</td>\n",
       "      <td>25.000000</td>\n",
       "      <td>12.000000</td>\n",
       "      <td>0.000000</td>\n",
       "      <td>90640.350358</td>\n",
       "    </tr>\n",
       "    <tr>\n",
       "      <td>50%</td>\n",
       "      <td>26.450000</td>\n",
       "      <td>18.000000</td>\n",
       "      <td>1.500000</td>\n",
       "      <td>103253.968254</td>\n",
       "    </tr>\n",
       "    <tr>\n",
       "      <td>75%</td>\n",
       "      <td>28.275000</td>\n",
       "      <td>24.000000</td>\n",
       "      <td>2.000000</td>\n",
       "      <td>121886.446886</td>\n",
       "    </tr>\n",
       "    <tr>\n",
       "      <td>max</td>\n",
       "      <td>371.000000</td>\n",
       "      <td>35.000000</td>\n",
       "      <td>2.000000</td>\n",
       "      <td>191374.663073</td>\n",
       "    </tr>\n",
       "  </tbody>\n",
       "</table>\n",
       "</div>"
      ],
      "text/plain": [
       "       total_area  floors_total    balcony  price_per_meter\n",
       "count   58.000000     58.000000  58.000000        58.000000\n",
       "mean    32.840172     17.431034   1.224138    104860.864527\n",
       "std     45.367479      6.880208   0.859276     26636.461942\n",
       "min     16.000000      4.000000   0.000000     48133.235725\n",
       "25%     25.000000     12.000000   0.000000     90640.350358\n",
       "50%     26.450000     18.000000   1.500000    103253.968254\n",
       "75%     28.275000     24.000000   2.000000    121886.446886\n",
       "max    371.000000     35.000000   2.000000    191374.663073"
      ]
     },
     "execution_count": 77,
     "metadata": {},
     "output_type": "execute_result"
    }
   ],
   "source": [
    "flats.query('rooms == 0 and studio == False')[\n",
    "    ['total_area', 'floors_total', 'balcony', 'price_per_meter']\n",
    "].describe()"
   ]
  },
  {
   "cell_type": "markdown",
   "metadata": {},
   "source": [
    "Оставшиеся квартиры так же можно считать студиями из-за очень маленькой площади, хотя и тут есть исключения."
   ]
  },
  {
   "cell_type": "code",
   "execution_count": 78,
   "metadata": {},
   "outputs": [
    {
     "data": {
      "image/png": "[encoded data removed]",
      "text/plain": [
       "<Figure size 432x288 with 1 Axes>"
      ]
     },
     "metadata": {
      "needs_background": "light"
     },
     "output_type": "display_data"
    }
   ],
   "source": [
    "flats.query('rooms == 0 and studio == False')['total_area'].hist(bins=10);"
   ]
  },
  {
   "cell_type": "code",
   "execution_count": 79,
   "metadata": {},
   "outputs": [
    {
     "data": {
      "text/html": [
       "<div>\n",
       "<style scoped>\n",
       "    .dataframe tbody tr th:only-of-type {\n",
       "        vertical-align: middle;\n",
       "    }\n",
       "\n",
       "    .dataframe tbody tr th {\n",
       "        vertical-align: top;\n",
       "    }\n",
       "\n",
       "    .dataframe thead th {\n",
       "        text-align: right;\n",
       "    }\n",
       "</style>\n",
       "<table border=\"1\" class=\"dataframe\">\n",
       "  <thead>\n",
       "    <tr style=\"text-align: right;\">\n",
       "      <th></th>\n",
       "      <th>total_images</th>\n",
       "      <th>last_price</th>\n",
       "      <th>total_area</th>\n",
       "      <th>first_day_exposition</th>\n",
       "      <th>rooms</th>\n",
       "      <th>ceiling_height</th>\n",
       "      <th>floors_total</th>\n",
       "      <th>living_area</th>\n",
       "      <th>floor</th>\n",
       "      <th>is_apartment</th>\n",
       "      <th>...</th>\n",
       "      <th>ponds_around3000</th>\n",
       "      <th>ponds_nearest</th>\n",
       "      <th>days_exposition</th>\n",
       "      <th>price_per_meter</th>\n",
       "      <th>weekday_exposition</th>\n",
       "      <th>month_exposition</th>\n",
       "      <th>year_exposition</th>\n",
       "      <th>floor_categorie</th>\n",
       "      <th>ratio_living_total_area</th>\n",
       "      <th>ratio_kitchen_total_area</th>\n",
       "    </tr>\n",
       "  </thead>\n",
       "  <tbody>\n",
       "    <tr>\n",
       "      <td>19392</td>\n",
       "      <td>5</td>\n",
       "      <td>71000000</td>\n",
       "      <td>371.0</td>\n",
       "      <td>2018-07-26</td>\n",
       "      <td>0</td>\n",
       "      <td>3.57</td>\n",
       "      <td>7</td>\n",
       "      <td>210.73</td>\n",
       "      <td>6</td>\n",
       "      <td>0</td>\n",
       "      <td>...</td>\n",
       "      <td>1</td>\n",
       "      <td>584.0</td>\n",
       "      <td>90</td>\n",
       "      <td>191374.663073</td>\n",
       "      <td>3</td>\n",
       "      <td>7</td>\n",
       "      <td>2018</td>\n",
       "      <td>2</td>\n",
       "      <td>0.568005</td>\n",
       "      <td>0.171995</td>\n",
       "    </tr>\n",
       "  </tbody>\n",
       "</table>\n",
       "<p>1 rows × 29 columns</p>\n",
       "</div>"
      ],
      "text/plain": [
       "       total_images  last_price  total_area first_day_exposition  rooms  \\\n",
       "19392             5    71000000       371.0           2018-07-26      0   \n",
       "\n",
       "       ceiling_height  floors_total  living_area  floor  is_apartment  ...  \\\n",
       "19392            3.57             7       210.73      6             0  ...   \n",
       "\n",
       "       ponds_around3000  ponds_nearest  days_exposition  price_per_meter  \\\n",
       "19392                 1          584.0               90    191374.663073   \n",
       "\n",
       "      weekday_exposition  month_exposition  year_exposition  floor_categorie  \\\n",
       "19392                  3                 7             2018                2   \n",
       "\n",
       "       ratio_living_total_area  ratio_kitchen_total_area  \n",
       "19392                 0.568005                  0.171995  \n",
       "\n",
       "[1 rows x 29 columns]"
      ]
     },
     "execution_count": 79,
     "metadata": {},
     "output_type": "execute_result"
    }
   ],
   "source": [
    "flats.query('rooms == 0 and studio == False and total_area > 200').head()"
   ]
  },
  {
   "cell_type": "markdown",
   "metadata": {},
   "source": [
    "### Высота потолков (ceiling_height)"
   ]
  },
  {
   "cell_type": "code",
   "execution_count": 80,
   "metadata": {},
   "outputs": [
    {
     "data": {
      "text/plain": [
       "count    23523.000000\n",
       "mean         2.719660\n",
       "std          0.205183\n",
       "min          2.200000\n",
       "25%          2.580000\n",
       "50%          2.700000\n",
       "75%          2.770000\n",
       "max          3.980000\n",
       "Name: ceiling_height, dtype: float64"
      ]
     },
     "execution_count": 80,
     "metadata": {},
     "output_type": "execute_result"
    }
   ],
   "source": [
    "flats['ceiling_height'].describe()"
   ]
  },
  {
   "cell_type": "code",
   "execution_count": 81,
   "metadata": {},
   "outputs": [
    {
     "data": {
      "image/png": "[encoded data removed]",
      "text/plain": [
       "<Figure size 432x288 with 1 Axes>"
      ]
     },
     "metadata": {
      "needs_background": "light"
     },
     "output_type": "display_data"
    }
   ],
   "source": [
    "flats['ceiling_height'].hist(bins=100);"
   ]
  },
  {
   "cell_type": "code",
   "execution_count": 82,
   "metadata": {},
   "outputs": [
    {
     "data": {
      "image/png": "[encoded data removed]",
      "text/plain": [
       "<Figure size 432x288 with 1 Axes>"
      ]
     },
     "metadata": {
      "needs_background": "light"
     },
     "output_type": "display_data"
    }
   ],
   "source": [
    "plt.ylim(2, 3.5)\n",
    "flats.boxplot('ceiling_height')\n",
    "plt.show()"
   ]
  },
  {
   "cell_type": "markdown",
   "metadata": {},
   "source": [
    "По данным из гистограммы и boxplot мы можем сказать:\n",
    "*  Медианная высота потолка 2.7 метра\n",
    "*  После того как мы очистили данные от квартир с высотой потолков меньше 2-х метров и больше 4 мы не видим каких-то больших отклонений\n",
    "*  Можно заметить, что уже после 3 метров наблюдается длинный хвост, изначально он был до 100 метров. \n",
    "*  В разделе предобработка данных было приведено несколько графиков"
   ]
  },
  {
   "cell_type": "markdown",
   "metadata": {},
   "source": [
    "### Посмотрим внимательнее на параметр время продажи квартиры (days_exposition)"
   ]
  },
  {
   "cell_type": "markdown",
   "metadata": {},
   "source": [
    "Построим гистограммы, посчитаем среднее и медиану, опишем, сколько обычно занимает продажа. Введем такие понятия как \"очень быстрая продажа\" и \"необычно долгая продажа\"."
   ]
  },
  {
   "cell_type": "code",
   "execution_count": 83,
   "metadata": {},
   "outputs": [
    {
     "data": {
      "text/plain": [
       "count    23523.000000\n",
       "mean       168.948051\n",
       "std        206.267056\n",
       "min          1.000000\n",
       "25%         45.000000\n",
       "50%         95.000000\n",
       "75%        197.500000\n",
       "max       1580.000000\n",
       "Name: days_exposition, dtype: float64"
      ]
     },
     "execution_count": 83,
     "metadata": {},
     "output_type": "execute_result"
    }
   ],
   "source": [
    "flats['days_exposition'].describe()"
   ]
  },
  {
   "cell_type": "code",
   "execution_count": 84,
   "metadata": {},
   "outputs": [
    {
     "data": {
      "image/png": "[encoded data removed]",
      "text/plain": [
       "<Figure size 432x288 with 1 Axes>"
      ]
     },
     "metadata": {
      "needs_background": "light"
     },
     "output_type": "display_data"
    }
   ],
   "source": [
    "flats['days_exposition'].hist(bins=100);"
   ]
  },
  {
   "cell_type": "code",
   "execution_count": 85,
   "metadata": {},
   "outputs": [
    {
     "data": {
      "image/png": "[encoded data removed]",
      "text/plain": [
       "<Figure size 432x288 with 1 Axes>"
      ]
     },
     "metadata": {
      "needs_background": "light"
     },
     "output_type": "display_data"
    }
   ],
   "source": [
    "plt.ylim(1, 500)\n",
    "flats.boxplot('days_exposition')\n",
    "plt.show()"
   ]
  },
  {
   "cell_type": "code",
   "execution_count": 86,
   "metadata": {},
   "outputs": [
    {
     "data": {
      "text/plain": [
       "0.898142243761425"
      ]
     },
     "execution_count": 86,
     "metadata": {},
     "output_type": "execute_result"
    }
   ],
   "source": [
    "flats[flats['days_exposition'] < 420].shape[0] / flats.shape[0]"
   ]
  },
  {
   "cell_type": "code",
   "execution_count": 87,
   "metadata": {},
   "outputs": [
    {
     "data": {
      "text/plain": [
       "0.09981720018705097"
      ]
     },
     "execution_count": 87,
     "metadata": {},
     "output_type": "execute_result"
    }
   ],
   "source": [
    "flats[flats['days_exposition'] < 20].shape[0] / flats.shape[0]"
   ]
  },
  {
   "cell_type": "markdown",
   "metadata": {},
   "source": [
    "* Медиана времени продожи на 95 дней\n",
    "* В среднем продажа квартиры длится 169 дней\n",
    "* Обычно продача занимает не более 400 дней (90% продаж). Все что более можно считать \"необычно долгой продажей\"\n",
    "* С другой стороны \"необычно быстрой продажей\" можно считать те, что завершились быстрее 20 дней"
   ]
  },
  {
   "cell_type": "markdown",
   "metadata": {},
   "source": [
    "### Поработаем с выбросами"
   ]
  },
  {
   "cell_type": "markdown",
   "metadata": {},
   "source": [
    "На этапе предобработки данных мы уже очистили данные от очевидных выбросов, остальные же выбросы нужно удалять вводя определенные границы, которые удобны бизнесу. \n",
    "\n",
    "Поэтому тут я удалю всего пару очевидных выбросов."
   ]
  },
  {
   "cell_type": "code",
   "execution_count": 88,
   "metadata": {},
   "outputs": [
    {
     "name": "stdout",
     "output_type": "stream",
     "text": [
      "Странный объект с 0 комнат количество: 1\n"
     ]
    }
   ],
   "source": [
    "print('Странный объект с 0 комнат количество:', \n",
    "      flats.query('rooms == 0 and studio == False and total_area > 300').shape[0])\n",
    "indexes = flats.query('rooms == 0 and studio == False and total_area > 300').index\n",
    "flats.drop(indexes , inplace=True)"
   ]
  },
  {
   "cell_type": "markdown",
   "metadata": {},
   "source": [
    "При работе с комнатами мы заметили, что 0 комнат имеют очень маленькие квартиры либо со статусом студии.\n",
    "Я думаю, что будет разумно проставить этим квартирам статус студии. Еще я считаю, что квартиры - студии все-таки имеют одну комнату, поэтому я заменю 0 комнат на 1 комнату."
   ]
  },
  {
   "cell_type": "code",
   "execution_count": 89,
   "metadata": {},
   "outputs": [
    {
     "data": {
      "text/plain": [
       "array([False,  True])"
      ]
     },
     "execution_count": 89,
     "metadata": {},
     "output_type": "execute_result"
    }
   ],
   "source": [
    "indexes = flats.query('rooms == 0 and studio == False').index\n",
    "flats['studio'].unique()"
   ]
  },
  {
   "cell_type": "code",
   "execution_count": 90,
   "metadata": {},
   "outputs": [],
   "source": [
    "indexes = flats.query('rooms == 0 and studio == False').index\n",
    "flats.loc[indexes, ['studio']] = flats.loc[indexes, ['studio']].replace(False, True)"
   ]
  },
  {
   "cell_type": "code",
   "execution_count": 91,
   "metadata": {},
   "outputs": [],
   "source": [
    "indexes = flats.query('rooms == 0').index\n",
    "flats.loc[indexes, ['rooms']] = flats.loc[indexes, ['rooms']].replace({0: 1})"
   ]
  },
  {
   "cell_type": "code",
   "execution_count": 92,
   "metadata": {},
   "outputs": [
    {
     "data": {
      "text/plain": [
       "array([ 3,  1,  2,  4,  5,  6,  7, 11,  8, 14, 10, 15,  9, 19, 16, 12])"
      ]
     },
     "execution_count": 92,
     "metadata": {},
     "output_type": "execute_result"
    }
   ],
   "source": [
    "flats['rooms'].unique()"
   ]
  },
  {
   "cell_type": "code",
   "execution_count": 93,
   "metadata": {},
   "outputs": [
    {
     "name": "stdout",
     "output_type": "stream",
     "text": [
      "Неправдоподобно большие объекты количество: 100\n"
     ]
    }
   ],
   "source": [
    "print('Неправдоподобно большие объекты количество:', \n",
    "      flats.query('total_area > 250').shape[0])\n",
    "indexes = flats.query('total_area > 250').index\n",
    "flats.drop(indexes , inplace=True)"
   ]
  },
  {
   "cell_type": "code",
   "execution_count": 94,
   "metadata": {},
   "outputs": [
    {
     "name": "stdout",
     "output_type": "stream",
     "text": [
      "Слишком много комнат количество: 51\n"
     ]
    }
   ],
   "source": [
    "print('Слишком много комнат количество:', \n",
    "      flats.query('rooms > 6').shape[0])\n",
    "indexes = flats.query('rooms > 6').index\n",
    "flats.drop(indexes , inplace=True)"
   ]
  },
  {
   "cell_type": "code",
   "execution_count": 95,
   "metadata": {},
   "outputs": [
    {
     "name": "stdout",
     "output_type": "stream",
     "text": [
      "Слишком дорогие объекты количество: 109\n"
     ]
    }
   ],
   "source": [
    "print('Слишком дорогие объекты количество:', \n",
    "      flats.query('last_price > 4e+7').shape[0])\n",
    "indexes = flats.query('last_price > 4e+7').index\n",
    "flats.drop(indexes , inplace=True)"
   ]
  },
  {
   "cell_type": "markdown",
   "metadata": {},
   "source": [
    "### Изучим факторы, влияющие на стоимость недвижимости"
   ]
  },
  {
   "cell_type": "code",
   "execution_count": 96,
   "metadata": {},
   "outputs": [
    {
     "data": {
      "image/png": "[encoded data removed]",
      "text/plain": [
       "<Figure size 432x288 with 1 Axes>"
      ]
     },
     "metadata": {
      "needs_background": "light"
     },
     "output_type": "display_data"
    },
    {
     "name": "stdout",
     "output_type": "stream",
     "text": [
      "Корреляция между стоимостью квартиры и общей площадью 0.781\n"
     ]
    }
   ],
   "source": [
    "flats.plot(x='last_price', y='total_area', kind='scatter', alpha=0.05)\n",
    "plt.show()\n",
    "print('Корреляция между стоимостью квартиры и общей площадью', \n",
    "      flats['last_price'].corr(flats['total_area']).round(3))"
   ]
  },
  {
   "cell_type": "markdown",
   "metadata": {},
   "source": [
    "Зависимость между количеством метров и общей ценой наблюдается прямая, это логично: чем больше метров, тем выше стоимость объекта недвижимости."
   ]
  },
  {
   "cell_type": "code",
   "execution_count": 97,
   "metadata": {},
   "outputs": [
    {
     "data": {
      "image/png": "[encoded data removed]",
      "text/plain": [
       "<Figure size 432x288 with 1 Axes>"
      ]
     },
     "metadata": {
      "needs_background": "light"
     },
     "output_type": "display_data"
    },
    {
     "name": "stdout",
     "output_type": "stream",
     "text": [
      "Корреляция между стоимостью квартиры и ценой за квадратный метр 0.696\n"
     ]
    }
   ],
   "source": [
    "flats.plot(x='last_price', y='price_per_meter', kind='scatter', alpha=0.05)\n",
    "plt.show()\n",
    "print('Корреляция между стоимостью квартиры и ценой за квадратный метр', \n",
    "      flats['last_price'].corr(flats['price_per_meter']).round(3))"
   ]
  },
  {
   "cell_type": "markdown",
   "metadata": {},
   "source": [
    "Зависимость довольно высокая и тоже прямая, но не такая явная как в случае с общей площадью."
   ]
  },
  {
   "cell_type": "code",
   "execution_count": 98,
   "metadata": {},
   "outputs": [
    {
     "data": {
      "image/png": "[encoded data removed]",
      "text/plain": [
       "<Figure size 432x288 with 1 Axes>"
      ]
     },
     "metadata": {
      "needs_background": "light"
     },
     "output_type": "display_data"
    },
    {
     "name": "stdout",
     "output_type": "stream",
     "text": [
      "Корреляция между стоимостью квартиры и удаленностью от центра -0.337\n"
     ]
    }
   ],
   "source": [
    "flats.plot(x='last_price', y='cityCenters_nearest', kind='scatter', alpha=0.05)\n",
    "plt.show()\n",
    "print('Корреляция между стоимостью квартиры и удаленностью от центра', \n",
    "      flats['last_price'].corr(flats['cityCenters_nearest']).round(3))"
   ]
  },
  {
   "cell_type": "markdown",
   "metadata": {},
   "source": [
    "Корреляция не высокая и отрицательная, это означает, что чем дальше мы от центра тем дешевле недвижимость."
   ]
  },
  {
   "cell_type": "code",
   "execution_count": 99,
   "metadata": {},
   "outputs": [
    {
     "data": {
      "image/png": "[encoded data removed]",
      "text/plain": [
       "<Figure size 432x288 with 1 Axes>"
      ]
     },
     "metadata": {
      "needs_background": "light"
     },
     "output_type": "display_data"
    },
    {
     "name": "stdout",
     "output_type": "stream",
     "text": [
      "Корреляция между стоимостью квартиры и числа комнат 0.488\n"
     ]
    }
   ],
   "source": [
    "flats.plot(x='last_price', y='rooms', kind='scatter', alpha=0.05)\n",
    "plt.show()\n",
    "print('Корреляция между стоимостью квартиры и числа комнат', \n",
    "      flats['last_price'].corr(flats['rooms']).round(3))"
   ]
  },
  {
   "cell_type": "markdown",
   "metadata": {},
   "source": [
    "Корреляция прямая и высокая, можно заметить, что количество комнат влияет на цену больше, чем удаленность от центра."
   ]
  },
  {
   "cell_type": "code",
   "execution_count": 100,
   "metadata": {},
   "outputs": [
    {
     "data": {
      "image/png": "[encoded data removed]",
      "text/plain": [
       "<Figure size 432x288 with 1 Axes>"
      ]
     },
     "metadata": {
      "needs_background": "light"
     },
     "output_type": "display_data"
    },
    {
     "name": "stdout",
     "output_type": "stream",
     "text": [
      "Корреляция между стоимостью квартиры и днем размещения объявления -0.011\n"
     ]
    }
   ],
   "source": [
    "flats.plot(x='last_price', y='weekday_exposition', kind='scatter', alpha=0.05)\n",
    "plt.show()\n",
    "print('Корреляция между стоимостью квартиры и днем размещения объявления', \n",
    "      flats['last_price'].corr(flats['weekday_exposition']).round(3))"
   ]
  },
  {
   "cell_type": "markdown",
   "metadata": {},
   "source": [
    "Корреляции не наблюдается. Распределение примерно равномерное. Продажа недвижимости дело серьезное, врядли будет зависить от дня, в котором было размещено объявление."
   ]
  },
  {
   "cell_type": "code",
   "execution_count": 101,
   "metadata": {},
   "outputs": [
    {
     "data": {
      "image/png": "[encoded data removed]",
      "text/plain": [
       "<Figure size 432x288 with 1 Axes>"
      ]
     },
     "metadata": {
      "needs_background": "light"
     },
     "output_type": "display_data"
    },
    {
     "name": "stdout",
     "output_type": "stream",
     "text": [
      "Корреляция между стоимостью квартиры и месяц размещения 0.003\n"
     ]
    }
   ],
   "source": [
    "flats.plot(x='last_price', y='month_exposition', kind='scatter', alpha=0.05)\n",
    "plt.show()\n",
    "print('Корреляция между стоимостью квартиры и месяц размещения', \n",
    "      flats['last_price'].corr(flats['month_exposition']).round(3))"
   ]
  },
  {
   "cell_type": "markdown",
   "metadata": {},
   "source": [
    "Тут корреляция также не наблюдается. Я ожидала, что тут будет зависимость, т.е. есть сезонность, увеличение и уменьшение цены."
   ]
  },
  {
   "cell_type": "code",
   "execution_count": 102,
   "metadata": {},
   "outputs": [
    {
     "data": {
      "image/png": "[encoded data removed]",
      "text/plain": [
       "<Figure size 432x288 with 1 Axes>"
      ]
     },
     "metadata": {
      "needs_background": "light"
     },
     "output_type": "display_data"
    },
    {
     "name": "stdout",
     "output_type": "stream",
     "text": [
      "Корреляция между стоимостью квартиры и годом создания объявления -0.038\n"
     ]
    }
   ],
   "source": [
    "flats.plot(x='last_price', y='year_exposition', kind='scatter', alpha=0.05)\n",
    "plt.show()\n",
    "print('Корреляция между стоимостью квартиры и годом создания объявления', \n",
    "      flats['last_price'].corr(flats['year_exposition']).round(3))"
   ]
  },
  {
   "cell_type": "markdown",
   "metadata": {},
   "source": [
    "Корреляция не наблюдается. В последние годы не было сильных кризисов или потрясений."
   ]
  },
  {
   "cell_type": "code",
   "execution_count": 103,
   "metadata": {},
   "outputs": [
    {
     "data": {
      "image/png": "[encoded data removed]",
      "text/plain": [
       "<Figure size 432x288 with 1 Axes>"
      ]
     },
     "metadata": {
      "needs_background": "light"
     },
     "output_type": "display_data"
    },
    {
     "name": "stdout",
     "output_type": "stream",
     "text": [
      "Корреляция между стоимостью квартиры и категорией этажа(первый, последний, другой) 0.058\n"
     ]
    }
   ],
   "source": [
    "flats.plot(x='last_price', y='floor_categorie', kind='scatter', alpha=0.2)\n",
    "plt.show()\n",
    "print('Корреляция между стоимостью квартиры и категорией этажа(первый, последний, другой)', \n",
    "      flats['last_price'].corr(flats['floor_categorie']).round(3))"
   ]
  },
  {
   "cell_type": "markdown",
   "metadata": {},
   "source": [
    "### Посмотрим на остальные корреляции, может есть что-нибудь интересное."
   ]
  },
  {
   "cell_type": "code",
   "execution_count": 104,
   "metadata": {},
   "outputs": [
    {
     "data": {
      "text/plain": [
       "total_area                  0.78\n",
       "price_per_meter             0.70\n",
       "living_area                 0.68\n",
       "kitchen_area                0.62\n",
       "rooms                       0.49\n",
       "ceiling_height              0.42\n",
       "ponds_around3000            0.29\n",
       "parks_around3000            0.28\n",
       "total_images                0.15\n",
       "days_exposition             0.09\n",
       "floor                       0.07\n",
       "floors_total                0.06\n",
       "floor_categorie             0.06\n",
       "balcony                     0.04\n",
       "parks_nearest               0.02\n",
       "is_apartment                0.02\n",
       "month_exposition            0.00\n",
       "ratio_living_total_area     0.00\n",
       "weekday_exposition         -0.01\n",
       "open_plan                  -0.03\n",
       "airports_nearest           -0.03\n",
       "year_exposition            -0.04\n",
       "studio                     -0.06\n",
       "ratio_kitchen_total_area   -0.09\n",
       "ponds_nearest              -0.11\n",
       "cityCenters_nearest        -0.34\n",
       "Name: last_price, dtype: float64"
      ]
     },
     "execution_count": 104,
     "metadata": {},
     "output_type": "execute_result"
    }
   ],
   "source": [
    "corr = flats.corr()\n",
    "corr['last_price'].sort_values(ascending=False)[1:].round(2)"
   ]
  },
  {
   "cell_type": "markdown",
   "metadata": {},
   "source": [
    "### Вывод\n",
    "Подведем итоги по корреляциям с ценой.\n",
    "Самое большое влияние на цену оказывает площадь недвижимости (0.78) и различные производные от нее - цена за метр(0.7), жилая площадь(0.68), площадь кухни(0.62), количество комнат(0.49). \n",
    "Высота потолков тоже вносит большой вклад(0.42).\n",
    "\n",
    "После характеристик всевозможных размеров квартиры идут удаленность от мест проведения досуга: ponds_around3000(0.29) и parks_around3000(0.28).\n",
    "\n",
    "Высокая отрицательная корреляция с удаленностью от центра(-0.34), многие хотят жить ближе к центру.\n",
    "\n",
    "Интересно, что корреляция с количеством фотографий(0.15) делает больший вклад, чем признак числа балконов или этажа."
   ]
  },
  {
   "cell_type": "code",
   "execution_count": 105,
   "metadata": {},
   "outputs": [
    {
     "data": {
      "text/plain": [
       "locality_name\n",
       "Санкт-Петербург      15372\n",
       "поселок Мурино         554\n",
       "поселок Шушары         440\n",
       "Всеволожск             395\n",
       "Пушкин                 365\n",
       "Колпино                337\n",
       "поселок Парголово      326\n",
       "Гатчина                305\n",
       "деревня Кудрово        299\n",
       "Выборг                 233\n",
       "Name: locality_name, dtype: int64"
      ]
     },
     "execution_count": 105,
     "metadata": {},
     "output_type": "execute_result"
    }
   ],
   "source": [
    "# Посмотрим в каких городах продают больше всего недвижимости\n",
    "interesting_locality = flats.groupby('locality_name')['locality_name'].count().sort_values(ascending=False)[:10]\n",
    "interesting_locality"
   ]
  },
  {
   "cell_type": "markdown",
   "metadata": {},
   "source": [
    "Как и ожидалось, основная часть объявлений размещена на объекты в Санкт-Петербурге. Рассчитаем среднюю стоимость квадратного метра в этих населенных пунктах."
   ]
  },
  {
   "cell_type": "code",
   "execution_count": 106,
   "metadata": {},
   "outputs": [
    {
     "data": {
      "text/plain": [
       "(18626, 29)"
      ]
     },
     "execution_count": 106,
     "metadata": {},
     "output_type": "execute_result"
    }
   ],
   "source": [
    "locality_names = list(interesting_locality.index)\n",
    "flats.query(f'locality_name in {locality_names}').shape"
   ]
  },
  {
   "cell_type": "code",
   "execution_count": 107,
   "metadata": {},
   "outputs": [
    {
     "data": {
      "text/plain": [
       "locality_name\n",
       "Санкт-Петербург      111591.832245\n",
       "Пушкин               102780.444077\n",
       "деревня Кудрово       92473.547576\n",
       "поселок Парголово     90332.263023\n",
       "поселок Мурино        85656.214377\n",
       "поселок Шушары        78677.364217\n",
       "Колпино               75333.295801\n",
       "Гатчина               68811.372828\n",
       "Всеволожск            68617.058829\n",
       "Выборг                58250.660654\n",
       "Name: price_per_meter, dtype: float64"
      ]
     },
     "execution_count": 107,
     "metadata": {},
     "output_type": "execute_result"
    }
   ],
   "source": [
    "most_pop_localities = flats.query(f'locality_name in {locality_names}').groupby('locality_name')\n",
    "mean_price_per_meter = most_pop_localities['price_per_meter'].mean()\n",
    "mean_price_per_meter.sort_values(ascending=False)"
   ]
  },
  {
   "cell_type": "markdown",
   "metadata": {},
   "source": [
    "Населённый пункт с самой высокой стоимостью жилья это Санкт-Петербург и с самой низкой стоимостью жилья это Выборг, почти в 2 раза дешевле. Этот вывод действителен только для 10 самых популянрных населенных пунктов."
   ]
  },
  {
   "cell_type": "markdown",
   "metadata": {},
   "source": [
    "#### Рассмотрим подробнее зависимость цены квартиры от ее удаленности от центра на примере Санкт-Петербурга."
   ]
  },
  {
   "cell_type": "code",
   "execution_count": 108,
   "metadata": {},
   "outputs": [],
   "source": [
    "spb_flats = flats.query('(locality_name == \"Санкт-Петербург\") and (cityCenters_nearest > 0)').copy()"
   ]
  },
  {
   "cell_type": "code",
   "execution_count": 109,
   "metadata": {},
   "outputs": [],
   "source": [
    "# Создадим столбец, в котором сохраним расстояние до центра в километрах\n",
    "spb_flats['cityCenters_nearest_km'] = spb_flats['cityCenters_nearest'].apply(lambda x: round(x / 1000))"
   ]
  },
  {
   "cell_type": "code",
   "execution_count": 110,
   "metadata": {},
   "outputs": [
    {
     "data": {
      "text/plain": [
       "cityCenters_nearest_km\n",
       "0     1.636809e+07\n",
       "1     1.197091e+07\n",
       "2     1.151183e+07\n",
       "3     9.771651e+06\n",
       "4     1.084135e+07\n",
       "5     1.120026e+07\n",
       "6     1.052192e+07\n",
       "7     1.066519e+07\n",
       "8     8.969092e+06\n",
       "9     6.907852e+06\n",
       "10    6.412095e+06\n",
       "11    6.119239e+06\n",
       "12    5.789760e+06\n",
       "13    6.068698e+06\n",
       "14    5.587693e+06\n",
       "15    5.843724e+06\n",
       "16    5.367758e+06\n",
       "17    5.217044e+06\n",
       "18    4.904778e+06\n",
       "19    5.037675e+06\n",
       "20    5.944080e+06\n",
       "21    5.493469e+06\n",
       "22    5.415524e+06\n",
       "23    4.851274e+06\n",
       "24    3.854430e+06\n",
       "25    4.052840e+06\n",
       "26    3.973013e+06\n",
       "27    8.300000e+06\n",
       "28    5.026429e+06\n",
       "29    4.236667e+06\n",
       "Name: last_price, dtype: float64"
      ]
     },
     "execution_count": 110,
     "metadata": {},
     "output_type": "execute_result"
    }
   ],
   "source": [
    "# Сгруппируем квартиры по расстоянию до центра и посмотрим как изменяется цена\n",
    "mean_price_for_km = spb_flats.groupby('cityCenters_nearest_km')['last_price'].mean()\n",
    "mean_price_for_km"
   ]
  },
  {
   "cell_type": "code",
   "execution_count": 111,
   "metadata": {},
   "outputs": [
    {
     "data": {
      "image/png": "[encoded data removed]",
      "text/plain": [
       "<Figure size 432x288 with 1 Axes>"
      ]
     },
     "metadata": {
      "needs_background": "light"
     },
     "output_type": "display_data"
    }
   ],
   "source": [
    "plt.plot(mean_price_for_km.index, mean_price_for_km);"
   ]
  },
  {
   "cell_type": "markdown",
   "metadata": {},
   "source": [
    "Как мы можем наблюдать на графике, цена действительно падает по мере удаления от центра, есть какие-то странности на 27 километре, там цена в 2 раза выше, чем у соседей, возможно там уже другой город или заповедник. Проверим."
   ]
  },
  {
   "cell_type": "code",
   "execution_count": 112,
   "metadata": {},
   "outputs": [
    {
     "data": {
      "text/html": [
       "<div>\n",
       "<style scoped>\n",
       "    .dataframe tbody tr th:only-of-type {\n",
       "        vertical-align: middle;\n",
       "    }\n",
       "\n",
       "    .dataframe tbody tr th {\n",
       "        vertical-align: top;\n",
       "    }\n",
       "\n",
       "    .dataframe thead th {\n",
       "        text-align: right;\n",
       "    }\n",
       "</style>\n",
       "<table border=\"1\" class=\"dataframe\">\n",
       "  <thead>\n",
       "    <tr style=\"text-align: right;\">\n",
       "      <th></th>\n",
       "      <th>total_images</th>\n",
       "      <th>last_price</th>\n",
       "      <th>total_area</th>\n",
       "      <th>first_day_exposition</th>\n",
       "      <th>rooms</th>\n",
       "      <th>ceiling_height</th>\n",
       "      <th>floors_total</th>\n",
       "      <th>living_area</th>\n",
       "      <th>floor</th>\n",
       "      <th>is_apartment</th>\n",
       "      <th>...</th>\n",
       "      <th>ponds_nearest</th>\n",
       "      <th>days_exposition</th>\n",
       "      <th>price_per_meter</th>\n",
       "      <th>weekday_exposition</th>\n",
       "      <th>month_exposition</th>\n",
       "      <th>year_exposition</th>\n",
       "      <th>floor_categorie</th>\n",
       "      <th>ratio_living_total_area</th>\n",
       "      <th>ratio_kitchen_total_area</th>\n",
       "      <th>cityCenters_nearest_km</th>\n",
       "    </tr>\n",
       "  </thead>\n",
       "  <tbody>\n",
       "    <tr>\n",
       "      <td>748</td>\n",
       "      <td>13</td>\n",
       "      <td>14350000</td>\n",
       "      <td>74.0</td>\n",
       "      <td>2017-11-28</td>\n",
       "      <td>2</td>\n",
       "      <td>3.13</td>\n",
       "      <td>5</td>\n",
       "      <td>30.0</td>\n",
       "      <td>3</td>\n",
       "      <td>0</td>\n",
       "      <td>...</td>\n",
       "      <td>NaN</td>\n",
       "      <td>128</td>\n",
       "      <td>193918.918919</td>\n",
       "      <td>1</td>\n",
       "      <td>11</td>\n",
       "      <td>2017</td>\n",
       "      <td>2</td>\n",
       "      <td>0.405405</td>\n",
       "      <td>0.337838</td>\n",
       "      <td>27</td>\n",
       "    </tr>\n",
       "    <tr>\n",
       "      <td>5961</td>\n",
       "      <td>6</td>\n",
       "      <td>2250000</td>\n",
       "      <td>32.0</td>\n",
       "      <td>2018-02-27</td>\n",
       "      <td>1</td>\n",
       "      <td>2.78</td>\n",
       "      <td>2</td>\n",
       "      <td>16.5</td>\n",
       "      <td>2</td>\n",
       "      <td>0</td>\n",
       "      <td>...</td>\n",
       "      <td>NaN</td>\n",
       "      <td>178</td>\n",
       "      <td>70312.500000</td>\n",
       "      <td>1</td>\n",
       "      <td>2</td>\n",
       "      <td>2018</td>\n",
       "      <td>3</td>\n",
       "      <td>0.515625</td>\n",
       "      <td>0.218750</td>\n",
       "      <td>27</td>\n",
       "    </tr>\n",
       "  </tbody>\n",
       "</table>\n",
       "<p>2 rows × 30 columns</p>\n",
       "</div>"
      ],
      "text/plain": [
       "      total_images  last_price  total_area first_day_exposition  rooms  \\\n",
       "748             13    14350000        74.0           2017-11-28      2   \n",
       "5961             6     2250000        32.0           2018-02-27      1   \n",
       "\n",
       "      ceiling_height  floors_total  living_area  floor  is_apartment  ...  \\\n",
       "748             3.13             5         30.0      3             0  ...   \n",
       "5961            2.78             2         16.5      2             0  ...   \n",
       "\n",
       "      ponds_nearest  days_exposition  price_per_meter  weekday_exposition  \\\n",
       "748             NaN              128    193918.918919                   1   \n",
       "5961            NaN              178     70312.500000                   1   \n",
       "\n",
       "     month_exposition  year_exposition  floor_categorie  \\\n",
       "748                11             2017                2   \n",
       "5961                2             2018                3   \n",
       "\n",
       "      ratio_living_total_area  ratio_kitchen_total_area  \\\n",
       "748                  0.405405                  0.337838   \n",
       "5961                 0.515625                  0.218750   \n",
       "\n",
       "      cityCenters_nearest_km  \n",
       "748                       27  \n",
       "5961                      27  \n",
       "\n",
       "[2 rows x 30 columns]"
      ]
     },
     "execution_count": 112,
     "metadata": {},
     "output_type": "execute_result"
    }
   ],
   "source": [
    "spb_flats.query('cityCenters_nearest_km == 27')"
   ]
  },
  {
   "cell_type": "markdown",
   "metadata": {},
   "source": [
    "На 27 км просто не много объектов и присутствует 1 очень дорогой объект, который и вносит такие странности. В остальном по графику можно сказать, что до 12 км от центра цена падает очень быстро, т.е. в этой области близость к центру играет большую роль в стоимости недвижимости. После 12 км цена падает значитально медленнее. \n",
    "\n",
    "Зону до 12 км от центра мы можем назвать центральной."
   ]
  },
  {
   "cell_type": "markdown",
   "metadata": {},
   "source": [
    "#### Посмотрим, какие квартиры находятся в центральном районе Санкт-Петербура."
   ]
  },
  {
   "cell_type": "code",
   "execution_count": 113,
   "metadata": {},
   "outputs": [],
   "source": [
    "central_spb_flats = spb_flats.query('cityCenters_nearest_km <= 12')"
   ]
  },
  {
   "cell_type": "code",
   "execution_count": 114,
   "metadata": {},
   "outputs": [
    {
     "data": {
      "text/html": [
       "<div>\n",
       "<style scoped>\n",
       "    .dataframe tbody tr th:only-of-type {\n",
       "        vertical-align: middle;\n",
       "    }\n",
       "\n",
       "    .dataframe tbody tr th {\n",
       "        vertical-align: top;\n",
       "    }\n",
       "\n",
       "    .dataframe thead th {\n",
       "        text-align: right;\n",
       "    }\n",
       "</style>\n",
       "<table border=\"1\" class=\"dataframe\">\n",
       "  <thead>\n",
       "    <tr style=\"text-align: right;\">\n",
       "      <th></th>\n",
       "      <th>total_area</th>\n",
       "      <th>last_price</th>\n",
       "      <th>rooms</th>\n",
       "      <th>ceiling_height</th>\n",
       "    </tr>\n",
       "  </thead>\n",
       "  <tbody>\n",
       "    <tr>\n",
       "      <td>count</td>\n",
       "      <td>7895.00000</td>\n",
       "      <td>7.895000e+03</td>\n",
       "      <td>7895.000000</td>\n",
       "      <td>7895.000000</td>\n",
       "    </tr>\n",
       "    <tr>\n",
       "      <td>mean</td>\n",
       "      <td>67.64363</td>\n",
       "      <td>8.306830e+06</td>\n",
       "      <td>2.286257</td>\n",
       "      <td>2.802878</td>\n",
       "    </tr>\n",
       "    <tr>\n",
       "      <td>std</td>\n",
       "      <td>33.44027</td>\n",
       "      <td>5.787923e+06</td>\n",
       "      <td>1.076563</td>\n",
       "      <td>0.261125</td>\n",
       "    </tr>\n",
       "    <tr>\n",
       "      <td>min</td>\n",
       "      <td>12.00000</td>\n",
       "      <td>1.219000e+04</td>\n",
       "      <td>1.000000</td>\n",
       "      <td>2.400000</td>\n",
       "    </tr>\n",
       "    <tr>\n",
       "      <td>25%</td>\n",
       "      <td>44.00000</td>\n",
       "      <td>4.600000e+06</td>\n",
       "      <td>1.000000</td>\n",
       "      <td>2.615000</td>\n",
       "    </tr>\n",
       "    <tr>\n",
       "      <td>50%</td>\n",
       "      <td>59.00000</td>\n",
       "      <td>6.500000e+06</td>\n",
       "      <td>2.000000</td>\n",
       "      <td>2.720000</td>\n",
       "    </tr>\n",
       "    <tr>\n",
       "      <td>75%</td>\n",
       "      <td>82.35000</td>\n",
       "      <td>9.800000e+06</td>\n",
       "      <td>3.000000</td>\n",
       "      <td>3.000000</td>\n",
       "    </tr>\n",
       "    <tr>\n",
       "      <td>max</td>\n",
       "      <td>250.00000</td>\n",
       "      <td>4.000000e+07</td>\n",
       "      <td>6.000000</td>\n",
       "      <td>3.980000</td>\n",
       "    </tr>\n",
       "  </tbody>\n",
       "</table>\n",
       "</div>"
      ],
      "text/plain": [
       "       total_area    last_price        rooms  ceiling_height\n",
       "count  7895.00000  7.895000e+03  7895.000000     7895.000000\n",
       "mean     67.64363  8.306830e+06     2.286257        2.802878\n",
       "std      33.44027  5.787923e+06     1.076563        0.261125\n",
       "min      12.00000  1.219000e+04     1.000000        2.400000\n",
       "25%      44.00000  4.600000e+06     1.000000        2.615000\n",
       "50%      59.00000  6.500000e+06     2.000000        2.720000\n",
       "75%      82.35000  9.800000e+06     3.000000        3.000000\n",
       "max     250.00000  4.000000e+07     6.000000        3.980000"
      ]
     },
     "execution_count": 114,
     "metadata": {},
     "output_type": "execute_result"
    }
   ],
   "source": [
    "central_spb_flats[['total_area', 'last_price', 'rooms', 'ceiling_height']].describe()"
   ]
  },
  {
   "cell_type": "code",
   "execution_count": 115,
   "metadata": {},
   "outputs": [
    {
     "data": {
      "text/html": [
       "<div>\n",
       "<style scoped>\n",
       "    .dataframe tbody tr th:only-of-type {\n",
       "        vertical-align: middle;\n",
       "    }\n",
       "\n",
       "    .dataframe tbody tr th {\n",
       "        vertical-align: top;\n",
       "    }\n",
       "\n",
       "    .dataframe thead th {\n",
       "        text-align: right;\n",
       "    }\n",
       "</style>\n",
       "<table border=\"1\" class=\"dataframe\">\n",
       "  <thead>\n",
       "    <tr style=\"text-align: right;\">\n",
       "      <th></th>\n",
       "      <th>total_area</th>\n",
       "      <th>last_price</th>\n",
       "      <th>rooms</th>\n",
       "      <th>ceiling_height</th>\n",
       "    </tr>\n",
       "  </thead>\n",
       "  <tbody>\n",
       "    <tr>\n",
       "      <td>count</td>\n",
       "      <td>15315.000000</td>\n",
       "      <td>1.531500e+04</td>\n",
       "      <td>15315.00000</td>\n",
       "      <td>15315.000000</td>\n",
       "    </tr>\n",
       "    <tr>\n",
       "      <td>mean</td>\n",
       "      <td>61.399171</td>\n",
       "      <td>6.987089e+06</td>\n",
       "      <td>2.12034</td>\n",
       "      <td>2.735090</td>\n",
       "    </tr>\n",
       "    <tr>\n",
       "      <td>std</td>\n",
       "      <td>29.178092</td>\n",
       "      <td>4.777378e+06</td>\n",
       "      <td>1.01353</td>\n",
       "      <td>0.219185</td>\n",
       "    </tr>\n",
       "    <tr>\n",
       "      <td>min</td>\n",
       "      <td>12.000000</td>\n",
       "      <td>1.219000e+04</td>\n",
       "      <td>1.00000</td>\n",
       "      <td>2.300000</td>\n",
       "    </tr>\n",
       "    <tr>\n",
       "      <td>25%</td>\n",
       "      <td>41.600000</td>\n",
       "      <td>4.200000e+06</td>\n",
       "      <td>1.00000</td>\n",
       "      <td>2.580000</td>\n",
       "    </tr>\n",
       "    <tr>\n",
       "      <td>50%</td>\n",
       "      <td>54.200000</td>\n",
       "      <td>5.490000e+06</td>\n",
       "      <td>2.00000</td>\n",
       "      <td>2.700000</td>\n",
       "    </tr>\n",
       "    <tr>\n",
       "      <td>75%</td>\n",
       "      <td>73.000000</td>\n",
       "      <td>7.900000e+06</td>\n",
       "      <td>3.00000</td>\n",
       "      <td>2.800000</td>\n",
       "    </tr>\n",
       "    <tr>\n",
       "      <td>max</td>\n",
       "      <td>250.000000</td>\n",
       "      <td>4.000000e+07</td>\n",
       "      <td>6.00000</td>\n",
       "      <td>3.980000</td>\n",
       "    </tr>\n",
       "  </tbody>\n",
       "</table>\n",
       "</div>"
      ],
      "text/plain": [
       "         total_area    last_price        rooms  ceiling_height\n",
       "count  15315.000000  1.531500e+04  15315.00000    15315.000000\n",
       "mean      61.399171  6.987089e+06      2.12034        2.735090\n",
       "std       29.178092  4.777378e+06      1.01353        0.219185\n",
       "min       12.000000  1.219000e+04      1.00000        2.300000\n",
       "25%       41.600000  4.200000e+06      1.00000        2.580000\n",
       "50%       54.200000  5.490000e+06      2.00000        2.700000\n",
       "75%       73.000000  7.900000e+06      3.00000        2.800000\n",
       "max      250.000000  4.000000e+07      6.00000        3.980000"
      ]
     },
     "execution_count": 115,
     "metadata": {},
     "output_type": "execute_result"
    }
   ],
   "source": [
    "spb_flats[['total_area', 'last_price', 'rooms', 'ceiling_height']].describe()"
   ]
  },
  {
   "cell_type": "markdown",
   "metadata": {},
   "source": [
    "Сравнивая характеристики параметров центрального района и всего города можно заметить, что:\n",
    "* площадь квартир в центральном районе в среднем меньше, чем во всем городе\n",
    "* при этом цена в среднем выше для центрального района\n",
    "* колличество комнат примерно одинаковое\n",
    "* высота потолков в среднем тоже, на мой взгляд отличается незначительно"
   ]
  },
  {
   "cell_type": "code",
   "execution_count": 116,
   "metadata": {},
   "outputs": [
    {
     "data": {
      "text/plain": [
       "total_area                  0.791980\n",
       "living_area                 0.688412\n",
       "price_per_meter             0.651767\n",
       "kitchen_area                0.618811\n",
       "rooms                       0.511943\n",
       "ceiling_height              0.389959\n",
       "ponds_around3000            0.240673\n",
       "parks_around3000            0.157722\n",
       "total_images                0.142418\n",
       "days_exposition             0.113118\n",
       "floor_categorie             0.091039\n",
       "floor                       0.055086\n",
       "balcony                     0.047972\n",
       "is_apartment                0.019958\n",
       "parks_nearest               0.016061\n",
       "month_exposition           -0.004746\n",
       "ratio_living_total_area    -0.010518\n",
       "floors_total               -0.012529\n",
       "weekday_exposition         -0.015635\n",
       "airports_nearest           -0.026233\n",
       "open_plan                  -0.028945\n",
       "year_exposition            -0.049591\n",
       "studio                     -0.052693\n",
       "ratio_kitchen_total_area   -0.099135\n",
       "ponds_nearest              -0.148738\n",
       "cityCenters_nearest        -0.377857\n",
       "cityCenters_nearest_km     -0.379544\n",
       "Name: last_price, dtype: float64"
      ]
     },
     "execution_count": 116,
     "metadata": {},
     "output_type": "execute_result"
    }
   ],
   "source": [
    "central_spb_flats.corr()['last_price'].sort_values(ascending=False)[1:]"
   ]
  },
  {
   "cell_type": "code",
   "execution_count": 117,
   "metadata": {},
   "outputs": [
    {
     "data": {
      "text/plain": [
       "total_area                  0.808201\n",
       "living_area                 0.705964\n",
       "price_per_meter             0.644861\n",
       "kitchen_area                0.629812\n",
       "rooms                       0.520239\n",
       "ceiling_height              0.432764\n",
       "ponds_around3000            0.216470\n",
       "parks_around3000            0.196125\n",
       "total_images                0.139993\n",
       "days_exposition             0.108794\n",
       "floor_categorie             0.077476\n",
       "balcony                     0.034839\n",
       "floor                       0.020285\n",
       "parks_nearest               0.015596\n",
       "ratio_living_total_area     0.010317\n",
       "is_apartment                0.010075\n",
       "month_exposition           -0.004940\n",
       "weekday_exposition         -0.006175\n",
       "airports_nearest           -0.009843\n",
       "floors_total               -0.028962\n",
       "open_plan                  -0.031167\n",
       "year_exposition            -0.034605\n",
       "studio                     -0.062360\n",
       "ratio_kitchen_total_area   -0.113960\n",
       "ponds_nearest              -0.121334\n",
       "cityCenters_nearest        -0.403618\n",
       "cityCenters_nearest_km     -0.404225\n",
       "Name: last_price, dtype: float64"
      ]
     },
     "execution_count": 117,
     "metadata": {},
     "output_type": "execute_result"
    }
   ],
   "source": [
    "spb_flats.corr()['last_price'].sort_values(ascending=False)[1:]"
   ]
  },
  {
   "cell_type": "markdown",
   "metadata": {},
   "source": [
    "### Вывод\n",
    "\n",
    "Признаки, делающие наибольший вклад в формирование цены, сохранили свои позиции и для центральной части города. Как было замечено выше важнейшими признаками являются в порядке убывания: общая площадь(total_area) и от нее производные, количество комнат(rooms), высота потолков(ceiling_height), удаленность от центра(cityCenters_nearest), наличие объектов инфраструктуры для отдыха на расстоянии 3-х км(ponds_around3000, parks_around3000). \n",
    "\n",
    "Выводы сделанные на всем множестве квартир в Санкт-Петербурге можно спроецировать и на квартиры в центральном районе.\n"
   ]
  },
  {
   "cell_type": "markdown",
   "metadata": {},
   "source": [
    "### Шаг 5. Общий вывод"
   ]
  },
  {
   "cell_type": "markdown",
   "metadata": {},
   "source": [
    "В данной работе был проанализорован набор данный, частично отражающий ситуацию на рынке недвижимости Санкт-Питербурга и области за последние 5 лет. Была проделана работа по:\n",
    "* заполненнию пропущенных значений;\n",
    "* устранению ошибок в названиях населенных пунктов;\n",
    "* приведению типов;\n",
    "* добавлению новых полей.\n",
    "\n",
    "Так же были исследованы и выявлены зависимости между некоторыми параметрами недвижимости и ее стоимостью. Исследования проводились с помощью как численных методов так и с помощью графиков. По итогу, можно сказать, что параметрами вносящими наибольший вклад в стоимость квартиры являются такие параметры как: \n",
    "* общая площадь(total_area) и от нее производные;\n",
    "* количество комнат(rooms); \n",
    "* высота потолков(ceiling_height);\n",
    "* удаленность от центра(cityCenters_nearest);\n",
    "* наличие объектов инфраструктуры для отдыха на расстоянии 3-х км(ponds_around3000, parks_around3000)."
   ]
  }
 ],
 "metadata": {
  "kernelspec": {
   "display_name": "Python 3 (ipykernel)",
   "language": "python",
   "name": "python3"
  },
  "language_info": {
   "codemirror_mode": {
    "name": "ipython",
    "version": 3
   },
   "file_extension": ".py",
   "mimetype": "text/x-python",
   "name": "python",
   "nbconvert_exporter": "python",
   "pygments_lexer": "ipython3",
   "version": "3.9.7"
  }
 },
 "nbformat": 4,
 "nbformat_minor": 2
}
